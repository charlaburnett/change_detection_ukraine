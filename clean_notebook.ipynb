{
  "nbformat": 4,
  "nbformat_minor": 0,
  "metadata": {
    "colab": {
      "provenance": [],
      "authorship_tag": "ABX9TyMCWZVhOwdKFlrFcG82Oyq0",
      "include_colab_link": true
    },
    "kernelspec": {
      "name": "python3",
      "display_name": "Python 3"
    },
    "language_info": {
      "name": "python"
    }
  },
  "cells": [
    {
      "cell_type": "markdown",
      "metadata": {
        "id": "view-in-github",
        "colab_type": "text"
      },
      "source": [
        "<a href=\"https://colab.research.google.com/github/charlaburnett/change_detection_ukraine/blob/main/clean_notebook.ipynb\" target=\"_parent\"><img src=\"https://colab.research.google.com/assets/colab-badge.svg\" alt=\"Open In Colab\"/></a>"
      ]
    },
    {
      "cell_type": "code",
      "source": [
        "from google.colab import drive\n",
        "drive.mount('/content/drive', force_remount=True)\n"
      ],
      "metadata": {
        "colab": {
          "base_uri": "https://localhost:8080/",
          "height": 34
        },
        "id": "pdI2tn-8unAf",
        "outputId": "55b26cb3-0ce8-46fb-eb96-ec7a37ea37c0"
      },
      "execution_count": null,
      "outputs": [
        {
          "output_type": "display_data",
          "data": {
            "text/plain": [
              "<IPython.core.display.HTML object>"
            ],
            "text/html": [
              "\n",
              "            <style>\n",
              "                .geemap-dark {\n",
              "                    --jp-widgets-color: white;\n",
              "                    --jp-widgets-label-color: white;\n",
              "                    --jp-ui-font-color1: white;\n",
              "                    --jp-layout-color2: #454545;\n",
              "                    background-color: #383838;\n",
              "                }\n",
              "\n",
              "                .geemap-dark .jupyter-button {\n",
              "                    --jp-layout-color3: #383838;\n",
              "                }\n",
              "\n",
              "                .geemap-colab {\n",
              "                    background-color: var(--colab-primary-surface-color, white);\n",
              "                }\n",
              "\n",
              "                .geemap-colab .jupyter-button {\n",
              "                    --jp-layout-color3: var(--colab-primary-surface-color, white);\n",
              "                }\n",
              "            </style>\n",
              "            "
            ]
          },
          "metadata": {}
        },
        {
          "output_type": "stream",
          "name": "stdout",
          "text": [
            "Mounted at /content/drive\n"
          ]
        }
      ]
    },
    {
      "cell_type": "code",
      "source": [
        "import sys\n",
        "sys.path.append('/content/drive/MyDrive')\n",
        "\n",
        "from credentials import config\n"
      ],
      "metadata": {
        "colab": {
          "base_uri": "https://localhost:8080/",
          "height": 17
        },
        "id": "FJb9W4jIuK-6",
        "outputId": "0151eefb-8049-430f-b0a6-a103136ec6c2"
      },
      "execution_count": null,
      "outputs": [
        {
          "output_type": "display_data",
          "data": {
            "text/plain": [
              "<IPython.core.display.HTML object>"
            ],
            "text/html": [
              "\n",
              "            <style>\n",
              "                .geemap-dark {\n",
              "                    --jp-widgets-color: white;\n",
              "                    --jp-widgets-label-color: white;\n",
              "                    --jp-ui-font-color1: white;\n",
              "                    --jp-layout-color2: #454545;\n",
              "                    background-color: #383838;\n",
              "                }\n",
              "\n",
              "                .geemap-dark .jupyter-button {\n",
              "                    --jp-layout-color3: #383838;\n",
              "                }\n",
              "\n",
              "                .geemap-colab {\n",
              "                    background-color: var(--colab-primary-surface-color, white);\n",
              "                }\n",
              "\n",
              "                .geemap-colab .jupyter-button {\n",
              "                    --jp-layout-color3: var(--colab-primary-surface-color, white);\n",
              "                }\n",
              "            </style>\n",
              "            "
            ]
          },
          "metadata": {}
        }
      ]
    },
    {
      "cell_type": "code",
      "source": [
        "import ee\n",
        "ee.Authenticate()\n",
        "ee.Initialize(project='gee-charlaburnett')"
      ],
      "metadata": {
        "colab": {
          "base_uri": "https://localhost:8080/",
          "height": 17
        },
        "id": "_wsUXj_YvQ9i",
        "outputId": "f930a631-0366-47b0-97fc-4ab545008cb0"
      },
      "execution_count": null,
      "outputs": [
        {
          "output_type": "display_data",
          "data": {
            "text/plain": [
              "<IPython.core.display.HTML object>"
            ],
            "text/html": [
              "\n",
              "            <style>\n",
              "                .geemap-dark {\n",
              "                    --jp-widgets-color: white;\n",
              "                    --jp-widgets-label-color: white;\n",
              "                    --jp-ui-font-color1: white;\n",
              "                    --jp-layout-color2: #454545;\n",
              "                    background-color: #383838;\n",
              "                }\n",
              "\n",
              "                .geemap-dark .jupyter-button {\n",
              "                    --jp-layout-color3: #383838;\n",
              "                }\n",
              "\n",
              "                .geemap-colab {\n",
              "                    background-color: var(--colab-primary-surface-color, white);\n",
              "                }\n",
              "\n",
              "                .geemap-colab .jupyter-button {\n",
              "                    --jp-layout-color3: var(--colab-primary-surface-color, white);\n",
              "                }\n",
              "            </style>\n",
              "            "
            ]
          },
          "metadata": {}
        }
      ]
    },
    {
      "cell_type": "code",
      "source": [
        "import ee\n",
        "\n",
        "mariupol = ee.Geometry.Rectangle([37.4, 46.8, 37.7, 47.2])\n",
        "\n",
        "pre_start = '2021-01-01'\n",
        "pre_end = '2021-03-01'\n",
        "post_start = '2022-05-01'\n",
        "post_end = '2022-07-01'"
      ],
      "metadata": {
        "colab": {
          "base_uri": "https://localhost:8080/",
          "height": 17
        },
        "id": "WolRpLetwldA",
        "outputId": "cceeb35e-88cc-4df5-bc0d-60b811f33748"
      },
      "execution_count": null,
      "outputs": [
        {
          "output_type": "display_data",
          "data": {
            "text/plain": [
              "<IPython.core.display.HTML object>"
            ],
            "text/html": [
              "\n",
              "            <style>\n",
              "                .geemap-dark {\n",
              "                    --jp-widgets-color: white;\n",
              "                    --jp-widgets-label-color: white;\n",
              "                    --jp-ui-font-color1: white;\n",
              "                    --jp-layout-color2: #454545;\n",
              "                    background-color: #383838;\n",
              "                }\n",
              "\n",
              "                .geemap-dark .jupyter-button {\n",
              "                    --jp-layout-color3: #383838;\n",
              "                }\n",
              "\n",
              "                .geemap-colab {\n",
              "                    background-color: var(--colab-primary-surface-color, white);\n",
              "                }\n",
              "\n",
              "                .geemap-colab .jupyter-button {\n",
              "                    --jp-layout-color3: var(--colab-primary-surface-color, white);\n",
              "                }\n",
              "            </style>\n",
              "            "
            ]
          },
          "metadata": {}
        }
      ]
    },
    {
      "cell_type": "code",
      "source": [
        "def get_s1_vv(start, end):\n",
        "    return (ee.ImageCollection('COPERNICUS/S1_GRD')\n",
        "            .filterBounds(mariupol)\n",
        "            .filterDate(start, end)\n",
        "            .filter(ee.Filter.eq('instrumentMode', 'IW'))\n",
        "            .filter(ee.Filter.listContains('transmitterReceiverPolarisation', 'VV'))\n",
        "            .select('VV')\n",
        "            .mean())\n",
        "\n",
        "\n",
        "pre_image = get_s1_vv(pre_start, pre_end)\n",
        "post_image = get_s1_vv(post_start, post_end)\n"
      ],
      "metadata": {
        "colab": {
          "base_uri": "https://localhost:8080/",
          "height": 17
        },
        "id": "7XpL4cM1yRjr",
        "outputId": "0f4be33d-b557-42e7-d012-ac356070f4ec"
      },
      "execution_count": null,
      "outputs": [
        {
          "output_type": "display_data",
          "data": {
            "text/plain": [
              "<IPython.core.display.HTML object>"
            ],
            "text/html": [
              "\n",
              "            <style>\n",
              "                .geemap-dark {\n",
              "                    --jp-widgets-color: white;\n",
              "                    --jp-widgets-label-color: white;\n",
              "                    --jp-ui-font-color1: white;\n",
              "                    --jp-layout-color2: #454545;\n",
              "                    background-color: #383838;\n",
              "                }\n",
              "\n",
              "                .geemap-dark .jupyter-button {\n",
              "                    --jp-layout-color3: #383838;\n",
              "                }\n",
              "\n",
              "                .geemap-colab {\n",
              "                    background-color: var(--colab-primary-surface-color, white);\n",
              "                }\n",
              "\n",
              "                .geemap-colab .jupyter-button {\n",
              "                    --jp-layout-color3: var(--colab-primary-surface-color, white);\n",
              "                }\n",
              "            </style>\n",
              "            "
            ]
          },
          "metadata": {}
        }
      ]
    },
    {
      "cell_type": "code",
      "source": [
        "change_image = post_image.subtract(pre_image)"
      ],
      "metadata": {
        "colab": {
          "base_uri": "https://localhost:8080/",
          "height": 17
        },
        "id": "YWIt9hDgy9g4",
        "outputId": "36c55b3b-ccf8-4018-83ad-1d35e37247cd"
      },
      "execution_count": null,
      "outputs": [
        {
          "output_type": "display_data",
          "data": {
            "text/plain": [
              "<IPython.core.display.HTML object>"
            ],
            "text/html": [
              "\n",
              "            <style>\n",
              "                .geemap-dark {\n",
              "                    --jp-widgets-color: white;\n",
              "                    --jp-widgets-label-color: white;\n",
              "                    --jp-ui-font-color1: white;\n",
              "                    --jp-layout-color2: #454545;\n",
              "                    background-color: #383838;\n",
              "                }\n",
              "\n",
              "                .geemap-dark .jupyter-button {\n",
              "                    --jp-layout-color3: #383838;\n",
              "                }\n",
              "\n",
              "                .geemap-colab {\n",
              "                    background-color: var(--colab-primary-surface-color, white);\n",
              "                }\n",
              "\n",
              "                .geemap-colab .jupyter-button {\n",
              "                    --jp-layout-color3: var(--colab-primary-surface-color, white);\n",
              "                }\n",
              "            </style>\n",
              "            "
            ]
          },
          "metadata": {}
        }
      ]
    },
    {
      "cell_type": "code",
      "source": [
        "import geemap\n",
        "\n",
        "Map = geemap.Map(center = [47.1, 37.55], zoom= 11)\n",
        "\n",
        "vis_params = {\n",
        "    'min': -2,\n",
        "    'max': 2,\n",
        "    'palette': ['blue', 'white', 'red']\n",
        "}\n",
        "\n",
        "Map.addLayer(change_image, vis_params, 'SAR Change Detection')\n",
        "Map.addLayerControl()\n",
        "Map"
      ],
      "metadata": {
        "colab": {
          "base_uri": "https://localhost:8080/",
          "height": 621,
          "referenced_widgets": [
            "7116113605ac47ab99da80a5301e45e4",
            "6aca220238374bcea72a413747852580",
            "b0687e741cdc487d8065072f6057a868",
            "6efdf96cd4754d099a6138faddb722c6",
            "61895c2e4b224d3bae3ec8f1c8767155",
            "9d281a4505784080adbe3185e132abfd",
            "4852d4f133de45048c1554f557bb5141",
            "d4ec960faa0f4c6d8f45a162106dd1bb",
            "e40852cda8044cfa9cb590eb64907d3a",
            "90cbb369bbfc4da59503f728b1b49afb",
            "9949c4fb2d2649e398e6b0cbc17a73bb",
            "bca23dc9510243b6891134227f07940b",
            "a20053ee39e447eda185676d5621c108",
            "a00cb8dff5de428f9649b8940517c269",
            "5a3a84dfc6dd435d9b139f850e86c3c1",
            "a419d28107b848278d5f3af96de1e87e",
            "c4cec00467224766bf36dcd80171e35b",
            "0dcbc668f8964e75b37b10b0b80fede2",
            "52ffce40e97241a592773cc33c46825d",
            "6011bea75d384ee5a7a6c28a2be5f6b1",
            "2af94f1d733146eda1ac18d1f4aca809",
            "04b4185bf2b44c00ad60b1d941891bd4",
            "e7ae9ca2dbd6459bbf3507f71228496d",
            "86d895c3d2db4068be9d8b2691526b1b",
            "172e500db0aa4af288a1efee496d923b",
            "54fe096351484a33828ecb69a5c49ea3",
            "9193deb58a774292bd6bb3274e628bc2",
            "9f5f3ff1417448ceb2b2c27fe7fac05c",
            "6cf4971708374882bbff9d5a8e7d2a29",
            "5eac0d2d4dd54928a47c9de1ac1c5902",
            "b193e3858b4744bb949c67d0ca0985e0",
            "c35b8e914e3e41f0910716fa582916a4",
            "35903fe47aaa4260a3efdc4052c1a375",
            "738558d302ac4752a14c270ae434a1ae",
            "478067f384044c24b6a97b3e172abcc8",
            "d2d2e9b8379840a5a0cc416e4b91d94f",
            "82e670272eb647e1b10501f8bc848f61",
            "8be583651b4846dab7bfd237d51b8909",
            "d3f7b0347b724adb9830cec0fdb81ad8",
            "9d95acc07a024b599c83c5544928c6bb",
            "88edf039a5584529920501329c6de8a8",
            "f34042a174034b28ab64a8488faed747",
            "a60ef77f950f42bf9d34a1f0f78ea26a",
            "df7d420ac19e4ffaa6d7ec86f366c2c1",
            "c01d90178278472a9baf09265bae0f7f",
            "faaa7a2ea3264e3b91ddb8d43c09f3df",
            "8fdb333f50344b449c0e3897d8cf8129",
            "7b69fe13ebde48fa84aff7834f338b77",
            "7128248ae7e540e3b7c0cb4bca301da6",
            "64ce08bda14141548e99a64e143ade18",
            "39df4a13e8f14298a588b753d95b63ec",
            "c94e7e88f07648978730ea694a434e58",
            "97ba51c835c445108f9c7adf92ddc8a0",
            "78736d8465a5472686486d92e90788db",
            "05102cad5a794cf7827daff8240c1e31",
            "e9ee2fd3d5ea44128aadbbcecac2c37a",
            "f209cfa1ce444e75aa6687978abd4b42",
            "f6836c402d4342f29090c8a0d59522f5",
            "7c8d197826794790931f103baa8495b1",
            "cb8006db7ad846a6af8f2281d7f481b5",
            "25801c85603e47f69afcfdeba2e266ac",
            "dffd92b2d2c0462f92cfb8946254b453",
            "e51908f004ab4790b068bb3e54a7db7e",
            "d214968aaaf9403a91bbaf9daf1507aa",
            "f3757aaa25904fb18977237414efe483",
            "39c963f8ae9c4ea58a7e4c9e22cb44a7",
            "1bdad822542c4b268ec6031a66c48e87",
            "0670566a3b4b4c61a0dbc220a62ca075",
            "b17c666ae3e24a78aa4968514f5ae65b",
            "29e85d9fe80244e685056657f87d0695",
            "89e3f5e7462247608c0e8d163058c8aa",
            "81cf63f897414f32857964830a83a3e8",
            "af71a13406bc421fb6df3bb3e65d02d7",
            "0dfa9ddacd9540569a143748d24e8a3c",
            "cf0fd9c60302475ab97dfaf8548dee0f",
            "e6538986d3ff4fc683d33ee141e9e0d8"
          ]
        },
        "id": "DmJLKaJazhYl",
        "outputId": "cd90ad54-bfdb-4f27-874b-f931f619d361"
      },
      "execution_count": null,
      "outputs": [
        {
          "output_type": "display_data",
          "data": {
            "text/plain": [
              "<IPython.core.display.HTML object>"
            ],
            "text/html": [
              "\n",
              "            <style>\n",
              "                .geemap-dark {\n",
              "                    --jp-widgets-color: white;\n",
              "                    --jp-widgets-label-color: white;\n",
              "                    --jp-ui-font-color1: white;\n",
              "                    --jp-layout-color2: #454545;\n",
              "                    background-color: #383838;\n",
              "                }\n",
              "\n",
              "                .geemap-dark .jupyter-button {\n",
              "                    --jp-layout-color3: #383838;\n",
              "                }\n",
              "\n",
              "                .geemap-colab {\n",
              "                    background-color: var(--colab-primary-surface-color, white);\n",
              "                }\n",
              "\n",
              "                .geemap-colab .jupyter-button {\n",
              "                    --jp-layout-color3: var(--colab-primary-surface-color, white);\n",
              "                }\n",
              "            </style>\n",
              "            "
            ]
          },
          "metadata": {}
        },
        {
          "output_type": "display_data",
          "data": {
            "text/plain": [
              "Map(center=[47.1, 37.55], controls=(WidgetControl(options=['position', 'transparent_bg'], widget=SearchDataGUI…"
            ],
            "application/vnd.jupyter.widget-view+json": {
              "version_major": 2,
              "version_minor": 0,
              "model_id": "7116113605ac47ab99da80a5301e45e4"
            }
          },
          "metadata": {
            "application/vnd.jupyter.widget-view+json": {
              "colab": {
                "custom_widget_manager": {
                  "url": "https://ssl.gstatic.com/colaboratory-static/widgets/colab-cdn-widget-manager/2b70e893a8ba7c0f/manager.min.js"
                }
              }
            }
          }
        }
      ]
    },
    {
      "cell_type": "code",
      "source": [
        "change_red_only = change_image.updateMask(change_image.gt(1.0))\n",
        "red_vis = {\n",
        "    'min': 0.5,\n",
        "    'max': 2,\n",
        "    'palette': ['red']\n",
        "}"
      ],
      "metadata": {
        "colab": {
          "base_uri": "https://localhost:8080/",
          "height": 17
        },
        "id": "gVZD1x6S0ICE",
        "outputId": "dd46e479-67a6-46f1-d654-721ae3936c2a"
      },
      "execution_count": null,
      "outputs": [
        {
          "output_type": "display_data",
          "data": {
            "text/plain": [
              "<IPython.core.display.HTML object>"
            ],
            "text/html": [
              "\n",
              "            <style>\n",
              "                .geemap-dark {\n",
              "                    --jp-widgets-color: white;\n",
              "                    --jp-widgets-label-color: white;\n",
              "                    --jp-ui-font-color1: white;\n",
              "                    --jp-layout-color2: #454545;\n",
              "                    background-color: #383838;\n",
              "                }\n",
              "\n",
              "                .geemap-dark .jupyter-button {\n",
              "                    --jp-layout-color3: #383838;\n",
              "                }\n",
              "\n",
              "                .geemap-colab {\n",
              "                    background-color: var(--colab-primary-surface-color, white);\n",
              "                }\n",
              "\n",
              "                .geemap-colab .jupyter-button {\n",
              "                    --jp-layout-color3: var(--colab-primary-surface-color, white);\n",
              "                }\n",
              "            </style>\n",
              "            "
            ]
          },
          "metadata": {}
        }
      ]
    },
    {
      "cell_type": "code",
      "source": [
        "Map_red = geemap.Map(center=[47.1, 37.55], zoom=11, basemap='SATELLITE')\n",
        "\n",
        "Map_red.addLayer(change_red_only, red_vis, 'Red-only Positive Change')\n",
        "Map_red.addLayerControl()\n",
        "Map_red"
      ],
      "metadata": {
        "colab": {
          "base_uri": "https://localhost:8080/",
          "height": 621,
          "referenced_widgets": [
            "8643ce199a054bb9b9e3960776aadec2",
            "c7f75a97e1434dc8b295a506be690d56",
            "e46cf06cf7904ab88fd60ce38688d44f",
            "88756be166ac45de89d82adfc381a404",
            "680ebd682b8d49978232341d2350715d",
            "2b711ebfc66344028594bf4e0685e1d0",
            "cec8c970fd4345f0b067181a62d00fcd",
            "1d693b526a714b12871f29dfd9ae7794",
            "1f38e75f964c453b93113682c3b79178",
            "6362c76e789a42ed95674857532e4430",
            "1002dd3e70b94435a1a10d945bc0eb4c",
            "021a5685709c425c92571872181ce4ea",
            "36b441fbf84a4467bd0537dbc1ba86bc",
            "7bc063462d2e4847a2de2473f74b0527",
            "65c3a1b4dc1d462e982096cfe4e74674",
            "976bfcf009e040118c2104285e142e4e",
            "ae3d30cc67964beeb5475024f6e096a3",
            "1d0e1896e5214d6392a87f909faf4208",
            "5cf5f70dd9ca4fc9b4d1069db88a3b67",
            "fe34df680532405b90d99736bb7963a2",
            "4cf102368a1b4a95834466e653d29a4e",
            "82cce22607004dd98eb7407cc586bc55",
            "4592f0b18e8b43c3a37e46c00d204486",
            "0197b8966b724498a830fbba09ad1b03",
            "8ae5e27240ef42299124a0ffc31f48b2",
            "62684b22dd844ce7ba9f6886b09bda87",
            "db032c63fec047acae4c744c833789df",
            "bf06711622a643d189bff55d078af420",
            "f4ede966c6134d608ab97fab350d56a4",
            "14e41ba9d8e649a4a20c68640fffd2fd",
            "4908ded9fc6f4b8c8ca03965585988b4",
            "a9407188fa8d47e39308cde942fd7437",
            "62a158ba0e924b62ba9c7c4071eb47a7",
            "7902d5c2b0a94042bed5553a01d4f497",
            "b2dd53da8c1842caa47fceabcc8ec8cb",
            "4584a3404c3e482486eeae6e0c327dff",
            "d6d35f2789e74abf9015a9e633d58f4c",
            "18dcfee5ad93427bafdb144d86efbc07",
            "4b5589a3c9384134a1cf3375d031c47b",
            "74452a2d5cdd4a0c8726d33c2217a56f",
            "7bd7641378b84ecda08d1ce2995213b5",
            "e340f3a45ab74ca5ba6af244d0eff0a8",
            "1b694195284f41afa9cdb97f1fee2505",
            "39d1dd3eb75a464da7edc7a8240fc27a",
            "7776bb57a055419e9a0eb6e1a4d98914",
            "df57a1cc212c4335846f83a1a5e43a54",
            "d26f5018e74441dcb958cc9c13af3fe5",
            "bcbca1aa9771403e86de665040b06bc2",
            "6bc857ad91e24d96b26ef48b54204ae8",
            "80974efaaa454b23b89093863c829107",
            "7cddd30eb74840d79a8acae6493ffa39",
            "f64f48b3ed6249d0aea8fca24ed4ed5c",
            "b7bf59e887b447d89d8cdded76f58536",
            "7302e2e6a2f240ed8d846b202dde239e",
            "c28d09d8104743aeaed62e8dad927647",
            "d1824363a5824d4fa6d90773546220b9",
            "b7ba1b5025e946a8a385086480fd2f19",
            "388375e5cdf44dceac732c811df2fa09",
            "023456987dc24f04823f5ba1876d9cd6",
            "bb585b2308bc4091bd5bd113cb85a642",
            "118fb3a156584f9fa11216c0ca1c029e",
            "4067f910ff36417ea72a14d6b2cdc18d",
            "42769a1c834342bdad382a39121aaecc",
            "a22687cf98974fd7aff7f3343f4da98e",
            "069c1e80a86541c4a76febd1f58ad7f8",
            "a7e827089be6437bab87a7731e55a887",
            "833c78a09264462a85a531493ca26a13",
            "cb382b2b42f04065b1daf28dff883153",
            "e0996edbabd14ceebca9c630ff8fa134",
            "2d7f1f2fa99a437f94cc9a361ac8da40",
            "09dd6dc1e2964dd4982855102ed80f6a",
            "04e9eb62b19a4d199d887241a6fae65c",
            "734879bd0020457fb73e367d6afd1fc5",
            "1cfd96d7069c4ebfa6071cc0d20c4a9f",
            "d509b25861814efb8544637d1efa1504",
            "4ef81d13b01040a2b13ff5dd657f1144"
          ]
        },
        "id": "YZHUoJar01Zl",
        "outputId": "d3f3566b-4b40-499f-9baf-b5dde22f4e01"
      },
      "execution_count": null,
      "outputs": [
        {
          "output_type": "display_data",
          "data": {
            "text/plain": [
              "<IPython.core.display.HTML object>"
            ],
            "text/html": [
              "\n",
              "            <style>\n",
              "                .geemap-dark {\n",
              "                    --jp-widgets-color: white;\n",
              "                    --jp-widgets-label-color: white;\n",
              "                    --jp-ui-font-color1: white;\n",
              "                    --jp-layout-color2: #454545;\n",
              "                    background-color: #383838;\n",
              "                }\n",
              "\n",
              "                .geemap-dark .jupyter-button {\n",
              "                    --jp-layout-color3: #383838;\n",
              "                }\n",
              "\n",
              "                .geemap-colab {\n",
              "                    background-color: var(--colab-primary-surface-color, white);\n",
              "                }\n",
              "\n",
              "                .geemap-colab .jupyter-button {\n",
              "                    --jp-layout-color3: var(--colab-primary-surface-color, white);\n",
              "                }\n",
              "            </style>\n",
              "            "
            ]
          },
          "metadata": {}
        },
        {
          "output_type": "display_data",
          "data": {
            "text/plain": [
              "Map(center=[47.1, 37.55], controls=(WidgetControl(options=['position', 'transparent_bg'], widget=SearchDataGUI…"
            ],
            "application/vnd.jupyter.widget-view+json": {
              "version_major": 2,
              "version_minor": 0,
              "model_id": "8643ce199a054bb9b9e3960776aadec2"
            }
          },
          "metadata": {
            "application/vnd.jupyter.widget-view+json": {
              "colab": {
                "custom_widget_manager": {
                  "url": "https://ssl.gstatic.com/colaboratory-static/widgets/colab-cdn-widget-manager/2b70e893a8ba7c0f/manager.min.js"
                }
              }
            }
          }
        }
      ]
    },
    {
      "cell_type": "code",
      "source": [
        "# Remove Watermarks\n",
        "\n",
        "landcover = ee.Image(\"ESA/WorldCover/v100/2020\")\n",
        "non_water_mask = landcover.neq(80)\n",
        "\n",
        "change_red_only_clean = change_red_only.updateMask(non_water_mask)\n"
      ],
      "metadata": {
        "colab": {
          "base_uri": "https://localhost:8080/",
          "height": 17
        },
        "id": "ZwdEwTU41Jkh",
        "outputId": "5ec392d7-34e5-4b4d-e3d6-f97b30b40aed"
      },
      "execution_count": null,
      "outputs": [
        {
          "output_type": "display_data",
          "data": {
            "text/plain": [
              "<IPython.core.display.HTML object>"
            ],
            "text/html": [
              "\n",
              "            <style>\n",
              "                .geemap-dark {\n",
              "                    --jp-widgets-color: white;\n",
              "                    --jp-widgets-label-color: white;\n",
              "                    --jp-ui-font-color1: white;\n",
              "                    --jp-layout-color2: #454545;\n",
              "                    background-color: #383838;\n",
              "                }\n",
              "\n",
              "                .geemap-dark .jupyter-button {\n",
              "                    --jp-layout-color3: #383838;\n",
              "                }\n",
              "\n",
              "                .geemap-colab {\n",
              "                    background-color: var(--colab-primary-surface-color, white);\n",
              "                }\n",
              "\n",
              "                .geemap-colab .jupyter-button {\n",
              "                    --jp-layout-color3: var(--colab-primary-surface-color, white);\n",
              "                }\n",
              "            </style>\n",
              "            "
            ]
          },
          "metadata": {}
        }
      ]
    },
    {
      "cell_type": "code",
      "source": [
        "Map_clean = geemap.Map(center = [47.1, 37.55], zoom= 11, basemap ='Esri.WorldImagery')\n",
        "Map_clean.addLayer(change_red_only_clean, red_vis, 'Cleaned Red Change')\n",
        "Map_clean.addLayerControl()\n",
        "Map_clean"
      ],
      "metadata": {
        "colab": {
          "base_uri": "https://localhost:8080/",
          "height": 621,
          "referenced_widgets": [
            "3482113a11c245aeaf565a5095585772",
            "9ace665d51684855be81f83d478c4dc5",
            "296818da537048a3921c79b235a0ef36",
            "5347715dc8ac4e6ca28180d472ead812",
            "768ad24e85ff40ec96fa0e1e40cf2ba1",
            "f7fa77382bff4bb19af3c71fe7fd6d14",
            "8e196dbf0e0e47f7b3aabd761a33fbfd",
            "1a73024b2e7e42e88fe0af5a121fcadb",
            "fcec846bd5f14333aa417350b951c4d1",
            "0bcef1a51fdb462db3d0398e9a92b057",
            "1a3b4caf7b5d4a9387bddd7779dc983e",
            "36855ff0bdcd452c9417e98514e9d5b9",
            "a3edf92792a84193a71e58749308cf41",
            "96994f4b910441539179924a06dfba97",
            "b143b501784f4da8b8a8fc3f4a3d3cae",
            "97e43b201a734798ba35e8bcf7a5ca2d",
            "8e1bdd1a0da44d3b81c996dd33d8a808",
            "fd27cbbe27fe429b8443b096794632d2",
            "e269896bc48e4abd9c2ad62b354ed23d",
            "3cf7d5e8a9f1498a86accdc8e78bdd4e",
            "c054637e82f449cea2245f0584150661",
            "4e42b700b13a4945824a0ffec07111ae",
            "558c9c4700354913a2f1b7aeafce6ae9",
            "294c81cc880c4feda5e1c32cb79b4bef",
            "899063fe5f634f33ba9acff0b965328a",
            "a7ad8e60013248b0b2a24178ae4ef09f",
            "4e3a2cdde6a0475dba95754c7b24f508",
            "07512f9e1815432fbf4634bc9ad590b0",
            "1a38ac154fb047ada53f6640f1f8081d",
            "ccebc742cbfc41aabf18cf214ac274a2",
            "86151fa717214fdc94b3cb966e526bc4",
            "92bb966893204017a13196610086070f",
            "40d135ce7fcd4081967345eae08afcd2",
            "0439f7befe36418ba212e8b438c39ab8",
            "b6fdbb6acb644f138191d6000e170602",
            "083e9dc69193439ca5c1e23a44870c9c",
            "9ec46c96617e408689ebfaa6a2d49b02",
            "b72895d6bfbd4d5a8da6094ffb87c1b2",
            "43a447d8c7484d3c8e4c8675b1915f46",
            "391d827d997541069d8f017ebd16d74a",
            "3c23e86e82af470b8c8217b6a4115399",
            "d7bba95d1168466dbad8baceed7898f6",
            "a7a10461c67547f98dee9887d8759a7c",
            "8da2d935eedf423284a69175d5be018c",
            "44144b9904824304bdccafb5890e5d5b",
            "406e77213e654d1ebe4f5bdf405d5e3d",
            "fd0a63dcb6864a66a031475e3a3c7e8e",
            "e78895a520204f54ada6187d9d923303",
            "0194c129f7104d54b5b136c6ae9c10f5",
            "e1dc8f1fba5a47c5b85f466f3078ac46",
            "c6c04f5b00584fe1beda7e9c0108adae",
            "30332cdd5bbc4f488eafc472a5493534",
            "873b282f34034caa942a57442ab64326",
            "cab0d36431454a9e87f9d15b44e07fea",
            "1508ad5a1a394911b333dfeec3ebb9c1",
            "e39eea388202485084c96a689a40350b",
            "a81bfa646a9940b48e8a654a80560e42",
            "be8985907685407782ba9216ed473dac",
            "00be2c434fa34fd0b4b61048b4fdad58",
            "1edd62745a94458fb17ac2c630574887",
            "66154083ac1e4b6dadc08d1b7e43b3ff",
            "ab68ec887e1944599f7151f7e25b0c6b",
            "dbfb868551814246b7e701994873f12e",
            "fd01682c27ce44069cf37f0d6f5c11d3",
            "92c2947451924ba8b69913be673ebfa8",
            "1248353af5bd442eba5eed9a18294592",
            "05ff85cd604c4e859b1616278860c3ad",
            "3f520775517047019af8bd36f12e8520",
            "713c8edc09ce4d279193a7fbf23d19b5",
            "0bc84d9f57cc4ca88ee559e1f70b6b46",
            "659f77263ad54379866071ecb06f11ab",
            "d0d1da0aceba41c5ac630774fe0f8ad9",
            "419a34c719874dc8aac55b05a2ce229e",
            "bf6a704bd865417197a29889756be68c",
            "814360cbac6a4a308064c59c6a13b1f5",
            "c63a27c951e046be988d2cbb18e486a0"
          ]
        },
        "id": "s0bd3noC2SL9",
        "outputId": "398855b1-9409-46e8-99e3-33bf27b661b5"
      },
      "execution_count": null,
      "outputs": [
        {
          "output_type": "display_data",
          "data": {
            "text/plain": [
              "<IPython.core.display.HTML object>"
            ],
            "text/html": [
              "\n",
              "            <style>\n",
              "                .geemap-dark {\n",
              "                    --jp-widgets-color: white;\n",
              "                    --jp-widgets-label-color: white;\n",
              "                    --jp-ui-font-color1: white;\n",
              "                    --jp-layout-color2: #454545;\n",
              "                    background-color: #383838;\n",
              "                }\n",
              "\n",
              "                .geemap-dark .jupyter-button {\n",
              "                    --jp-layout-color3: #383838;\n",
              "                }\n",
              "\n",
              "                .geemap-colab {\n",
              "                    background-color: var(--colab-primary-surface-color, white);\n",
              "                }\n",
              "\n",
              "                .geemap-colab .jupyter-button {\n",
              "                    --jp-layout-color3: var(--colab-primary-surface-color, white);\n",
              "                }\n",
              "            </style>\n",
              "            "
            ]
          },
          "metadata": {}
        },
        {
          "output_type": "display_data",
          "data": {
            "text/plain": [
              "Map(center=[47.1, 37.55], controls=(WidgetControl(options=['position', 'transparent_bg'], widget=SearchDataGUI…"
            ],
            "application/vnd.jupyter.widget-view+json": {
              "version_major": 2,
              "version_minor": 0,
              "model_id": "3482113a11c245aeaf565a5095585772"
            }
          },
          "metadata": {
            "application/vnd.jupyter.widget-view+json": {
              "colab": {
                "custom_widget_manager": {
                  "url": "https://ssl.gstatic.com/colaboratory-static/widgets/colab-cdn-widget-manager/2b70e893a8ba7c0f/manager.min.js"
                }
              }
            }
          }
        }
      ]
    },
    {
      "cell_type": "code",
      "source": [
        "## Pixel Area Changes\n",
        "\n",
        "stats = change_red_only_clean.multiply(ee.Image.pixelArea()).reduceRegion(\n",
        "    reducer=ee.Reducer.sum(),\n",
        "    geometry=mariupol,\n",
        "    scale = 10,\n",
        "    maxPixels=1e9\n",
        ")\n",
        "\n",
        "area_sq_m = stats.getInfo() ['VV']\n",
        "area_sq_km = area_sq_m/ 1e6\n",
        "\n",
        "print(f\"Total change area: {area_sq_km:.2f} sq km\")\n"
      ],
      "metadata": {
        "colab": {
          "base_uri": "https://localhost:8080/",
          "height": 34
        },
        "id": "voUJ1wer2iLi",
        "outputId": "89b00089-38b2-48dc-e898-9c204e26f18f"
      },
      "execution_count": null,
      "outputs": [
        {
          "output_type": "display_data",
          "data": {
            "text/plain": [
              "<IPython.core.display.HTML object>"
            ],
            "text/html": [
              "\n",
              "            <style>\n",
              "                .geemap-dark {\n",
              "                    --jp-widgets-color: white;\n",
              "                    --jp-widgets-label-color: white;\n",
              "                    --jp-ui-font-color1: white;\n",
              "                    --jp-layout-color2: #454545;\n",
              "                    background-color: #383838;\n",
              "                }\n",
              "\n",
              "                .geemap-dark .jupyter-button {\n",
              "                    --jp-layout-color3: #383838;\n",
              "                }\n",
              "\n",
              "                .geemap-colab {\n",
              "                    background-color: var(--colab-primary-surface-color, white);\n",
              "                }\n",
              "\n",
              "                .geemap-colab .jupyter-button {\n",
              "                    --jp-layout-color3: var(--colab-primary-surface-color, white);\n",
              "                }\n",
              "            </style>\n",
              "            "
            ]
          },
          "metadata": {}
        },
        {
          "output_type": "stream",
          "name": "stdout",
          "text": [
            "Total change area: 147.20 sq km\n"
          ]
        }
      ]
    },
    {
      "cell_type": "code",
      "source": [
        "#Focus on Urban Areas\n",
        "\n",
        "landcover = ee.Image(\"ESA/WorldCover/v100/2020\")\n",
        "\n",
        "urban_mask = landcover.eq(50)\n",
        "\n",
        "change_urban_only = change_red_only.updateMask(urban_mask)"
      ],
      "metadata": {
        "colab": {
          "base_uri": "https://localhost:8080/",
          "height": 17
        },
        "id": "QsAXoQTv3WFI",
        "outputId": "da8b81d0-760a-44cd-da17-7942ba9c6d30"
      },
      "execution_count": null,
      "outputs": [
        {
          "output_type": "display_data",
          "data": {
            "text/plain": [
              "<IPython.core.display.HTML object>"
            ],
            "text/html": [
              "\n",
              "            <style>\n",
              "                .geemap-dark {\n",
              "                    --jp-widgets-color: white;\n",
              "                    --jp-widgets-label-color: white;\n",
              "                    --jp-ui-font-color1: white;\n",
              "                    --jp-layout-color2: #454545;\n",
              "                    background-color: #383838;\n",
              "                }\n",
              "\n",
              "                .geemap-dark .jupyter-button {\n",
              "                    --jp-layout-color3: #383838;\n",
              "                }\n",
              "\n",
              "                .geemap-colab {\n",
              "                    background-color: var(--colab-primary-surface-color, white);\n",
              "                }\n",
              "\n",
              "                .geemap-colab .jupyter-button {\n",
              "                    --jp-layout-color3: var(--colab-primary-surface-color, white);\n",
              "                }\n",
              "            </style>\n",
              "            "
            ]
          },
          "metadata": {}
        }
      ]
    },
    {
      "cell_type": "code",
      "source": [
        "Map_urban = geemap.Map(center=[47.1, 37.55], zoom=11, basemap='Esri.WorldImagery')\n",
        "\n",
        "Map_urban.addLayer(change_urban_only, red_vis, 'Urban-only SAR Change')\n",
        "Map_urban.addLayerControl()\n",
        "Map_urban\n"
      ],
      "metadata": {
        "colab": {
          "base_uri": "https://localhost:8080/",
          "height": 621,
          "referenced_widgets": [
            "3f01bf3115d3446887e4554196e6867c",
            "5603e116e115420daba6dfa1c60a2331",
            "dec62edb939f44aaa1ba6e37e9890c6e",
            "dc2a32348ef6441ba6cc91795ff509f1",
            "20a72f45a6714c12a689809a9da96fb8",
            "9756a67be971432bb1ae33a468205f88",
            "b059a6bc8f06422ea9d873435d34089b",
            "74e7b34909f84cfdbd0fdcdda3ddce52",
            "01cfa966757c45de9a10fabd2dba17d2",
            "eab323b97c694b6b99c6d0fa107934d7",
            "f036d069190d44c2ac900aaeef319f2b",
            "3550937533d547b59e79b84bf35db2b6",
            "cd01b984659b45738dda5ffc9ce544f7",
            "6245ba922b974f0486540bc0f9515dc0",
            "327380a00314410dbcd17c5f06e86ea1",
            "d2fa70cfe80048b19436cedb2a47e423",
            "d80bcbc7cf3f425583e7c6771f5c42a9",
            "e6304e4fdc4549549d8905796efb05f5",
            "aa7a31d02d2f4b0da0d32860d4a55170",
            "00fd981b736b473dbcc445019cada689",
            "46bf4cfeeee8468684bff95341966cc6",
            "114a939c1cdc41baa93e9c2012c10707",
            "f657a89a41ca472890629bbcc2442c2d",
            "d7eb7ea717c5499b9c046c69a0cc958e",
            "e7ee375835b14daabbb2b5aa672d36ee",
            "24a41ac0d6594234835a1c117c58c2a2",
            "454a34085da54f628017da25f95a6349",
            "50d94fd8baba485aa39b495570c68c44",
            "83b693df85b04f36b4ca0f4d2cf4e649",
            "737ca1e0556843b9ba8e40a92ab56df7",
            "850da6650fef4a67baa0c419d7dcd605",
            "3198334b8ab942719e5245978a453d6a",
            "1a10f8843dc44abbabd433192ed4f266",
            "a8af0c9ea9214d81a3c37a826c5042d5",
            "cf8939350f7a4e25890d603586640ab6",
            "50ee8db0398040a7a9fc183449ab4575",
            "eba2f7043acb4bf189c27ac882e4cb3b",
            "4c77f0366c464dbeaea07e6029b59367",
            "4b14423d115242ec8653f641670d7f45",
            "55a4273a15f74d378111f794859c6261",
            "bda35cf1ce1242a387d0b6f00b9a660e",
            "0619a1d1cbaa4e14992f43f7d4e18a78",
            "7b4cc12cb3f248bcbfa375ee0991d05c",
            "752cfa5688d54ccd8f40842c1b114a97",
            "4e5ab0c21ba24b74aa1163f7f8d586d5",
            "8e3c0a2a00e540fa9d73741ec0383edc",
            "3d767bb5742f4bec86c6707b12193269",
            "bf1e11a296414105a9f2de50737db9e7",
            "bdd2b876fc5d4bcf835965167af65dbc",
            "82c4c186463a4e369e00eeda47978335",
            "d21dcfbd582c4cdf9051bd0d60ffc0ee",
            "334fd78c6122431e93e16d65faa75fc4",
            "08ebbea96e9d466d882b41de80bb2da7",
            "866f01e0cf1e432ea1c03383e5fd966a",
            "facee0d51b6e47868976b944a8558de8",
            "90c8755f54e348abac4b1245a2c4c315",
            "8c9555e230bd4036a129c1c3b9556244",
            "02f6138723874531beeb7ff9773c9f65",
            "3bee85e6734b4fe2b190e990897a759d",
            "1d60c0a928984a9da4f63636dccec98a",
            "8a32ac26c92a44f48ae63e7f6eceb8ca",
            "e12ff67d4bc346e082047f4d7d659f80",
            "d72120a3dead4f13b71f29f9816a27ca",
            "820dfefe9f5641e9ba21fd8ae1122513",
            "f6a87b4b63c3466094109e6f15fd56ec",
            "c64bbfff39ca475fa37e458dcc04cd0e",
            "f5732603299749a5ac4d443d8bc2bf59",
            "87641f28ddc743cfb346a377ecea6600",
            "c869799ac1c846b6a1508ce86a116ef8",
            "45f502a804884d698d7b3f18809699f8",
            "99c5064318034d2bb5fea4ed6f5b3fdb",
            "1ec1165ced6b43a5bff952c541ae1c6c",
            "c34e2eabe7c24777b5fb82444571f839",
            "baf9257409ba49d09b3d2a4aaea46267",
            "4b20de62c9724e3baecb2bfa441e6093",
            "2f1146feb7c24ea89ed5d65b7fbc314c"
          ]
        },
        "id": "AVTTGjRR446R",
        "outputId": "d4fcf182-94ab-4f50-bbe0-8e5b4049e55e"
      },
      "execution_count": null,
      "outputs": [
        {
          "output_type": "display_data",
          "data": {
            "text/plain": [
              "<IPython.core.display.HTML object>"
            ],
            "text/html": [
              "\n",
              "            <style>\n",
              "                .geemap-dark {\n",
              "                    --jp-widgets-color: white;\n",
              "                    --jp-widgets-label-color: white;\n",
              "                    --jp-ui-font-color1: white;\n",
              "                    --jp-layout-color2: #454545;\n",
              "                    background-color: #383838;\n",
              "                }\n",
              "\n",
              "                .geemap-dark .jupyter-button {\n",
              "                    --jp-layout-color3: #383838;\n",
              "                }\n",
              "\n",
              "                .geemap-colab {\n",
              "                    background-color: var(--colab-primary-surface-color, white);\n",
              "                }\n",
              "\n",
              "                .geemap-colab .jupyter-button {\n",
              "                    --jp-layout-color3: var(--colab-primary-surface-color, white);\n",
              "                }\n",
              "            </style>\n",
              "            "
            ]
          },
          "metadata": {}
        },
        {
          "output_type": "display_data",
          "data": {
            "text/plain": [
              "Map(center=[47.1, 37.55], controls=(WidgetControl(options=['position', 'transparent_bg'], widget=SearchDataGUI…"
            ],
            "application/vnd.jupyter.widget-view+json": {
              "version_major": 2,
              "version_minor": 0,
              "model_id": "3f01bf3115d3446887e4554196e6867c"
            }
          },
          "metadata": {
            "application/vnd.jupyter.widget-view+json": {
              "colab": {
                "custom_widget_manager": {
                  "url": "https://ssl.gstatic.com/colaboratory-static/widgets/colab-cdn-widget-manager/2b70e893a8ba7c0f/manager.min.js"
                }
              }
            }
          }
        }
      ]
    },
    {
      "cell_type": "code",
      "source": [
        "stats = change_urban_only.multiply(ee.Image.pixelArea()).reduceRegion(\n",
        "    reducer=ee.Reducer.sum(),\n",
        "    geometry=mariupol,\n",
        "    scale=10,\n",
        "    maxPixels=1e9\n",
        ")\n",
        "\n",
        "area_sq_m = stats.getInfo()['VV']\n",
        "area_sq_km = area_sq_m / 1e6\n",
        "print(f\"Urban change area: {area_sq_km:.2f} sq km \")"
      ],
      "metadata": {
        "colab": {
          "base_uri": "https://localhost:8080/",
          "height": 34
        },
        "id": "p0v8u2UT5Qgd",
        "outputId": "ab15f7c4-c601-4f5b-f8ab-203a2bca5572"
      },
      "execution_count": null,
      "outputs": [
        {
          "output_type": "display_data",
          "data": {
            "text/plain": [
              "<IPython.core.display.HTML object>"
            ],
            "text/html": [
              "\n",
              "            <style>\n",
              "                .geemap-dark {\n",
              "                    --jp-widgets-color: white;\n",
              "                    --jp-widgets-label-color: white;\n",
              "                    --jp-ui-font-color1: white;\n",
              "                    --jp-layout-color2: #454545;\n",
              "                    background-color: #383838;\n",
              "                }\n",
              "\n",
              "                .geemap-dark .jupyter-button {\n",
              "                    --jp-layout-color3: #383838;\n",
              "                }\n",
              "\n",
              "                .geemap-colab {\n",
              "                    background-color: var(--colab-primary-surface-color, white);\n",
              "                }\n",
              "\n",
              "                .geemap-colab .jupyter-button {\n",
              "                    --jp-layout-color3: var(--colab-primary-surface-color, white);\n",
              "                }\n",
              "            </style>\n",
              "            "
            ]
          },
          "metadata": {}
        },
        {
          "output_type": "stream",
          "name": "stdout",
          "text": [
            "Urban change area: 43.26 sq km \n"
          ]
        }
      ]
    },
    {
      "cell_type": "code",
      "source": [
        "total_area_m2 = ee.Image.pixelArea().reduceRegion(\n",
        "    reducer=ee.Reducer.sum(),\n",
        "    geometry=mariupol,\n",
        "    scale=10,\n",
        "    maxPixels=1e9,\n",
        ").getInfo()['area']\n",
        "\n",
        "total_area_km2 = total_area_m2 /1e6"
      ],
      "metadata": {
        "colab": {
          "base_uri": "https://localhost:8080/",
          "height": 17
        },
        "id": "7gbumlwl6FJB",
        "outputId": "3fa49791-6a00-4678-f0da-faba54ae339a"
      },
      "execution_count": null,
      "outputs": [
        {
          "output_type": "display_data",
          "data": {
            "text/plain": [
              "<IPython.core.display.HTML object>"
            ],
            "text/html": [
              "\n",
              "            <style>\n",
              "                .geemap-dark {\n",
              "                    --jp-widgets-color: white;\n",
              "                    --jp-widgets-label-color: white;\n",
              "                    --jp-ui-font-color1: white;\n",
              "                    --jp-layout-color2: #454545;\n",
              "                    background-color: #383838;\n",
              "                }\n",
              "\n",
              "                .geemap-dark .jupyter-button {\n",
              "                    --jp-layout-color3: #383838;\n",
              "                }\n",
              "\n",
              "                .geemap-colab {\n",
              "                    background-color: var(--colab-primary-surface-color, white);\n",
              "                }\n",
              "\n",
              "                .geemap-colab .jupyter-button {\n",
              "                    --jp-layout-color3: var(--colab-primary-surface-color, white);\n",
              "                }\n",
              "            </style>\n",
              "            "
            ]
          },
          "metadata": {}
        }
      ]
    },
    {
      "cell_type": "code",
      "source": [
        "percent_changed = (area_sq_km / total_area_km2) * 100\n",
        "print(f\"Urban change area: {area_sq_km:.2f} sq km\")\n",
        "print(f\"That's approximately {percent_changed:.1f}% of the AOI ({total_area_km2:.2f} sq km).\")"
      ],
      "metadata": {
        "colab": {
          "base_uri": "https://localhost:8080/",
          "height": 52
        },
        "id": "L0Z6Hh5h60xJ",
        "outputId": "2239a294-2db4-4e8e-82fc-5aa987a29690"
      },
      "execution_count": null,
      "outputs": [
        {
          "output_type": "display_data",
          "data": {
            "text/plain": [
              "<IPython.core.display.HTML object>"
            ],
            "text/html": [
              "\n",
              "            <style>\n",
              "                .geemap-dark {\n",
              "                    --jp-widgets-color: white;\n",
              "                    --jp-widgets-label-color: white;\n",
              "                    --jp-ui-font-color1: white;\n",
              "                    --jp-layout-color2: #454545;\n",
              "                    background-color: #383838;\n",
              "                }\n",
              "\n",
              "                .geemap-dark .jupyter-button {\n",
              "                    --jp-layout-color3: #383838;\n",
              "                }\n",
              "\n",
              "                .geemap-colab {\n",
              "                    background-color: var(--colab-primary-surface-color, white);\n",
              "                }\n",
              "\n",
              "                .geemap-colab .jupyter-button {\n",
              "                    --jp-layout-color3: var(--colab-primary-surface-color, white);\n",
              "                }\n",
              "            </style>\n",
              "            "
            ]
          },
          "metadata": {}
        },
        {
          "output_type": "stream",
          "name": "stdout",
          "text": [
            "Urban change area: 43.26 sq km\n",
            "That's approximately 4.3% of the AOI (1014.62 sq km).\n"
          ]
        }
      ]
    },
    {
      "cell_type": "code",
      "source": [
        " ghsl = ee.Image(\"JRC/GHSL/P2016/BUILT_LDSMT_GLOBE_V1\") \\\n",
        "    .select('built') \\\n",
        "    .gt(0)  # Pixels with any built-up value\n"
      ],
      "metadata": {
        "colab": {
          "base_uri": "https://localhost:8080/",
          "height": 17
        },
        "id": "LLrZ2k0PAkKS",
        "outputId": "31b63c89-b8cd-40cf-abd2-26302368c806"
      },
      "execution_count": null,
      "outputs": [
        {
          "output_type": "display_data",
          "data": {
            "text/plain": [
              "<IPython.core.display.HTML object>"
            ],
            "text/html": [
              "\n",
              "            <style>\n",
              "                .geemap-dark {\n",
              "                    --jp-widgets-color: white;\n",
              "                    --jp-widgets-label-color: white;\n",
              "                    --jp-ui-font-color1: white;\n",
              "                    --jp-layout-color2: #454545;\n",
              "                    background-color: #383838;\n",
              "                }\n",
              "\n",
              "                .geemap-dark .jupyter-button {\n",
              "                    --jp-layout-color3: #383838;\n",
              "                }\n",
              "\n",
              "                .geemap-colab {\n",
              "                    background-color: var(--colab-primary-surface-color, white);\n",
              "                }\n",
              "\n",
              "                .geemap-colab .jupyter-button {\n",
              "                    --jp-layout-color3: var(--colab-primary-surface-color, white);\n",
              "                }\n",
              "            </style>\n",
              "            "
            ]
          },
          "metadata": {}
        }
      ]
    },
    {
      "cell_type": "code",
      "source": [
        "\n",
        "change_area_stats = change_urban_builtup.multiply(ee.Image.pixelArea()).reduceRegion(\n",
        "    reducer=ee.Reducer.sum(),\n",
        "    geometry=mariupol_aoi,\n",
        "    scale=10,\n",
        "    maxPixels=1e9\n",
        ")\n",
        "\n",
        "change_km2 = change_area_stats.getInfo()['VV'] / 1e6\n",
        "\n",
        "ghsl_mask_named = ghsl.updateMask(ghsl).rename('built')\n",
        "\n",
        "\n",
        "urban_area_stats = ghsl_mask_named.multiply(ee.Image.pixelArea()).reduceRegion(\n",
        "    reducer=ee.Reducer.sum(),\n",
        "    geometry=mariupol_aoi,\n",
        "    scale=10,\n",
        "    maxPixels=1e9\n",
        ")\n",
        "\n",
        "urban_km2 = urban_area_stats.getInfo()['built'] / 1e6\n",
        "\n",
        "percent_change = (change_km2 / urban_km2) * 100\n",
        "\n",
        "print(f\"Urban SAR change: {change_km2:.2f} sq km\")\n",
        "print(f\"Total built-up area: {urban_km2:.2f} sq km\")\n",
        "print(f\"That's {percent_change:.1f}% of built-up Mariupol.\")\n",
        "\n"
      ],
      "metadata": {
        "colab": {
          "base_uri": "https://localhost:8080/",
          "height": 69
        },
        "id": "BBRw9egf9Ldn",
        "outputId": "7e2f17ca-8564-4aee-ab71-4d03c5ed4e96"
      },
      "execution_count": null,
      "outputs": [
        {
          "output_type": "display_data",
          "data": {
            "text/plain": [
              "<IPython.core.display.HTML object>"
            ],
            "text/html": [
              "\n",
              "            <style>\n",
              "                .geemap-dark {\n",
              "                    --jp-widgets-color: white;\n",
              "                    --jp-widgets-label-color: white;\n",
              "                    --jp-ui-font-color1: white;\n",
              "                    --jp-layout-color2: #454545;\n",
              "                    background-color: #383838;\n",
              "                }\n",
              "\n",
              "                .geemap-dark .jupyter-button {\n",
              "                    --jp-layout-color3: #383838;\n",
              "                }\n",
              "\n",
              "                .geemap-colab {\n",
              "                    background-color: var(--colab-primary-surface-color, white);\n",
              "                }\n",
              "\n",
              "                .geemap-colab .jupyter-button {\n",
              "                    --jp-layout-color3: var(--colab-primary-surface-color, white);\n",
              "                }\n",
              "            </style>\n",
              "            "
            ]
          },
          "metadata": {}
        },
        {
          "output_type": "stream",
          "name": "stdout",
          "text": [
            "Urban SAR change: 64.89 sq km\n",
            "Total built-up area: 172.13 sq km\n",
            "That's 37.7% of built-up Mariupol.\n"
          ]
        }
      ]
    },
    {
      "cell_type": "code",
      "source": [
        "!jupyter nbconvert \\\n",
        "  --ClearMetadataPreprocessor.enabled=True \\\n",
        "  --ClearOutputPreprocessor.enabled=True \\\n",
        "  --to notebook \\\n",
        "  --output clean_notebook.ipynb \\\n",
        "  change-detection-ukraine.ipynb"
      ],
      "metadata": {
        "colab": {
          "base_uri": "https://localhost:8080/",
          "height": 1000
        },
        "id": "U0X87NxdBwxL",
        "outputId": "b3a71a1a-1ca4-4656-d023-2705de5a5f68"
      },
      "execution_count": null,
      "outputs": [
        {
          "output_type": "display_data",
          "data": {
            "text/plain": [
              "<IPython.core.display.HTML object>"
            ],
            "text/html": [
              "\n",
              "            <style>\n",
              "                .geemap-dark {\n",
              "                    --jp-widgets-color: white;\n",
              "                    --jp-widgets-label-color: white;\n",
              "                    --jp-ui-font-color1: white;\n",
              "                    --jp-layout-color2: #454545;\n",
              "                    background-color: #383838;\n",
              "                }\n",
              "\n",
              "                .geemap-dark .jupyter-button {\n",
              "                    --jp-layout-color3: #383838;\n",
              "                }\n",
              "\n",
              "                .geemap-colab {\n",
              "                    background-color: var(--colab-primary-surface-color, white);\n",
              "                }\n",
              "\n",
              "                .geemap-colab .jupyter-button {\n",
              "                    --jp-layout-color3: var(--colab-primary-surface-color, white);\n",
              "                }\n",
              "            </style>\n",
              "            "
            ]
          },
          "metadata": {}
        },
        {
          "output_type": "stream",
          "name": "stdout",
          "text": [
            "[NbConvertApp] WARNING | pattern 'change-detection-ukraine.ipynb' matched no files\n",
            "This application is used to convert notebook files (*.ipynb)\n",
            "        to various other formats.\n",
            "\n",
            "        WARNING: THE COMMANDLINE INTERFACE MAY CHANGE IN FUTURE RELEASES.\n",
            "\n",
            "Options\n",
            "=======\n",
            "The options below are convenience aliases to configurable class-options,\n",
            "as listed in the \"Equivalent to\" description-line of the aliases.\n",
            "To see all configurable class-options for some <cmd>, use:\n",
            "    <cmd> --help-all\n",
            "\n",
            "--debug\n",
            "    set log level to logging.DEBUG (maximize logging output)\n",
            "    Equivalent to: [--Application.log_level=10]\n",
            "--show-config\n",
            "    Show the application's configuration (human-readable format)\n",
            "    Equivalent to: [--Application.show_config=True]\n",
            "--show-config-json\n",
            "    Show the application's configuration (json format)\n",
            "    Equivalent to: [--Application.show_config_json=True]\n",
            "--generate-config\n",
            "    generate default config file\n",
            "    Equivalent to: [--JupyterApp.generate_config=True]\n",
            "-y\n",
            "    Answer yes to any questions instead of prompting.\n",
            "    Equivalent to: [--JupyterApp.answer_yes=True]\n",
            "--execute\n",
            "    Execute the notebook prior to export.\n",
            "    Equivalent to: [--ExecutePreprocessor.enabled=True]\n",
            "--allow-errors\n",
            "    Continue notebook execution even if one of the cells throws an error and include the error message in the cell output (the default behaviour is to abort conversion). This flag is only relevant if '--execute' was specified, too.\n",
            "    Equivalent to: [--ExecutePreprocessor.allow_errors=True]\n",
            "--stdin\n",
            "    read a single notebook file from stdin. Write the resulting notebook with default basename 'notebook.*'\n",
            "    Equivalent to: [--NbConvertApp.from_stdin=True]\n",
            "--stdout\n",
            "    Write notebook output to stdout instead of files.\n",
            "    Equivalent to: [--NbConvertApp.writer_class=StdoutWriter]\n",
            "--inplace\n",
            "    Run nbconvert in place, overwriting the existing notebook (only\n",
            "            relevant when converting to notebook format)\n",
            "    Equivalent to: [--NbConvertApp.use_output_suffix=False --NbConvertApp.export_format=notebook --FilesWriter.build_directory=]\n",
            "--clear-output\n",
            "    Clear output of current file and save in place,\n",
            "            overwriting the existing notebook.\n",
            "    Equivalent to: [--NbConvertApp.use_output_suffix=False --NbConvertApp.export_format=notebook --FilesWriter.build_directory= --ClearOutputPreprocessor.enabled=True]\n",
            "--coalesce-streams\n",
            "    Coalesce consecutive stdout and stderr outputs into one stream (within each cell).\n",
            "    Equivalent to: [--NbConvertApp.use_output_suffix=False --NbConvertApp.export_format=notebook --FilesWriter.build_directory= --CoalesceStreamsPreprocessor.enabled=True]\n",
            "--no-prompt\n",
            "    Exclude input and output prompts from converted document.\n",
            "    Equivalent to: [--TemplateExporter.exclude_input_prompt=True --TemplateExporter.exclude_output_prompt=True]\n",
            "--no-input\n",
            "    Exclude input cells and output prompts from converted document.\n",
            "            This mode is ideal for generating code-free reports.\n",
            "    Equivalent to: [--TemplateExporter.exclude_output_prompt=True --TemplateExporter.exclude_input=True --TemplateExporter.exclude_input_prompt=True]\n",
            "--allow-chromium-download\n",
            "    Whether to allow downloading chromium if no suitable version is found on the system.\n",
            "    Equivalent to: [--WebPDFExporter.allow_chromium_download=True]\n",
            "--disable-chromium-sandbox\n",
            "    Disable chromium security sandbox when converting to PDF..\n",
            "    Equivalent to: [--WebPDFExporter.disable_sandbox=True]\n",
            "--show-input\n",
            "    Shows code input. This flag is only useful for dejavu users.\n",
            "    Equivalent to: [--TemplateExporter.exclude_input=False]\n",
            "--embed-images\n",
            "    Embed the images as base64 dataurls in the output. This flag is only useful for the HTML/WebPDF/Slides exports.\n",
            "    Equivalent to: [--HTMLExporter.embed_images=True]\n",
            "--sanitize-html\n",
            "    Whether the HTML in Markdown cells and cell outputs should be sanitized..\n",
            "    Equivalent to: [--HTMLExporter.sanitize_html=True]\n",
            "--log-level=<Enum>\n",
            "    Set the log level by value or name.\n",
            "    Choices: any of [0, 10, 20, 30, 40, 50, 'DEBUG', 'INFO', 'WARN', 'ERROR', 'CRITICAL']\n",
            "    Default: 30\n",
            "    Equivalent to: [--Application.log_level]\n",
            "--config=<Unicode>\n",
            "    Full path of a config file.\n",
            "    Default: ''\n",
            "    Equivalent to: [--JupyterApp.config_file]\n",
            "--to=<Unicode>\n",
            "    The export format to be used, either one of the built-in formats\n",
            "            ['asciidoc', 'custom', 'html', 'latex', 'markdown', 'notebook', 'pdf', 'python', 'qtpdf', 'qtpng', 'rst', 'script', 'slides', 'webpdf']\n",
            "            or a dotted object name that represents the import path for an\n",
            "            ``Exporter`` class\n",
            "    Default: ''\n",
            "    Equivalent to: [--NbConvertApp.export_format]\n",
            "--template=<Unicode>\n",
            "    Name of the template to use\n",
            "    Default: ''\n",
            "    Equivalent to: [--TemplateExporter.template_name]\n",
            "--template-file=<Unicode>\n",
            "    Name of the template file to use\n",
            "    Default: None\n",
            "    Equivalent to: [--TemplateExporter.template_file]\n",
            "--theme=<Unicode>\n",
            "    Template specific theme(e.g. the name of a JupyterLab CSS theme distributed\n",
            "    as prebuilt extension for the lab template)\n",
            "    Default: 'light'\n",
            "    Equivalent to: [--HTMLExporter.theme]\n",
            "--sanitize_html=<Bool>\n",
            "    Whether the HTML in Markdown cells and cell outputs should be sanitized.This\n",
            "    should be set to True by nbviewer or similar tools.\n",
            "    Default: False\n",
            "    Equivalent to: [--HTMLExporter.sanitize_html]\n",
            "--writer=<DottedObjectName>\n",
            "    Writer class used to write the\n",
            "                                        results of the conversion\n",
            "    Default: 'FilesWriter'\n",
            "    Equivalent to: [--NbConvertApp.writer_class]\n",
            "--post=<DottedOrNone>\n",
            "    PostProcessor class used to write the\n",
            "                                        results of the conversion\n",
            "    Default: ''\n",
            "    Equivalent to: [--NbConvertApp.postprocessor_class]\n",
            "--output=<Unicode>\n",
            "    Overwrite base name use for output files.\n",
            "                Supports pattern replacements '{notebook_name}'.\n",
            "    Default: '{notebook_name}'\n",
            "    Equivalent to: [--NbConvertApp.output_base]\n",
            "--output-dir=<Unicode>\n",
            "    Directory to write output(s) to. Defaults\n",
            "                                  to output to the directory of each notebook. To recover\n",
            "                                  previous default behaviour (outputting to the current\n",
            "                                  working directory) use . as the flag value.\n",
            "    Default: ''\n",
            "    Equivalent to: [--FilesWriter.build_directory]\n",
            "--reveal-prefix=<Unicode>\n",
            "    The URL prefix for reveal.js (version 3.x).\n",
            "            This defaults to the reveal CDN, but can be any url pointing to a copy\n",
            "            of reveal.js.\n",
            "            For speaker notes to work, this must be a relative path to a local\n",
            "            copy of reveal.js: e.g., \"reveal.js\".\n",
            "            If a relative path is given, it must be a subdirectory of the\n",
            "            current directory (from which the server is run).\n",
            "            See the usage documentation\n",
            "            (https://nbconvert.readthedocs.io/en/latest/usage.html#reveal-js-html-slideshow)\n",
            "            for more details.\n",
            "    Default: ''\n",
            "    Equivalent to: [--SlidesExporter.reveal_url_prefix]\n",
            "--nbformat=<Enum>\n",
            "    The nbformat version to write.\n",
            "            Use this to downgrade notebooks.\n",
            "    Choices: any of [1, 2, 3, 4]\n",
            "    Default: 4\n",
            "    Equivalent to: [--NotebookExporter.nbformat_version]\n",
            "\n",
            "Examples\n",
            "--------\n",
            "\n",
            "    The simplest way to use nbconvert is\n",
            "\n",
            "            > jupyter nbconvert mynotebook.ipynb --to html\n",
            "\n",
            "            Options include ['asciidoc', 'custom', 'html', 'latex', 'markdown', 'notebook', 'pdf', 'python', 'qtpdf', 'qtpng', 'rst', 'script', 'slides', 'webpdf'].\n",
            "\n",
            "            > jupyter nbconvert --to latex mynotebook.ipynb\n",
            "\n",
            "            Both HTML and LaTeX support multiple output templates. LaTeX includes\n",
            "            'base', 'article' and 'report'.  HTML includes 'basic', 'lab' and\n",
            "            'classic'. You can specify the flavor of the format used.\n",
            "\n",
            "            > jupyter nbconvert --to html --template lab mynotebook.ipynb\n",
            "\n",
            "            You can also pipe the output to stdout, rather than a file\n",
            "\n",
            "            > jupyter nbconvert mynotebook.ipynb --stdout\n",
            "\n",
            "            PDF is generated via latex\n",
            "\n",
            "            > jupyter nbconvert mynotebook.ipynb --to pdf\n",
            "\n",
            "            You can get (and serve) a Reveal.js-powered slideshow\n",
            "\n",
            "            > jupyter nbconvert myslides.ipynb --to slides --post serve\n",
            "\n",
            "            Multiple notebooks can be given at the command line in a couple of\n",
            "            different ways:\n",
            "\n",
            "            > jupyter nbconvert notebook*.ipynb\n",
            "            > jupyter nbconvert notebook1.ipynb notebook2.ipynb\n",
            "\n",
            "            or you can specify the notebooks list in a config file, containing::\n",
            "\n",
            "                c.NbConvertApp.notebooks = [\"my_notebook.ipynb\"]\n",
            "\n",
            "            > jupyter nbconvert --config mycfg.py\n",
            "\n",
            "To see all available configurables, use `--help-all`.\n",
            "\n"
          ]
        }
      ]
    },
    {
      "cell_type": "code",
      "source": [
        "import os\n",
        "\n",
        "for f in os.listdir():\n",
        "    if f.endswith('.ipynb'):\n",
        "        print(f)\n"
      ],
      "metadata": {
        "colab": {
          "base_uri": "https://localhost:8080/",
          "height": 17
        },
        "id": "P_TjBFH4B03P",
        "outputId": "97d9399e-614b-4b26-d583-f6c8a92cce1b"
      },
      "execution_count": null,
      "outputs": [
        {
          "output_type": "display_data",
          "data": {
            "text/plain": [
              "<IPython.core.display.HTML object>"
            ],
            "text/html": [
              "\n",
              "            <style>\n",
              "                .geemap-dark {\n",
              "                    --jp-widgets-color: white;\n",
              "                    --jp-widgets-label-color: white;\n",
              "                    --jp-ui-font-color1: white;\n",
              "                    --jp-layout-color2: #454545;\n",
              "                    background-color: #383838;\n",
              "                }\n",
              "\n",
              "                .geemap-dark .jupyter-button {\n",
              "                    --jp-layout-color3: #383838;\n",
              "                }\n",
              "\n",
              "                .geemap-colab {\n",
              "                    background-color: var(--colab-primary-surface-color, white);\n",
              "                }\n",
              "\n",
              "                .geemap-colab .jupyter-button {\n",
              "                    --jp-layout-color3: var(--colab-primary-surface-color, white);\n",
              "                }\n",
              "            </style>\n",
              "            "
            ]
          },
          "metadata": {}
        }
      ]
    },
    {
      "cell_type": "code",
      "source": [],
      "metadata": {
        "id": "JOFEKWIzCNRY"
      },
      "execution_count": null,
      "outputs": []
    }
  ]
}