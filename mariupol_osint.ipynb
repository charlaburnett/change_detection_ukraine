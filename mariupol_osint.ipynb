{
  "nbformat": 4,
  "nbformat_minor": 0,
  "metadata": {
    "colab": {
      "provenance": [],
      "authorship_tag": "ABX9TyMY/bGM4+3l5jdmdQp6sE30",
      "include_colab_link": true
    },
    "kernelspec": {
      "name": "python3",
      "display_name": "Python 3"
    },
    "language_info": {
      "name": "python"
    }
  },
  "cells": [
    {
      "cell_type": "markdown",
      "metadata": {
        "id": "view-in-github",
        "colab_type": "text"
      },
      "source": [
        "<a href=\"https://colab.research.google.com/github/charlaburnett/change_detection_ukraine/blob/main/mariupol_osint.ipynb\" target=\"_parent\"><img src=\"https://colab.research.google.com/assets/colab-badge.svg\" alt=\"Open In Colab\"/></a>"
      ]
    },
    {
      "cell_type": "code",
      "execution_count": null,
      "metadata": {
        "id": "x2SeyLQosyzI"
      },
      "outputs": [],
      "source": [
        "#Geotag News Lookup"
      ]
    },
    {
      "cell_type": "code",
      "source": [
        "from google.colab import drive\n",
        "drive.mount('/content/drive')\n"
      ],
      "metadata": {
        "colab": {
          "base_uri": "https://localhost:8080/"
        },
        "id": "RwOTViaoBKbY",
        "outputId": "3599c3af-a603-428a-fad9-760c7fae31e6"
      },
      "execution_count": 2,
      "outputs": [
        {
          "output_type": "stream",
          "name": "stdout",
          "text": [
            "Mounted at /content/drive\n"
          ]
        }
      ]
    },
    {
      "cell_type": "code",
      "source": [
        "import sys\n",
        "sys.path.append('/content/drive/MyDrive/Colab Notebooks')\n",
        "\n",
        "from gnews_key import GNEWS_API_KEY\n",
        "\n",
        "from gnews import GNews\n",
        "gnews = GNews()\n",
        "gnews.api_key = GNEWS_API_KEY\n",
        "\n",
        "news_data = gnews.get_news('Mariupol')\n"
      ],
      "metadata": {
        "id": "n6jIWW-KBM2H"
      },
      "execution_count": 8,
      "outputs": []
    },
    {
      "cell_type": "code",
      "source": [
        "from geopy.geocoders import Nominatim\n",
        "geolocator = Nominatim(user_agent=\"sar_change_osint\")\n",
        "\n",
        "for article in news_data:\n",
        "    title = article.get(\"title\", \"N/A\")\n",
        "    pub_date = article.get(\"published date\", \"N/A\")\n",
        "    location_guess = \"Mariupol\"  # or update this dynamically later\n",
        "\n",
        "    try:\n",
        "        loc = geolocator.geocode(location_guess)\n",
        "        coords = (loc.latitude, loc.longitude) if loc else (\"N/A\", \"N/A\")\n",
        "    except:\n",
        "        coords = (\"N/A\", \"N/A\")\n",
        "\n",
        "    print(f\"{title}\")\n",
        "    print(f\"{pub_date}\")\n",
        "    print(f\"{coords}\")\n",
        "    print(f\"{article.get('url', 'N/A')}\\n\")\n"
      ],
      "metadata": {
        "colab": {
          "base_uri": "https://localhost:8080/"
        },
        "id": "rjFqmSRIvCHb",
        "outputId": "55164cc2-eb2a-49a6-92b8-c10e91b82cfe"
      },
      "execution_count": 12,
      "outputs": [
        {
          "output_type": "stream",
          "name": "stdout",
          "text": [
            "UK sanctions Russia intelligence force, including those responsible for Mariupol theater bombing - JURIST Legal News\n",
            "Sat, 19 Jul 2025 17:03:04 GMT\n",
            "(47.0957648, 37.5499621)\n",
            "https://news.google.com/rss/articles/CBMizAFBVV95cUxONU5qXzZrT2g3YVFYWXRybndQcll5TDhZOXIzSjZiYXNQRkZzUS0tQklVcHpXYS05ckJCV3pvTEdBeVRpYnFLemp0cFRJZE82RXJKc3ZkTUFQTFc2cWRtWm5BWTlqTnJ6UUxXbjF5bHp1QlpLYnpaT3R2UnoyYVFDTVJadFFLOWtUOThEUGZ4V3pPNFlWSm5xZ3gxb3VmWHYybjJ2Wl9wLUd0RkhaUDhnMXd5aEdvcXo2WHlVSUlleC1ONG1PMi1pMEZrSEE?oc=5&hl=en-US&gl=US&ceid=US:en\n",
            "\n",
            "UK sanctions Russian intelligence officers linked to Mariupol theater bombing - PBS\n",
            "Fri, 18 Jul 2025 22:03:00 GMT\n",
            "(47.0957648, 37.5499621)\n",
            "https://news.google.com/rss/articles/CBMisgFBVV95cUxPYjdSa3p1R0JUdWlEaVpwcU43dFJUaUtNQ3dLaElqXzZtOHA5SmRGTGRMMWFYM1I5REhLVVhRd1RKa2dlclNiTkNWVWpnMUhleW5BVWFBaWJrTDJ4ME5naEl0S1kwUERmd1Bha2E3T1AxQVpIVkdMQWJwQnRaaF9DdWRWcmJWX3pDMlZ4RHprQ3gwVGFBYXk0VVhhT3g2MUNkM3RLNE1qb2ItUjQ2T0o3akdB0gG3AUFVX3lxTE41WVVTRnRTWmw5YzVMakxwcy1rM1VMd3hodGtybllTTnFtUVd3UEVYOHM4QURCdWVRZzJsVWk2QnV0dkNsdWlHSWtwYUFxN05Pc2ZlLXZXdG1oUVVGMlBzY2J5MXk3WHkyTUUzMUVkaEpWVUswMmZDY3RPZG5NcVpfTkoxTU1RZDdLMGRVaWFNY1kwaDdfMkRrenpvX2J3RHVCa2V0cTJIeHExZ1JKRHN6WEFJYXJfTQ?oc=5&hl=en-US&gl=US&ceid=US:en\n",
            "\n"
          ]
        },
        {
          "output_type": "stream",
          "name": "stderr",
          "text": [
            "WARNING:urllib3.connectionpool:Retrying (Retry(total=1, connect=None, read=None, redirect=None, status=None)) after connection broken by 'ReadTimeoutError(\"HTTPSConnectionPool(host='nominatim.openstreetmap.org', port=443): Read timed out. (read timeout=1)\")': /search?q=Mariupol&format=json&limit=1\n"
          ]
        },
        {
          "output_type": "stream",
          "name": "stdout",
          "text": [
            "UK sanctions Russian intelligence officers who targeted Mariupol theater and family of poisoned spy - ABC News\n",
            "Fri, 18 Jul 2025 12:55:32 GMT\n",
            "(47.0957648, 37.5499621)\n",
            "https://news.google.com/rss/articles/CBMiwwFBVV95cUxNNURSX2haZWtVdHE2RWdlN3ZzdHl3bHJDYVVBb0JhUmZPU2xfUzlzWkk4cDQ5RHMxRlIzcjRGWjluVHhIQVJvdlR3YzZJb1BOTGxqRmJiNDN0NENJRUZiTnpZTzQxbGRaTm84MkNBMHFGNmM5RWRzWmRxX2YxWkduLURCZ2RpNjFLcnZwTzQ5Y1pNTVowUmFuU0o0YXdWRUM5VmtxMzMxZFdJal9SYlQtNGhfRld0a2VlVld5TzJwTWtFYTjSAcgBQVVfeXFMTThobl8wOHJ2U1RMZG1Hb1RlaGwxQ0o5M0dxU3lhUEhVQTdidm9XWTZDdzhNdXpBWmQ0UjRod0tvMmpoLVkzcXRYM0hha25vRDlOMDNPQTZ5TE1sTWdWVThTaHFpejN2cUEwWk9iZUZPTUtpYk1KY1I0aFhHQnoxczhLZ1hBVzhGWWFwTnA2aUc2UGc4VFdQTnlxSEVoS2EyUUJPWjFrdTJNOHFzR1g1VTNyblFPS2k0Vzh6Q1lyd0REQXpSWE55Uko?oc=5&hl=en-US&gl=US&ceid=US:en\n",
            "\n"
          ]
        },
        {
          "output_type": "stream",
          "name": "stderr",
          "text": [
            "WARNING:urllib3.connectionpool:Retrying (Retry(total=1, connect=None, read=None, redirect=None, status=None)) after connection broken by 'ReadTimeoutError(\"HTTPSConnectionPool(host='nominatim.openstreetmap.org', port=443): Read timed out. (read timeout=1)\")': /search?q=Mariupol&format=json&limit=1\n"
          ]
        },
        {
          "output_type": "stream",
          "name": "stdout",
          "text": [
            "'Mariupol is diseased': Residents deny Russian claims occupied city returning to normal - BBC\n",
            "Sun, 29 Jun 2025 07:00:00 GMT\n",
            "(47.0957648, 37.5499621)\n",
            "https://news.google.com/rss/articles/CBMiWkFVX3lxTE1rU3Rpa014SXZycmtvTEZEUXlHdnV4enVjMFZzMTJFQnJrX1ZSNjZyQnJac0pQVjNFYnJHaVd0OGtwdnZUV2FHY1NmalYxS2FYS1BqYkJmZGxyQQ?oc=5&hl=en-US&gl=US&ceid=US:en\n",
            "\n",
            "‘The soldiers want you to see what they’re going through’: the heartbreaking follow-up to 20 Days in Mariupol - The Guardian\n",
            "Tue, 15 Jul 2025 14:00:00 GMT\n",
            "(47.0957648, 37.5499621)\n",
            "https://news.google.com/rss/articles/CBMi6AFBVV95cUxOdmZpMmUyMTA4LWxNeDdGY3F2OFhxb1VaaGhJRUJxV1hCTVZwcVo5VDctT3pTd2puVmZRZk1aZGRLazZrOFIzT0RzRGhRVEpBRXp0ajVhc0RLeF9zYm1Nd095dmVxcUtEdHpvNVYyWTZtNmxFTW8telgxVDI3VHJkbGRDemFRTE13VThlYlZRSnRqczZZcmNiN1ZXZmFqVVdKOFdFR3JDRm9WMV9TS0lLNWxpNDMyNENCUlNEOTY2eEZ3U0JBU3g4cjJkOURnejJCT2VoRjdVUV9HUUhoQXBMeVNCM0xlM3pB?oc=5&hl=en-US&gl=US&ceid=US:en\n",
            "\n",
            "UK sanctions Russian spies linked to Mariupol strikes - politico.eu\n",
            "Fri, 18 Jul 2025 13:10:00 GMT\n",
            "(47.0957648, 37.5499621)\n",
            "https://news.google.com/rss/articles/CBMiggFBVV95cUxOeDFUMk1ZYzA1SUt5RkFTVGFKSi1vODE2X01zUkwzZUxVeWFBVkRDaWRCT05DSWhGOGdfdTA3QUlablh1MXBNckQzYkcwVndjdzhqQVNPYjdqM1pWU2VPRXgtSHVGd0VJeTJaMkpHc1dxVUlHVXhUVXB1dkh1cW9wOWp3?oc=5&hl=en-US&gl=US&ceid=US:en\n",
            "\n"
          ]
        },
        {
          "output_type": "stream",
          "name": "stderr",
          "text": [
            "WARNING:urllib3.connectionpool:Retrying (Retry(total=1, connect=None, read=None, redirect=None, status=None)) after connection broken by 'ReadTimeoutError(\"HTTPSConnectionPool(host='nominatim.openstreetmap.org', port=443): Read timed out. (read timeout=1)\")': /search?q=Mariupol&format=json&limit=1\n",
            "WARNING:urllib3.connectionpool:Retrying (Retry(total=0, connect=None, read=None, redirect=None, status=None)) after connection broken by 'ReadTimeoutError(\"HTTPSConnectionPool(host='nominatim.openstreetmap.org', port=443): Read timed out. (read timeout=1)\")': /search?q=Mariupol&format=json&limit=1\n"
          ]
        },
        {
          "output_type": "stream",
          "name": "stdout",
          "text": [
            "Russia's GRU Spies Sanctioned by UK for Mariupol Bombing and Cyber Attacks on Western Targets - UNITED24 Media\n",
            "Fri, 18 Jul 2025 16:04:47 GMT\n",
            "(47.0957648, 37.5499621)\n",
            "https://news.google.com/rss/articles/CBMi0gFBVV95cUxOVi1yRkhaWWk4ZWZpMFExZl84Ry04TjdJUmltOXh0dl8yWXc0NEF5RzRNWnBINTJ4ZTV6UTRrbGl4UmxPV2c2eDV5djJBSnZ5TVI5cWFhQTJnb1JmUkwzdDNPZ2d0TGpFWHFuUG1GNFpVNVJYOWhqWXlvUl91VHBvRGtFNVpMNGpyZUJNR1ZIemU5U0p4bUR0eVhwWWttS1RkQVE4M0pNV0xJcUZqUkFidHhMMHh4MDhZTVNSVFJuUUc2RzhEWkE1RkVkWHpZc2JJbUE?oc=5&hl=en-US&gl=US&ceid=US:en\n",
            "\n"
          ]
        },
        {
          "output_type": "stream",
          "name": "stderr",
          "text": [
            "WARNING:urllib3.connectionpool:Retrying (Retry(total=1, connect=None, read=None, redirect=None, status=None)) after connection broken by 'ReadTimeoutError(\"HTTPSConnectionPool(host='nominatim.openstreetmap.org', port=443): Read timed out. (read timeout=1)\")': /search?q=Mariupol&format=json&limit=1\n"
          ]
        },
        {
          "output_type": "stream",
          "name": "stdout",
          "text": [
            "Mariupol Children Undergo Pro-Russian Indoctrination at St. Petersburg ‘Wellness Camps’ - The Moscow Times\n",
            "Mon, 30 Jun 2025 07:00:00 GMT\n",
            "(47.0957648, 37.5499621)\n",
            "https://news.google.com/rss/articles/CBMizgFBVV95cUxQLWJ4cUc2STRtT0NMRGU0Vi1nUE1wZmlGaVJyczRpY0s2cmtjOWI1N3Y1c1p1cmpUcm1oUEY5aHItZGxqaUpsc0dPZnVVd3NnUkNfZGNQWlpEdWxzSmgtS2RtWGZyYmc1cWtTWVhhVGkzMHF4NUgyb2VUSjZMc2JoM2FfbHJWbUNsRkpRTnVkcVJWZlVOd0ZtcDdWTnVyYUllay1wM0UtbUVELXc5TTlZdzZwWXdoR2pQd2F6dERwSFNxcW5RMzFycms5Y0FVdw?oc=5&hl=en-US&gl=US&ceid=US:en\n",
            "\n",
            "UK sanctions Russian spies linked to Mariupol theatre strike and cyber attacks - Latest news from Azerbaijan\n",
            "Fri, 18 Jul 2025 13:19:22 GMT\n",
            "(47.0957648, 37.5499621)\n",
            "https://news.google.com/rss/articles/CBMioAFBVV95cUxOYnBfX2RGWHVwQ2M2X25tQ1l2eDRFbzRsZDVDa2ZSWGMwb0sxVmFzTWxwNExDTElHV0hTWHFnRnZOSEVFcm42VkR0Y1g0NXlaZW5vMm1lUGxsN0pHcFJIZkRQU3c1YzdpRlA3aHJ1cTR3eFg5c1VxLUE3N1BwUnVJTFI3anV5ZWpTTXFGVzlQMnFIbnp6Ui1tYXJ1eWMtNG13?oc=5&hl=en-US&gl=US&ceid=US:en\n",
            "\n",
            "‘Our Russian Town!’ Content creators paint a rosy picture of life in occupied Mariupol, with support from the Kremlin - CNN\n",
            "Thu, 15 May 2025 07:00:00 GMT\n",
            "(47.0957648, 37.5499621)\n",
            "https://news.google.com/rss/articles/CBMiogFBVV95cUxQN0RxRlI0aHdTTmFBemlrNTBDWklTeXpiUHB1WGh5NHRRTUNJaVF1bEtNa3B3cEJpRlc2N0JzZXdWQld6NDkyMy1KQ1lkc1lIdWFmUlJfODFZQXZOYXUwc0c0ZllycW80Y3ZJY1FCQldIdTB1MGJNTXpKelgtWjJrRkdRWjhodFRhWlVGWXVpLUFmRFFTMDdLSzRBVUtobmtRd1HSAacBQVVfeXFMTTBPUXV0Y3pPMUpUaW0tYy1pNzdkUEtGX09KRTFuX0Npd1BVVkI0SVFqa2dBcGZxZW9WOXVjVV9ndnlTT1VNdzFCd0FKcEFKTzBRSFdmS2VYUVRraWNER2lnUktQS1loWkh3Q0VrRDFEaElXVXpJcmZYMWt4Q2VXY3Q0am5jM0xvcExLRDNYOUI3VGF2RGNHdzlDRUxod2E3b1h1UXNuNEE?oc=5&hl=en-US&gl=US&ceid=US:en\n",
            "\n",
            "Siege mentality. Stories from Mariupol three years into the Russian occupation - Новая газета Европа\n",
            "Thu, 19 Jun 2025 07:00:00 GMT\n",
            "(47.0957648, 37.5499621)\n",
            "https://news.google.com/rss/articles/CBMib0FVX3lxTE1TNl95eGJERmRud1lXX2EtSHpLamhHY2hSM2tmXzE0S2pnMzhNSVBETTc3UnVDOWpjYmVJYXlqU3BvbFBQLXQtUndaZTl0a1pfRU1PaTU5Sk5jWG9xazkyQkk2ZmgyeV82UTM0dkVHb9IBdEFVX3lxTE1EQ00tT0pDM2hWLW9uVnppYTN0ZUJEUnByNkNQYm9YTDBiRTBsOWdYbDREUk94SFNySlpJcXVnWFpxa0QwT0tPUktmSzRfTnZTWDdVa3F1OXlRdlV3bGNhSnJFeFhCOEZpa3QzTGhCRzdFNUFi?oc=5&hl=en-US&gl=US&ceid=US:en\n",
            "\n",
            "UK hits Russian intel unit involved in killings of 600 Ukrainian civilians in Mariupol, with historic sanctions - Euromaidan Press\n",
            "Fri, 18 Jul 2025 17:27:07 GMT\n",
            "(47.0957648, 37.5499621)\n",
            "https://news.google.com/rss/articles/CBMi_AFBVV95cUxNeW5UUW1pM1ljeVFWSm5JU2xXaGY4d2RlQkdaZFhoSmRkVTJ3aVpJWEw2bUJ1NU9zNjlGT05lR2pFS2Jpam5OTGlPeUdVeGlxSDh0UkhZM21uQTN5YkdJVUoyQkRTUkJlbExHcERFTFZWRllOaUpKdnhjWHA2QzZNX0JrcjFYZktoWGViSW5fczd2THh5NkFheWstVVNRcnNXUFN0YlZFMEdZMGVFRkRVMGRjSzlMU3o0Vk8xUkJnQjR6bGxmWlZMVmZnTV9CS0FUc1p0dm91ZUhmdm1JRFRsLVJfRVZoVGNrV2dGblRyVGFqUFYzMGxndU9aR0E?oc=5&hl=en-US&gl=US&ceid=US:en\n",
            "\n"
          ]
        },
        {
          "output_type": "stream",
          "name": "stderr",
          "text": [
            "WARNING:urllib3.connectionpool:Retrying (Retry(total=1, connect=None, read=None, redirect=None, status=None)) after connection broken by 'ReadTimeoutError(\"HTTPSConnectionPool(host='nominatim.openstreetmap.org', port=443): Read timed out. (read timeout=1)\")': /search?q=Mariupol&format=json&limit=1\n"
          ]
        },
        {
          "output_type": "stream",
          "name": "stdout",
          "text": [
            "How Russian occupation has changed Mariupol - NZZ\n",
            "Mon, 19 May 2025 07:00:00 GMT\n",
            "(47.0957648, 37.5499621)\n",
            "https://news.google.com/rss/articles/CBMiiAFBVV95cUxPWDFEMVMxOU9UWWVmdFFZSXJ4Y0lRRWlUM1dKSWE1Znd6SEhMcnA1VFd6bFhCZTlpNDVHcmN4Q3I0Q2ZlNjdwNEFQY3FuZzltM3ZLQUdDaEtBeEdZeGc2SElkaklER0JXbnE5NVZjWFVJLVFhZzZIRnpwMTFHY3FLUDJZbWtxT0xf?oc=5&hl=en-US&gl=US&ceid=US:en\n",
            "\n",
            "Divided by Russia's invasion, a Mariupol family's future remains unclear - ABC News\n",
            "Sat, 12 Jul 2025 09:39:10 GMT\n",
            "(47.0957648, 37.5499621)\n",
            "https://news.google.com/rss/articles/CBMivAFBVV95cUxOclBMcUpBUlBfSlJWV0VGYTVISm9xNzRfNzFqbEo4MVlJZVBEZHRDOWE3OTRWMkQ1WlU3emlaS2U1WVhwR0IxSEo5T3p6WnlUTldBU2pqLVd6eTVTaUhibEU4cjVWNmpKZV8wd1hHU3lKQXhUOFlZQ2VlZ1JpSnVoMEZCOXBpLWltUEJuVzEzUjQtNE5pVG5HdGlheVB4UkpjcE5yQTE0QkFLR2l1NFBwSy01ZEQ5ZTdwbEpXRNIBwgFBVV95cUxQV0ZYRzRHSWU0alpOakxmTE1menU1bFZXR2NEMUVETHNmeXM2NkFQdzN3Qi1McDd2YXNLNzE4ZEREal9PZ0MtMHA0bFBidk1lN21wMS1QM21OUk9DMVZ6WXg1TWpNSldaMGFQVWNLb1VVbFdJUnJCNXU4M0JYVExIcTJmRXJZWHUyUDFzczJkTkxRVVNDeWJGMU1xRlZGNEpTR1ZONF9JeVRNc0J0cjZ2TXpjVVJqSFEydXA4aXBuakhyUQ?oc=5&hl=en-US&gl=US&ceid=US:en\n",
            "\n",
            "Ukraine war briefing: Soldiers captured by Russia in Mariupol among those released in prisoner swap - The Guardian\n",
            "Thu, 26 Jun 2025 07:00:00 GMT\n",
            "(47.0957648, 37.5499621)\n",
            "https://news.google.com/rss/articles/CBMi3AFBVV95cUxOUXBxNHhLc21MZGZYX3lfTXRYeEkxLTFvRTBTTVdaMl9wUDlVX3RNdXFRWVltdlVoYjNhcmJ1Tm55ZnZqM1ROczYxSjkwRWxuNHBRaUduaTRSRk9NVTRueWpFMENKb2Z5dTFhQnl2QzM1c2s5UHJPM0lWSzEwakplN0FNZmhpel9RUVpaNmk4TDNmUjFObEZEUmJicFVDSzl1eHcycjJSN1F3eTJPNnhwRDhYRmVUYTRRYXNZV3FTNmVWeFpiaEI4c3RPbXJBYnlSTFNBMmdOVXNWWHRH?oc=5&hl=en-US&gl=US&ceid=US:en\n",
            "\n"
          ]
        },
        {
          "output_type": "stream",
          "name": "stderr",
          "text": [
            "WARNING:urllib3.connectionpool:Retrying (Retry(total=1, connect=None, read=None, redirect=None, status=None)) after connection broken by 'ReadTimeoutError(\"HTTPSConnectionPool(host='nominatim.openstreetmap.org', port=443): Read timed out. (read timeout=1)\")': /search?q=Mariupol&format=json&limit=1\n"
          ]
        },
        {
          "output_type": "stream",
          "name": "stdout",
          "text": [
            "After killing tens of thousands and erasing Mariupol, Russia now seeks to resurrect statue of its butcher in city's center - Euromaidan Press\n",
            "Tue, 24 Jun 2025 07:00:00 GMT\n",
            "(47.0957648, 37.5499621)\n",
            "https://news.google.com/rss/articles/CBMi6gFBVV95cUxOVXJGRHdra1JUYVNrZl8wRl9rNjBadUtJMk94Q0ZVcXNuLVp2S3JTdVRYQmwtdC1UVVVpSEMzMUdwcURtaV9pM3V4d1p6eWVIS2tnTFJXcUVMQnhXUDdUQ1NaUDdpQ20wQ0NUekowb0thRGo4cmNwWE8xaHBFaWpFY2JKU01MV3o3X1I4X0VuOGNoY05EVFZ2TlM0SUFkZWN0aWZGSWFMZE84bUJHRG42WFpkVFBXQnpaYlFRR244V1hLNGZlc0JFejJ0aHN6ME16bC1jSjlpX1hyU3R2QUVabE45R3RUSDdXbkE?oc=5&hl=en-US&gl=US&ceid=US:en\n",
            "\n"
          ]
        },
        {
          "output_type": "stream",
          "name": "stderr",
          "text": [
            "WARNING:urllib3.connectionpool:Retrying (Retry(total=1, connect=None, read=None, redirect=None, status=None)) after connection broken by 'ReadTimeoutError(\"HTTPSConnectionPool(host='nominatim.openstreetmap.org', port=443): Read timed out. (read timeout=1)\")': /search?q=Mariupol&format=json&limit=1\n"
          ]
        },
        {
          "output_type": "stream",
          "name": "stdout",
          "text": [
            "Surviving Mariupol: A Firsthand Account of the Russian Invasion in Ukraine - Harvard Kennedy School\n",
            "Mon, 14 Apr 2025 07:00:00 GMT\n",
            "(47.0957648, 37.5499621)\n",
            "https://news.google.com/rss/articles/CBMixgFBVV95cUxQcjNzN0hvYXZybFZoWGV4TTh3UGZrdlFTb0dIT1ZNWk85MEt6cjJFNkNBTk45NExUZHFlc3VLQlRhZDcwcV9LcnVUZWtpQVlmbmZ2SkF5RXVXQm1jWm1uUUk3WlJCMklCLXhHZW1qeGFRMDlRT3JfNGN2MlBEcmVVSmJvQ0JYVmNOSTZaQ2pPdW0wd043NFZ5blJkYUEzVHZMYlhmczNaZ19mMXgzYkV4ZWY1NUNBY2VlVzdDb2xrUzFMajlQTnc?oc=5&hl=en-US&gl=US&ceid=US:en\n",
            "\n",
            "Ukrainian Partisan Blows Up Akhmat Vehicle in Mariupol, Issues Warning to Kadyrov Forces - UNITED24 Media\n",
            "Mon, 14 Jul 2025 09:40:31 GMT\n",
            "(47.0957648, 37.5499621)\n",
            "https://news.google.com/rss/articles/CBMiygFBVV95cUxPQTNrMHZOYk9uYmt6XzZlaXA3MTN2WXVRekpaVG9OZ0YyYVNUSy1yZHQ5UHFxWGotVi1Ib0k3bUJ0NmY2WEhYbjhaWGp4bTkxV1oybms0cmMwSzR5Rjd2ZmgxeFhfRmhTQlAzYlNhdjFmU3NRRXVRXzMxUHhrVkN0aEp6OFpNSUhBYTVDZEZfMDQ3NG9HRzZMYnd0cFFrRHh4NEkyRXJQUWhmMkhWeUIwUEhza2xKWmw3SjJjUDNYOGZrb3FEMFBCYmRB?oc=5&hl=en-US&gl=US&ceid=US:en\n",
            "\n",
            "Mariupol Residents Expose “Fairy Tale” Russian Rebuild as City Remains in Ruins - UNITED24 Media\n",
            "Mon, 30 Jun 2025 07:00:00 GMT\n",
            "(47.0957648, 37.5499621)\n",
            "https://news.google.com/rss/articles/CBMivAFBVV95cUxPZE9KVmpGcTJxNFFTUUJUM2JSZzJfWnRNM2FKQ3JFUmZaU3EyTlM3bUZldEdvTjJBUHI2Rk93ZHp0UUNudVBSVnVVTVAzUWw3MlNKdHRESkhFeGdFMXRUeWo2aXp6ZkhmcGtsR185ZWNOMlhuYTZyYm5ORUVUYUxsazhrdi1KZTJ5Z2N6bU42TTNvaGFWakFqdFZGLUpwTWw1d0xUeWliQ2xyR0ZuMzYxcnVQMHl5dmRjM0t1Ug?oc=5&hl=en-US&gl=US&ceid=US:en\n",
            "\n",
            "UK sanctions Russian intelligence officers who targeted Mariupol theater and family of poisoned spy - Temple Daily Telegram\n",
            "Fri, 18 Jul 2025 08:00:00 GMT\n",
            "(47.0957648, 37.5499621)\n",
            "https://news.google.com/rss/articles/CBMilgFBVV95cUxQVVFHV1B0YUk3NlU4V0VXUi10MkxHb2ZWaHRWZmpoMGZ1cHJsVFBEa1RLanotOTRVLWY3Wng3QWlZYXFjWlQzR0o5RVBOdXo5Sm90UC14Sjc5ajFqdE5IMnRGdWxfWWt5c3FkX1IxNUV2MjdHcGNPalNmcVFKUjlnUFhBaFFhUTZORnVwbm5iemxDVklKc1E?oc=5&hl=en-US&gl=US&ceid=US:en\n",
            "\n",
            "UK sanctions Russian intelligence officers who targeted Mariupol theater and family of poisoned spy - Meadville Tribune\n",
            "Fri, 18 Jul 2025 16:42:00 GMT\n",
            "(47.0957648, 37.5499621)\n",
            "https://news.google.com/rss/articles/CBMioAJBVV95cUxPdThmNkUtZG40aVBoNGw5SzEtZlFwTEdvcHVIMXhLUWV4RVlhSlkwTUlDRks4em0xU05sWjRFTFNqcDM4NWRFdmVIU0lvZTRWQVVGT2JUTi1nWDhNNWlMeXJuN2pFS2pFZjlleW5rYWZEWFFOLXktdmdFY1BRYVVPUkZZYk8ycDBIR3R1aDdfMXY5WVdjT3NQLVNNU09ITUxfRHJMOXZRcUFvNUhSS1RIZDl4cEcwZDBXWFZwYVRzdDZhY3F3UjVka0ROMVF2NllFU293dm85REt0SVVkbUoybnZDQ0JORFhoQ1JRcGg2ZW1BYk9jTkdNbkVHNC1XeHdZT3U2YWhnZjVBbnF0MTNCLVBSUEt6eUo5WEVBWE4yeHQ?oc=5&hl=en-US&gl=US&ceid=US:en\n",
            "\n"
          ]
        },
        {
          "output_type": "stream",
          "name": "stderr",
          "text": [
            "WARNING:urllib3.connectionpool:Retrying (Retry(total=1, connect=None, read=None, redirect=None, status=None)) after connection broken by 'ReadTimeoutError(\"HTTPSConnectionPool(host='nominatim.openstreetmap.org', port=443): Read timed out. (read timeout=1)\")': /search?q=Mariupol&format=json&limit=1\n"
          ]
        },
        {
          "output_type": "stream",
          "name": "stdout",
          "text": [
            "Mariupol Siege Air Commander Killed in Bomb Attack - The Moscow Times\n",
            "Thu, 29 May 2025 07:00:00 GMT\n",
            "(47.0957648, 37.5499621)\n",
            "https://news.google.com/rss/articles/CBMioAFBVV95cUxPVHlObmE5WU1Uc0thMER0R0RwT0NScFdXSWQyOWZPVHpnWFotY2NRUWlTRnRnOVFycURnS1FVcE9mOUxUVDA0TEtOQTBhV21LY0NxM2g5SUFGUWhjUDVoRW55VnlsdnJYUGNoeFVRYkFMbHZGelJPYzBVd0xNLUxzV3lHR0xJQnJuZXVfQmUwZDd5Q3RfLWJXc3JBMXdFaFhH?oc=5&hl=en-US&gl=US&ceid=US:en\n",
            "\n"
          ]
        },
        {
          "output_type": "stream",
          "name": "stderr",
          "text": [
            "WARNING:urllib3.connectionpool:Retrying (Retry(total=1, connect=None, read=None, redirect=None, status=None)) after connection broken by 'ReadTimeoutError(\"HTTPSConnectionPool(host='nominatim.openstreetmap.org', port=443): Read timed out. (read timeout=1)\")': /search?q=Mariupol&format=json&limit=1\n"
          ]
        },
        {
          "output_type": "stream",
          "name": "stdout",
          "text": [
            "Mariupol and Donetsk after a thousand days of war: ‘We want peace and quiet’ - EL PAÍS English\n",
            "Mon, 25 Nov 2024 08:00:00 GMT\n",
            "(47.0957648, 37.5499621)\n",
            "https://news.google.com/rss/articles/CBMiygFBVV95cUxOUzAtaC1fcmhkZF9IZE9uYmZqVElRLWVUOVBYbDB5c1dGT2FiMWtjRTlPcDczTVFqUWtiSU02MmZIWmlmMWxRckFHaGtDd2pTS29NWDJ6b1g0OXBjUVJ3ZDVSbmlsUlRNWjByUnVLYmlxQ1VXSnJsbWREeGZQNWlXejA1Ylo4N0R4alE1ajRTQnZ1dFJheElnRkh5RkdNNU9DZVpoaDVOUmRrVGdUeHN0SzJ5b1VwSGV4QVJrdi1VWmM2TGlNcXR5LXh30gHeAUFVX3lxTE56LXVQaFVmUFRNYVZOQ3Q2a291djBfZEtFNUlIaG1kZVFUV0Y2dS11SmVLS0FTMksxcEh6T0NiSnUyMUVQcF91R0dPSm9IMWNKZFkxMmo1TUU2UnB2UkpacUNKUGx5b00wMWtJX2RxWFR1WWZMcjVwenNIRmxfNXluNWdBNGxvYTV6Z2lHal9zZU1aWTdGVEpGSHRqZDRrVF9UeE82QjFCbDAxMThvM1VzM2NGcVhxRTQ0d0dFQmJBeEx6cE5YMXFTUFQxRzZZTnlfWEVPaW54NDI0RWFSZw?oc=5&hl=en-US&gl=US&ceid=US:en\n",
            "\n",
            "After Russia captured this city, its new rulers started taking houses - Australian Broadcasting Corporation\n",
            "Wed, 28 May 2025 07:00:00 GMT\n",
            "(47.0957648, 37.5499621)\n",
            "https://news.google.com/rss/articles/CBMirwFBVV95cUxQbTF2Zzd3dDE3REVUQktuUzkxSHMtZmJVczhVOGk5Y0hTdkxaVFgxNTl0SlBmbGZJeTh3Rkg5OUd4bUJVRzUxOENkckRxVTJ4VEpCRFVHV0dST1pGMXFyazFpQ0Zjc3QtWFJab2pmNjBadWloREVHaG5MWmNrWVNyS2J3QTQwYjdRM0prN2ZQWWpBX1d1YXFHaHdVU2lfcU5rVlF2WFRES01LNDA0VU9J?oc=5&hl=en-US&gl=US&ceid=US:en\n",
            "\n"
          ]
        },
        {
          "output_type": "stream",
          "name": "stderr",
          "text": [
            "WARNING:urllib3.connectionpool:Retrying (Retry(total=1, connect=None, read=None, redirect=None, status=None)) after connection broken by 'ReadTimeoutError(\"HTTPSConnectionPool(host='nominatim.openstreetmap.org', port=443): Read timed out. (read timeout=1)\")': /search?q=Mariupol&format=json&limit=1\n"
          ]
        },
        {
          "output_type": "stream",
          "name": "stdout",
          "text": [
            "Russia Destroyed Mariupol in 2022. Now It Tries to Convince People That the City Is Better Than Ever - UNITED24 Media\n",
            "Wed, 12 Mar 2025 07:00:00 GMT\n",
            "(47.0957648, 37.5499621)\n",
            "https://news.google.com/rss/articles/CBMi3gFBVV95cUxON1RHaU5UbXV3M2NJSkdLcm1LOXBuV2ZodjJKLWJWN2JIQ2IySXJ5QUhlZHgtLUhHak5fOEFoS1dYNThwQmR3Q1EwMGpNNkdDMXYyMDhwbkM2VVh2bzc1SUQzTTdGejdNcFNYRTVJeWRMemloT1hFdFl1RC1sMFhPRHVkTVlmYmlfbEdRckNTVmwtQ3d1di1jR0dEalBlbElfYUk2SC1sbmctbFpKVjlHd0dEOXNVaFdyUEctdXV2bjg3Qng2TXBFSUo5dTA0bEN5eFZBRU5yVlpDVW0taFE?oc=5&hl=en-US&gl=US&ceid=US:en\n",
            "\n",
            "‘Who else would they glorify?’ - Meduza\n",
            "Wed, 19 Feb 2025 08:00:00 GMT\n",
            "(47.0957648, 37.5499621)\n",
            "https://news.google.com/rss/articles/CBMidkFVX3lxTE9EX2loS1VrRWtGeEUxbmdYRUZEWTN2U0NkcXhSLW5yMUduWTI0ekk4M010clZpaldYU2pfQmhNR2I5LVFjeXdFbHBkVHIyd3c3Tjk5Z09tdVk2eWNRLXVKeGNHTUpiaGlsQTYwQnVBcy1lTm5jMWfSAXtBVV95cUxPbGZGSDF5YzVoaGZqazVOcjFWWFhpYk5jSWkxcURaZjlNWDZseENQRFdzR3JDdURzWjJoN2ltVUZIRFNoQjVsSHpPMm1VUEpWTWxqYUxKLXdtUlNFUElVd3VVemQ4Q1FfNUY2ZWh3b2tUZEs4cWx6YlJjWHc?oc=5&hl=en-US&gl=US&ceid=US:en\n",
            "\n"
          ]
        },
        {
          "output_type": "stream",
          "name": "stderr",
          "text": [
            "WARNING:urllib3.connectionpool:Retrying (Retry(total=1, connect=None, read=None, redirect=None, status=None)) after connection broken by 'ReadTimeoutError(\"HTTPSConnectionPool(host='nominatim.openstreetmap.org', port=443): Read timed out. (read timeout=1)\")': /search?q=Mariupol&format=json&limit=1\n"
          ]
        },
        {
          "output_type": "stream",
          "name": "stdout",
          "text": [
            "Russia hands long prison terms to Ukrainian 'Azov' fighters who defended Mariupol - Reuters\n",
            "Wed, 26 Mar 2025 07:00:00 GMT\n",
            "(47.0957648, 37.5499621)\n",
            "https://news.google.com/rss/articles/CBMiwwFBVV95cUxPQlNGak85V1pxX1djTXlHTmduNnJXX3lIeUo4MG9pUTRSbzZoUm4yYUxta2lmalVfQzA4enJxNUJSR3pGNzZLZ292bVZ0VUZ1aGhfXzhzVDdmbjFSSzBTcTVfdTZXZW9XY0FaYlp5TC10bmFDcENNMVI5ZVNzNFFiVXJKZlhZUHMwVzRULUFDV3ZVeDl2RzBNWDh0Wm4xaE4yY0pwVm4tRHVwMFZ2bkRodnJ5UFRPQ1loWFhfdnlyTXE1c0k?oc=5&hl=en-US&gl=US&ceid=US:en\n",
            "\n"
          ]
        },
        {
          "output_type": "stream",
          "name": "stderr",
          "text": [
            "WARNING:urllib3.connectionpool:Retrying (Retry(total=1, connect=None, read=None, redirect=None, status=None)) after connection broken by 'ReadTimeoutError(\"HTTPSConnectionPool(host='nominatim.openstreetmap.org', port=443): Read timed out. (read timeout=1)\")': /search?q=Mariupol&format=json&limit=1\n"
          ]
        },
        {
          "output_type": "stream",
          "name": "stdout",
          "text": [
            "Russian court hands long jail terms to Ukrainian fighters who defended Mariupol - CNN\n",
            "Wed, 26 Mar 2025 07:00:00 GMT\n",
            "(47.0957648, 37.5499621)\n",
            "https://news.google.com/rss/articles/CBMid0FVX3lxTE82NlEyUW5KQ01xc0UtQXI2X0xadWVZY2pzR0I5Y094UmtXREktREZrNVZDSzNnOFNJRlJWRllDUXpqNll3djJ3cGl2MUZsd2ktOElVdXp5WHpQeDFNcHFpbzdPZngwZ2xiaU1KWG1TVUZfV1lsR0Jj0gF8QVVfeXFMTjVwb09YaFBvb0RvTXF3UmhFcDUtN2ROSHFfMEV4NjZXLWttSVZMNW45a3dmS0lWT25KV3BCT1RRT0poaHY5WHR1dG9PVkhJZzVlMlhDTnJabTZJdWozRHVyay1FWUQ2TTdoOFE0ZGNLbDFaNy00bXJzSFA0VA?oc=5&hl=en-US&gl=US&ceid=US:en\n",
            "\n",
            "Pro-Ukrainian partisans destroy car used by Chechen unit in occupied Mariupol, Atesh claims - The Kyiv Independent\n",
            "Sun, 13 Jul 2025 04:21:59 GMT\n",
            "(47.0957648, 37.5499621)\n",
            "https://news.google.com/rss/articles/CBMiuwFBVV95cUxOeVZCZ2w2ZlpydXB0S3Vld21kaUljdUxtbWIweEJUbl91S0xWYlVSTTh1a1lpekNiMHBmd0JwbHRmTGxuV2ptVWNDZ1lqNDUxTUxrakp6WlRXUDN1NW0zak9xam9oWFRvQWQ2TFZjSVJqelQ3Z1JmLUc5QldBWEtxT0pPdE5YV25NV3hFdUstMVBFdVZjb2YxalVzM3R6cHhveS1rSmpOM01JbFg0UFI3cXBTU05lbVp6OFdn0gHAAUFVX3lxTFBpZ0U4WDMtcUFjRVdJdkp2LU9vRzVlcklPTUFrbzlMVkFlOUZuLTRXNExNYzZqYVRVWlFsNExfS1pka09UaVdmMjJkSms4MXhDMl9BSzZELUxuSW4wWGRqWDlERWthdFV5MHhmd2ZVSS1IbUFiMGd6ZUZRQlIyQlBENEdhRUZ1ZmFsVWR0V3d4bzM3bnVmaXc3VkdFVFV2VWkyRnVfX09wd1ZTN05WN2dhazFuRFhrWTEwMHM5UlEzMg?oc=5&hl=en-US&gl=US&ceid=US:en\n",
            "\n"
          ]
        },
        {
          "output_type": "stream",
          "name": "stderr",
          "text": [
            "WARNING:urllib3.connectionpool:Retrying (Retry(total=1, connect=None, read=None, redirect=None, status=None)) after connection broken by 'ReadTimeoutError(\"HTTPSConnectionPool(host='nominatim.openstreetmap.org', port=443): Read timed out. (read timeout=1)\")': /search?q=Mariupol&format=json&limit=1\n"
          ]
        },
        {
          "output_type": "stream",
          "name": "stdout",
          "text": [
            "‘This was predicted’ - Meduza\n",
            "Fri, 14 Mar 2025 07:00:00 GMT\n",
            "(47.0957648, 37.5499621)\n",
            "https://news.google.com/rss/articles/CBMiakFVX3lxTE5BbU42OHZFa0M0ODh1b1BobmVKMlctb1BCWFNDZGt5M056Um9WNlA3dkc0RmFXYjZLT2t1X01ISlJ1V2Q2ZkVveW1HLW1fQmwzME93QlZ3MDVlWXdHVUU1UWI1Z2hJY0dzU1HSAW9BVV95cUxObkxKd1hwdHNfSUxQTXBmV1dia19Sc1ZMVDFMV1Z1U3NqaGFwVy1tNVRtQURUU2p2S180SWxKREV6YUFXaG9HWkN0MU5vRXg4TVRRSDljWDNDaWp6d1NNZEpKVDRjVU44bXBQSktyQk0?oc=5&hl=en-US&gl=US&ceid=US:en\n",
            "\n"
          ]
        },
        {
          "output_type": "stream",
          "name": "stderr",
          "text": [
            "WARNING:urllib3.connectionpool:Retrying (Retry(total=1, connect=None, read=None, redirect=None, status=None)) after connection broken by 'ReadTimeoutError(\"HTTPSConnectionPool(host='nominatim.openstreetmap.org', port=443): Read timed out. (read timeout=1)\")': /search?q=Mariupol&format=json&limit=1\n"
          ]
        },
        {
          "output_type": "stream",
          "name": "stdout",
          "text": [
            "‘No one saw surrender as an option’ – Mariupol defender on historic Azovstal fight and brutal Russian captivity - The Kyiv Independent\n",
            "Tue, 20 May 2025 07:00:00 GMT\n",
            "(47.0957648, 37.5499621)\n",
            "https://news.google.com/rss/articles/CBMipAFBVV95cUxOS0VldWswU0ZxUjRDcVhPTkU1bHB1TTdhSWVRRFJTVWUzQlYwQXFjcHY1OENWTXI3Vk9rNlp0bUNYLV80RW5LTGd5Rmg1emJub1lnSGpES3JRZUc2ZmlNdFBPcl8zYTBIbzg1YkNVLUV4OWIzaHdsR09kd1NtMlp4NVV5MnhnNklKZkl5eTQ2X0hvY0JLUVc4QmJEWlBUVG5oZHVqMtIBqgFBVV95cUxOZ3dVSEJ4MUVKR0g1ZHVDdUw4RXhXZzkzNXowWExHX1NQcEk4QXR4WFZ4QkNqbW1UYVcwVmZ2RlZYNnQ5TXViZDFkUnR3UGJUU2JpR1g2MVhSbF9FU1dJZF8wMDRCN19ZdGR2RG00alZNYm5XUlo3TURjak01VTN5TVdNRTA5RHBUMnB0c0tYakdCT1JIT3M4Yk84VDVsVDVqb05jenptRUVrUQ?oc=5&hl=en-US&gl=US&ceid=US:en\n",
            "\n"
          ]
        },
        {
          "output_type": "stream",
          "name": "stderr",
          "text": [
            "WARNING:urllib3.connectionpool:Retrying (Retry(total=1, connect=None, read=None, redirect=None, status=None)) after connection broken by 'ReadTimeoutError(\"HTTPSConnectionPool(host='nominatim.openstreetmap.org', port=443): Read timed out. (read timeout=1)\")': /search?q=Mariupol&format=json&limit=1\n"
          ]
        },
        {
          "output_type": "stream",
          "name": "stdout",
          "text": [
            "Russian Invasion of Ukraine: Ukraine News: Mariupol’s Mayor Describes Grim Russian Rule (Published 2022) - The New York Times\n",
            "Mon, 05 May 2025 07:00:00 GMT\n",
            "(47.0957648, 37.5499621)\n",
            "https://news.google.com/rss/articles/CBMieEFVX3lxTE5BRllkSmk0UVI5dVR1eVRsQVJQa3k2ZmRsbEZ1QjRqNnNXRkdvcl9vMFJXQWpjWDNZcEJZU08zTTlOQXkzNHc3djlIclI3OHdvSndobTBvMko4MDRiYkJObjdwenpmUllXMmg0ZS1GZWppOW1tbG5WcQ?oc=5&hl=en-US&gl=US&ceid=US:en\n",
            "\n"
          ]
        },
        {
          "output_type": "stream",
          "name": "stderr",
          "text": [
            "WARNING:urllib3.connectionpool:Retrying (Retry(total=1, connect=None, read=None, redirect=None, status=None)) after connection broken by 'ReadTimeoutError(\"HTTPSConnectionPool(host='nominatim.openstreetmap.org', port=443): Read timed out. (read timeout=1)\")': /search?q=Mariupol&format=json&limit=1\n"
          ]
        },
        {
          "output_type": "stream",
          "name": "stdout",
          "text": [
            "Ukraine's Azovstal soldiers recall Mariupol siege three years on - Euronews.com\n",
            "Wed, 21 May 2025 07:00:00 GMT\n",
            "(47.0957648, 37.5499621)\n",
            "https://news.google.com/rss/articles/CBMivAFBVV95cUxQWEFYVExTNFY0RXRKal9HQmhXMkdTQUR1SHJVbU85WEZmcndHTkRQbDZ2UGRmaGNzZjBOQlotdmlKakhRelJURHdlNFZfWnRyNVZ0OUdhblkzTXlBdlNtdl9YdFkyX1N3VGtxS0hfdlBGN0pvbXhEMFppRzhGeV9hQXZfZlM5RmZVTGMwTU11eEdiTm9BbndPNHNMOXF5ak5zRWR4WXJGMTFFYllLS1JlNnNOY1M1SDhENmM1Vw?oc=5&hl=en-US&gl=US&ceid=US:en\n",
            "\n",
            "UK sanctions Russian spies who ‘targeted Britain in sustained campaign’ - MSN\n",
            "Fri, 18 Jul 2025 13:22:59 GMT\n",
            "(47.0957648, 37.5499621)\n",
            "https://news.google.com/rss/articles/CBMitAFBVV95cUxPWGVwNXBMZE5SalEwQkRvb0hhQlZhYWkzUl9XcDBnNndEaW12U2UteVlwbmthRXlVS25yTTNsUUV6YTk4Qy1GNTVVQkY2dFNydlFTRi1BZUlJYkRNbWR5Y2JNTzhIYmdSWVdWbW9Meks4Q3FpMi1WM3NOTFBSSGswaUtCMkw3Ykp4bjBEWmJCVGFuUkdOeldlYWZWVG5ybHI5S2o5OU0yWHUyNUR2djVZV3E3TG4?oc=5&hl=en-US&gl=US&ceid=US:en\n",
            "\n"
          ]
        },
        {
          "output_type": "stream",
          "name": "stderr",
          "text": [
            "WARNING:urllib3.connectionpool:Retrying (Retry(total=1, connect=None, read=None, redirect=None, status=None)) after connection broken by 'ReadTimeoutError(\"HTTPSConnectionPool(host='nominatim.openstreetmap.org', port=443): Read timed out. (read timeout=1)\")': /search?q=Mariupol&format=json&limit=1\n"
          ]
        },
        {
          "output_type": "stream",
          "name": "stdout",
          "text": [
            "Ghost of a city: The true story of life in Mariupol three years after occupation - theins.ru\n",
            "Thu, 12 Jun 2025 07:00:00 GMT\n",
            "(47.0957648, 37.5499621)\n",
            "https://news.google.com/rss/articles/CBMiS0FVX3lxTFBFamNYbzFJSXA3cmpTMTNSWEVqTmxNWTFBQ3I3ZlFzcXlhLXhmcGhvbWFqSlpENGh2N0lvdjI0V0tJd2NhaUhLa2tiZw?oc=5&hl=en-US&gl=US&ceid=US:en\n",
            "\n"
          ]
        },
        {
          "output_type": "stream",
          "name": "stderr",
          "text": [
            "WARNING:urllib3.connectionpool:Retrying (Retry(total=1, connect=None, read=None, redirect=None, status=None)) after connection broken by 'ReadTimeoutError(\"HTTPSConnectionPool(host='nominatim.openstreetmap.org', port=443): Read timed out. (read timeout=1)\")': /search?q=Mariupol&format=json&limit=1\n"
          ]
        },
        {
          "output_type": "stream",
          "name": "stdout",
          "text": [
            "UK sanctions Russian intelligence officers who targeted Mariupol theater and family of poisoned spy - MSN\n",
            "Fri, 18 Jul 2025 16:11:51 GMT\n",
            "(47.0957648, 37.5499621)\n",
            "https://news.google.com/rss/articles/CBMiuwFBVV95cUxOYVgyb0RuTk9yN1hsM3RTRnV5WVRhSTd5cTZkNlVVZ3NQejNFMC1JN2VQRWJaWmI5Z01tUGp3c01VMFBGbHQwOUM1LVdLdm9pRmRRZzYxZ0xsamRBaERhWndjV3pWR2dJZlZtQUFpb29abjJxemg4NEhVdnBzQklaVk9LTktqRXNNU3ZJSG1TRXEwWXQ2T3BiX3N5amNNU0NYR29ORjFtZ216UHdlTTVVdWVDZmJGV3Rnb2hN?oc=5&hl=en-US&gl=US&ceid=US:en\n",
            "\n"
          ]
        },
        {
          "output_type": "stream",
          "name": "stderr",
          "text": [
            "WARNING:urllib3.connectionpool:Retrying (Retry(total=1, connect=None, read=None, redirect=None, status=None)) after connection broken by 'ReadTimeoutError(\"HTTPSConnectionPool(host='nominatim.openstreetmap.org', port=443): Read timed out. (read timeout=1)\")': /search?q=Mariupol&format=json&limit=1\n"
          ]
        },
        {
          "output_type": "stream",
          "name": "stdout",
          "text": [
            "Explosive Greetings from Atesh Partisans: Kadyrovites Lose Another Vehicle in Mariupol - Defense Express\n",
            "Sun, 13 Jul 2025 21:44:30 GMT\n",
            "(47.0957648, 37.5499621)\n",
            "https://news.google.com/rss/articles/CBMixgFBVV95cUxNeTl6ZzlORVN3WE1TZFd1LTFOR0Z5d1VEb0p5RjVqcEJQOFRHOFZ4MWcxNjhIWUJMZzJYV3dTZU4wSGxxSl9SOXhycEtHamtYUXF5NkhXU3dMazVCUm9IblNMdHNOLTIxcFU5RTNEdTRuN1J0NHNwcGsyc1haQTBzdGlmM3ZnTW00WnVFeFlITTh4cVFxWjBPSjUyTGl3bm83UWQxdDJHUnpsLVo0b0p6dlZYdlpHWnBjeWhRbTNHbXJFakEwY1E?oc=5&hl=en-US&gl=US&ceid=US:en\n",
            "\n",
            "Rebuilding Ukraine - MIT News\n",
            "Wed, 26 Feb 2025 08:00:00 GMT\n",
            "(47.0957648, 37.5499621)\n",
            "https://news.google.com/rss/articles/CBMiXkFVX3lxTE90YUxYVWFfbzZETk5GUEJHMUF2bG9PSTg3VUdVWHNtNENZdm1JU1dQeFY4Znl1ZHUwRlYtUFZMa2VqU2I2blNXUzFrWEt6eGZVQmVwNUJ6cTgtQzlVY3c?oc=5&hl=en-US&gl=US&ceid=US:en\n",
            "\n"
          ]
        },
        {
          "output_type": "stream",
          "name": "stderr",
          "text": [
            "WARNING:urllib3.connectionpool:Retrying (Retry(total=1, connect=None, read=None, redirect=None, status=None)) after connection broken by 'ReadTimeoutError(\"HTTPSConnectionPool(host='nominatim.openstreetmap.org', port=443): Read timed out. (read timeout=1)\")': /search?q=Mariupol&format=json&limit=1\n"
          ]
        },
        {
          "output_type": "stream",
          "name": "stdout",
          "text": [
            "Mariupol Defenders Released in Major Prisoner Swap With Russia - Newsweek\n",
            "Sat, 19 Oct 2024 07:00:00 GMT\n",
            "(47.0957648, 37.5499621)\n",
            "https://news.google.com/rss/articles/CBMidEFVX3lxTE1PS0hhSjhwXzZuLUE5NE1ZY3dlTDluVmM3THlWR3BQYjM5TjBRaU4xS0hhSXQzYlFfX2VWVkw4RGtOVXhwYnF3czE5aDlaNVVDTmswWGU4LVU2Uk9sMTh1R3c5d2FvMVBsbnFDQ1RXbmFmVDNx?oc=5&hl=en-US&gl=US&ceid=US:en\n",
            "\n",
            "Russia seizing thousands of homes in occupied Mariupol - BBC\n",
            "Thu, 17 Apr 2025 07:00:00 GMT\n",
            "(47.0957648, 37.5499621)\n",
            "https://news.google.com/rss/articles/CBMigwFBVV95cUxQMjhIVHVlUFhSYnlFOEVUeG1HSnJzNnZQMDlJT0NMVjQ2VC0wMElZOFRfS0ZqZXdPekZrbEJZbWtUZUp0cl9jZ1ZYYkRma1BRTWFwUFo1SHdkenIyQXlGRS1xM2J5OF9CMWlGSlpSVDRnX1lYSWlLc3ZybTZkQVJIdWhhbw?oc=5&hl=en-US&gl=US&ceid=US:en\n",
            "\n"
          ]
        },
        {
          "output_type": "stream",
          "name": "stderr",
          "text": [
            "WARNING:urllib3.connectionpool:Retrying (Retry(total=1, connect=None, read=None, redirect=None, status=None)) after connection broken by 'ReadTimeoutError(\"HTTPSConnectionPool(host='nominatim.openstreetmap.org', port=443): Read timed out. (read timeout=1)\")': /search?q=Mariupol&format=json&limit=1\n"
          ]
        },
        {
          "output_type": "stream",
          "name": "stdout",
          "text": [
            "Britain has imposed sanctions against the missile spotters in Mariupol - 112.ua\n",
            "Fri, 18 Jul 2025 15:20:21 GMT\n",
            "(47.0957648, 37.5499621)\n",
            "https://news.google.com/rss/articles/CBMikgFBVV95cUxPTFlQc0lNSTFkMGMtLVljc0s1MmJlSy1lQjFqdlVmNWhYeVRHTHczNXdNaWFiNV8yX0RlVVZqdFE3eFgxSEpyd2dCbFlBMjBSaEVUZ1FqM3RQY2xSdmlPWFo2WDBaQWV4aXBCM3VGUlpWU1BaaHN5cC1PWW1OV09lRjVjbmJkZ0NnNHV4bGZMUUxLUQ?oc=5&hl=en-US&gl=US&ceid=US:en\n",
            "\n",
            "Mariupol Residents Refuse to Move Into Abandoned Ukrainian Homes - Radio Free Europe/Radio Liberty\n",
            "Thu, 06 Feb 2025 08:00:00 GMT\n",
            "(47.0957648, 37.5499621)\n",
            "https://news.google.com/rss/articles/CBMiygFBVV95cUxQbDdid0RzMkk2eHBiNk9hc0N5MzIyNEpuSXFMMTQ5and3bDdZOHdiLVVUYzJCejdzQ1dqNVJJM3A4S09vUFU3OHhFSUR3WmtScnByVldVbFJvT2pCWFhFUDZBeWFQal8yYjJRSjVCWHdqN2NSYkhIMDZVWmpGU0xSN0JfU2FNX3lJSlhuZzhHdm00SHlycHJXckp5VFh0d1BjOVhncWdEbk9LWDJCc0syVHhZS3htamJmOEhUNVRsbjk5dnhTaVgyN0ZB?oc=5&hl=en-US&gl=US&ceid=US:en\n",
            "\n"
          ]
        },
        {
          "output_type": "stream",
          "name": "stderr",
          "text": [
            "WARNING:urllib3.connectionpool:Retrying (Retry(total=1, connect=None, read=None, redirect=None, status=None)) after connection broken by 'ReadTimeoutError(\"HTTPSConnectionPool(host='nominatim.openstreetmap.org', port=443): Read timed out. (read timeout=1)\")': /search?q=Mariupol&format=json&limit=1\n"
          ]
        },
        {
          "output_type": "stream",
          "name": "stdout",
          "text": [
            "Russian Base Goes Up in Flames in Occupied Mariupol—Here’s What We Know - UNITED24 Media\n",
            "Sat, 29 Mar 2025 07:00:00 GMT\n",
            "(47.0957648, 37.5499621)\n",
            "https://news.google.com/rss/articles/CBMiswFBVV95cUxNeldyeWdHeXR1M0Q0bFoxb2N2eE1WUHVUVEEwMl9nTlRBZk5EX0JaY0NUNml4RUk5YjBtRDdPVHR1NnN1VVVKWWU4YVZPVkQzcm1VS1hZM0lEbGt1cFRVWXRITDlaSlpMSUJ6a1h0M1dyQXNEbFpzcWdhNVVpSHpqZVpDWlM3VWdfUkpLcXhsbk5tbUhGTmhOdmxyRDIzWTdUX0l2R0dxQnBfTHdUSVhJSUZnOA?oc=5&hl=en-US&gl=US&ceid=US:en\n",
            "\n"
          ]
        },
        {
          "output_type": "stream",
          "name": "stderr",
          "text": [
            "WARNING:urllib3.connectionpool:Retrying (Retry(total=1, connect=None, read=None, redirect=None, status=None)) after connection broken by 'ReadTimeoutError(\"HTTPSConnectionPool(host='nominatim.openstreetmap.org', port=443): Read timed out. (read timeout=1)\")': /search?q=Mariupol&format=json&limit=1\n"
          ]
        },
        {
          "output_type": "stream",
          "name": "stdout",
          "text": [
            "‘We’re Not Thieves’: Mariupol Residents Plead With Putin to Replace Destroyed Homes - The Moscow Times\n",
            "Thu, 23 Jan 2025 08:00:00 GMT\n",
            "(47.0957648, 37.5499621)\n",
            "https://news.google.com/rss/articles/CBMixwFBVV95cUxOX0hidzBLYmhTTnlkTmxlYlByeXhGRkcxeHZraWo4c0lwUDVJVGNXR1k2ZW1PQUJDSDZ0V01uY3lGVGo1V1NxeTFnR29GcXF0cHdPXy1iQ2w0TEg1MDNvSWFabjNnSjVWOUJEdW9qVnJ4WGRNVzVCbG5LcDNfemEwY0ZYMDNUWTNpdGl1WG02RWFqRHlaVm1VMFJaVE56VG1SSVpjSXR4WDh5TE1fT2F2dWVCUjQ5a212OG9WTWdvUjVzZzlmRVlJ?oc=5&hl=en-US&gl=US&ceid=US:en\n",
            "\n",
            "The UK has imposed sanctions on Russian intelligence officers who guided missiles to Mariupol - LIGA.net\n",
            "Fri, 18 Jul 2025 13:40:24 GMT\n",
            "(47.0957648, 37.5499621)\n",
            "https://news.google.com/rss/articles/CBMizAFBVV95cUxQSk5jVG9CdlhXeVVhRG9GS3FZdTNHOVZZT1QybUtRMWVxYmRLUXA0RThmc3VvTWZMZ0x3VWgxRldrZXVFV2JnUTVudlRJdHlZVmktN1ZfNkI4RkR6UlZUR3B4empDenZ5eVFaeWRaN002ZjdkN1k5STB3UTkzZzBnVUxzT09HSFNJM05vUzlxRFViY1k2SzlFRjdlVG52YkxDaEVfU0V6OTBWY1RBQ0pXUnpudkI1cWtrSDlpMjdHVHFESF9QR0RhQjA2QznSAdIBQVVfeXFMT2hldWVwNE5KV3U2anM3LXU5WUN0YmNyY1B6TlpBTExQbXcyQVdvVWZrRFhaWkdQbzBNczJydkRlMXpNaG0wUkFObXR0RmVlVjVJUGlpdXVlN0l0SWhReXNUMkhkRERjZ1NFOE15QkRaMmJScjRqNGI2MWxCWkV3Yzc4cWVjSnI5ZFRSbUdmVmVUejVEZ2dFOHFkNGY0MjRnRFpCNk80MV9QbE5SM1VPY0txLXY4NmxnZFUtMkxBbnlkYlF0ZXVXdnBINUdPOWdTaDF3?oc=5&hl=en-US&gl=US&ceid=US:en\n",
            "\n",
            "Stavropol explosion kills Russian official who led attacks on Ukraine's Mariupol - The Kyiv Independent\n",
            "Thu, 29 May 2025 07:00:00 GMT\n",
            "(47.0957648, 37.5499621)\n",
            "https://news.google.com/rss/articles/CBMiqwFBVV95cUxQTV9aOWozdXVQLUtsUFpYSlR6Vm1hMjU1LTcyemRhX2RQQWRtMVo1MW9DT1NNamxZaUI1eVpGRGRDRjd5RVFDazRiRDdOOHRmWjJTN0FiZHEwTTRiZWFvczJWNzhsSHNDWnp2Zmp5V3JaWkNTOUZiaXNobldYWDVHSm5DbWpLRGJydmVEbkRPS0JmRUtUdlRuS2x4Z0o1Ui1wNUZzS1VKejBCVmPSAbABQVVfeXFMTUxFUExVNTNVejdqUmRuUngyeXpWWjgzU0hNVWg2eHA4azFQb2tPUnJkdjlUS0lJbC14NlJVNXBla0s2WnlYdWdRTWJ6MDJmYjBXR2VOS0tzZnFhS0JLekhQazdzQV90NFUzMVFKajFNSzc0X1pnQlJaOVZwMzEyOC1uSE1zY2dlQktIZnR5aXc4SUxHVk1NemhXRVVYX1RncTZSb1RIdWNmNDAwY3NkRXQ?oc=5&hl=en-US&gl=US&ceid=US:en\n",
            "\n",
            "Mariupol engulfed in massive fire: flames reached occupiers' new buildings - Українські Національні Новини\n",
            "Tue, 15 Jul 2025 13:31:19 GMT\n",
            "(47.0957648, 37.5499621)\n",
            "https://news.google.com/rss/articles/CBMimwFBVV95cUxOTVZqZWdIeTBRVmFFTVNtR3NPVHZGQUtVaUpRN1N2NkNVd3BaZFlsVEVKME94S29TQ3c0YXJsTzE5VkhsdURrU19STDhlZjZFWl9iZFM5MTh5MGxQcWVjdHowYk0tUmVRUW5GY0k0SmMwSlduZWNsd0dfcmpoNVdCblltSTBqNXJZeEJfcDh2SXgwemdTY09pWDBIZ9IBmgFBVV95cUxNQTVKWDd1YUNPSHdUYzViQnVyQ2JONzlud292QlpIaHJ0M05YWUpQY3pFTi15cFQtcUlGQkFGNHhCNVJiVWZvRDFGTFZoTV92ZzdlcFNUc0hWUmVLcm1ZWFQ5WUlGTUVVSXNDemphekNLM3lXb3dCeVZLVTdJNWhVdWx0c2pocm9ZMXBuaGdfWG93TXZMMUtmdEFn?oc=5&hl=en-US&gl=US&ceid=US:en\n",
            "\n"
          ]
        },
        {
          "output_type": "stream",
          "name": "stderr",
          "text": [
            "WARNING:urllib3.connectionpool:Retrying (Retry(total=1, connect=None, read=None, redirect=None, status=None)) after connection broken by 'ReadTimeoutError(\"HTTPSConnectionPool(host='nominatim.openstreetmap.org', port=443): Read timed out. (read timeout=1)\")': /search?q=Mariupol&format=json&limit=1\n"
          ]
        },
        {
          "output_type": "stream",
          "name": "stdout",
          "text": [
            "Moscow blames Ukraine for damage to Mariupol theater Russia bombed - VOA - Voice of America English News\n",
            "Thu, 24 Oct 2024 07:00:00 GMT\n",
            "(47.0957648, 37.5499621)\n",
            "https://news.google.com/rss/articles/CBMiqAFBVV95cUxQYzlZcGJOQTZ5dTVzc3dlMmhUVnptNjk3NWIzN0hIdTFKdFEwZl81bWJFREY3ZFF4ekJwdkJ0dEhlUkd2NnphdWs3cVkyWkFxX0lFaFdBRFFDd21UQ3ZCZUNPcW15aUt6OGlOd1VWRmEyZkJ5MGpadWNJWWJYR08tazB5N2VjMThvb1NYbVNGb2tDRDJxV2NqWC1kLXZDOUZWV1R6eFJFVDY?oc=5&hl=en-US&gl=US&ceid=US:en\n",
            "\n"
          ]
        },
        {
          "output_type": "stream",
          "name": "stderr",
          "text": [
            "WARNING:urllib3.connectionpool:Retrying (Retry(total=1, connect=None, read=None, redirect=None, status=None)) after connection broken by 'ReadTimeoutError(\"HTTPSConnectionPool(host='nominatim.openstreetmap.org', port=443): Read timed out. (read timeout=1)\")': /search?q=Mariupol&format=json&limit=1\n"
          ]
        },
        {
          "output_type": "stream",
          "name": "stdout",
          "text": [
            "Russia reinforces defense: concrete plant relaunched in Mariupol - Espreso.tv\n",
            "Thu, 17 Jul 2025 15:21:00 GMT\n",
            "(47.0957648, 37.5499621)\n",
            "https://news.google.com/rss/articles/CBMirAFBVV95cUxORHgxLU5HZkZsTG1ZNm1mYkd0dzlsdDI2Z2Z1TEZ6Z2l4U2pYQmd6MDBtTjNGY0ZTVm1xcHNBckdUd2VXV3haMERBNkI4UjQ5RkxoY3c4eDdYMU9JSjM0MWljM1QyeHhhYXdvYmtRem9fWkJJV3NyaDdyeXR3ZHZLZXNLWWFsWUF5aUZ1Q2pRZkwwcG50XzJ0SWs2ZG8zQmFZU21RekFwZVpjU0550gGyAUFVX3lxTE4zSWdwbEJQdUwxazhjSWdBakM1UW1ROXVuY2NVTWFWSW9UQXVIaEJYdmhPaDFQTkoybFo3S0pnRUE2a1llQjlTQ0NkNEhGbUtGVzFPSDAtVnEyVjdDNVFqYW9hYVBPdS1KVmxEOXozd0RXZzgzOFZhV216VGNLVVJDUmpOWnM4aFEtQzNUMVlQcWpyS1oxaEpwZno4RnlWbjkzWWFaenBGYUNZbWt4Q09fcGc?oc=5&hl=en-US&gl=US&ceid=US:en\n",
            "\n",
            "Russia building road to connect Crimea, Mariupol, with Russia's Rostov Oblast, Putin claims - The Kyiv Independent\n",
            "Thu, 19 Dec 2024 08:00:00 GMT\n",
            "(47.0957648, 37.5499621)\n",
            "https://news.google.com/rss/articles/CBMiiAFBVV95cUxOc0tQcC10SWlxZVZGMHdZbEpTNENPd0M1eE15NE13dTZkcmNTRWM4UTZPZnBGNV82ekY4cmk5QzRYT0d0aWh0d09va2s3cmFOSDRvZXd3QWgydnpiYmtWVUdZd1A1NFZuMFhiOS1oSXlBY0tHWFZZN1RYSVoyTUVOVGJ5cEVUTVpH0gGOAUFVX3lxTE1mYzdoamM5V1k1eFk2dnNhQUd4NTZQRWJDODA4VWt6OGZoS0k2YnJZMWR2dmpSQnBLUW44dFNUZ3ctcDFLdHhrbU1nZWo2aTExaHFvMzYwQ1JXM3JINm9fQW9ySzI1bmsxQnVrbVNVSmxaS1lXX0YwdWpVU3VoWXF3QXFZaERDUl9wWHU5dXc?oc=5&hl=en-US&gl=US&ceid=US:en\n",
            "\n",
            "Actors who sheltered in Ukraine's Mariupol theatre bring story of bombing to the stage - Sky News\n",
            "Tue, 14 Jan 2025 08:00:00 GMT\n",
            "(47.0957648, 37.5499621)\n",
            "https://news.google.com/rss/articles/CBMivgFBVV95cUxOSXZpM0dXX3U5SFNCb1FfRnVrWS1QM1F4YmtiaU5pRkN4VEZsTW12MThCZnRvdEloQmh5TUVLcUQxdUxaNG1EcU8xaXY0SXZOSms5Zm00X25jR3RPMU1EeE9pY2kxMDk1Zko5N3J6UVZoSm9TQW5oYVNKcDhOS1FFUm55dzl1VXdqRWZCSC1uSzMzbmlPRDZjb2hkbXk2UUVzd1h5alNOa2duOXE5dnBGVXdpYURvYV90WWtyWXl3?oc=5&hl=en-US&gl=US&ceid=US:en\n",
            "\n"
          ]
        },
        {
          "output_type": "stream",
          "name": "stderr",
          "text": [
            "WARNING:urllib3.connectionpool:Retrying (Retry(total=1, connect=None, read=None, redirect=None, status=None)) after connection broken by 'ReadTimeoutError(\"HTTPSConnectionPool(host='nominatim.openstreetmap.org', port=443): Read timed out. (read timeout=1)\")': /search?q=Mariupol&format=json&limit=1\n"
          ]
        },
        {
          "output_type": "stream",
          "name": "stdout",
          "text": [
            "Beneath the Rubble: Documenting Devastation and Loss in Mariupol - Human Rights Watch\n",
            "Thu, 08 Feb 2024 08:00:00 GMT\n",
            "(47.0957648, 37.5499621)\n",
            "https://news.google.com/rss/articles/CBMiZkFVX3lxTE5Zd3l1aDNDN3gzS0lJbVFaMWRZN2ZlazVOLWd1TVpJR2VnRFRET1hPMEpvenVFRXAyTFpIS3M1R1lrM0QwcFM4MEZHSTRyWkZrMVJjUTcxLVRNZGY2a19HV01qWmRfdw?oc=5&hl=en-US&gl=US&ceid=US:en\n",
            "\n"
          ]
        },
        {
          "output_type": "stream",
          "name": "stderr",
          "text": [
            "WARNING:urllib3.connectionpool:Retrying (Retry(total=1, connect=None, read=None, redirect=None, status=None)) after connection broken by 'ReadTimeoutError(\"HTTPSConnectionPool(host='nominatim.openstreetmap.org', port=443): Read timed out. (read timeout=1)\")': /search?q=Mariupol&format=json&limit=1\n"
          ]
        },
        {
          "output_type": "stream",
          "name": "stdout",
          "text": [
            "Victoria, a resident of Mariupol, rescued her cousin, her husband and an elderly couple, and twice escaped alive from the city - Official website of Ukraine\n",
            "Mon, 24 Feb 2025 08:00:00 GMT\n",
            "(47.0957648, 37.5499621)\n",
            "https://news.google.com/rss/articles/CBMi6AFBVV95cUxPaEdqRHMxNDJOSnQyUE85cmRfTmJlaTVaN004dWRsaW1PN3pKVkJZcDl0M25lUlllSndGdzBkYnE5QWdZaDA3XzZDNHlOWWJ0am9TWkhvSXZYOUFVWFZLNU43SWFGdnVFdng3UG9fQW9uMWxGeS1qSlE4OXdoaG1tLVNydzNwVTVnNWI3S2t6WUh5eTU5QUJoMGZ0N1Jxc3dydndvUzRHQjJldEpNMDBWeGJDQUdDT0Z1bk1XNTBqNkZULVVWUTZSVUtmTGtiaUJxdDVGbnNkMG93X1UxZ0ZrYXk4Q3IxWkh0?oc=5&hl=en-US&gl=US&ceid=US:en\n",
            "\n"
          ]
        },
        {
          "output_type": "stream",
          "name": "stderr",
          "text": [
            "WARNING:urllib3.connectionpool:Retrying (Retry(total=1, connect=None, read=None, redirect=None, status=None)) after connection broken by 'ReadTimeoutError(\"HTTPSConnectionPool(host='nominatim.openstreetmap.org', port=443): Read timed out. (read timeout=1)\")': /search?q=Mariupol&format=json&limit=1\n"
          ]
        },
        {
          "output_type": "stream",
          "name": "stdout",
          "text": [
            "Russian commander behind Mariupol strikes killed by 'suicide bomber' - London Evening Standard\n",
            "Fri, 30 May 2025 07:00:00 GMT\n",
            "(47.0957648, 37.5499621)\n",
            "https://news.google.com/rss/articles/CBMiwAFBVV95cUxOTnNPREMyMmFvdVVqNXZYdFFBR0VkMENkaGJXbTNORHF4S2dSSmJPclpmd0praWVJLTBhTk1WZVhfMGtucXlUaHRXNDkyUEFuQXBBNUZBbUNEbkRfb3hqa0hFNjB0bU5Xa0RuVzd2cVNGS0xJeWFIZjdJb1ZMeU5TQXZ1TlZlYjdPWGtJOG5jVGRkdW5PVXFaZEVHUEFiVUc2bndDcnZGYy0xb2RBYjEzdnVyejRta2dlMkdKTlJnSGM?oc=5&hl=en-US&gl=US&ceid=US:en\n",
            "\n"
          ]
        },
        {
          "output_type": "stream",
          "name": "stderr",
          "text": [
            "WARNING:urllib3.connectionpool:Retrying (Retry(total=1, connect=None, read=None, redirect=None, status=None)) after connection broken by 'ReadTimeoutError(\"HTTPSConnectionPool(host='nominatim.openstreetmap.org', port=443): Read timed out. (read timeout=1)\")': /search?q=Mariupol&format=json&limit=1\n"
          ]
        },
        {
          "output_type": "stream",
          "name": "stdout",
          "text": [
            "Largest Chechen convoy drives through occupied Mariupol - Video - The New Voice of Ukraine\n",
            "Sun, 29 Jun 2025 07:00:00 GMT\n",
            "(47.0957648, 37.5499621)\n",
            "https://news.google.com/rss/articles/CBMisgFBVV95cUxQUDNsMkNIQUh3UzIwR2VpQ2JaTnpkcDcwbzJoc00xOHFvbkh2eXU3cldSYjVQVTRseGlOLXIxNUFMalhvUHhoN0Q4NXltNi14WVFzMTJubzJhUkRBU211QlRqREY2ZVIyRko3bERvMkpPU2l0ZnJ1OV94dVJncEcwQUtpVmJZcldzVXoxMDYtTVhEN0JTVnY3bmgyLWFqbjNGMjREUlVJSWtUeVk5ZWlKSEd30gGuAUFVX3lxTE9tdXNoM3hKVnU2QkltZEZMOFV2OHNoR1RxN3hPWWxYNVVDZzZpX3dKb0hxaUFKOUg1VVNBd004UnpldkhDRkNxdjdFQm01dks4ZUxZS3BHNDlOejluRU45S21YVFRhZWxoY2ZTcUFabVhqQ3lGLVJoVmU3YkZqQ01BcHNDNDctcVdfcWlGaEJZWWFMZ2NBWXhFSlNQZm9IX20tQkhfUGZIZE9tTXZQZw?oc=5&hl=en-US&gl=US&ceid=US:en\n",
            "\n"
          ]
        },
        {
          "output_type": "stream",
          "name": "stderr",
          "text": [
            "WARNING:urllib3.connectionpool:Retrying (Retry(total=1, connect=None, read=None, redirect=None, status=None)) after connection broken by 'ReadTimeoutError(\"HTTPSConnectionPool(host='nominatim.openstreetmap.org', port=443): Read timed out. (read timeout=1)\")': /search?q=Mariupol&format=json&limit=1\n"
          ]
        },
        {
          "output_type": "stream",
          "name": "stdout",
          "text": [
            "Partisans destroyed an \"Akhmat\" vehicle in Mariupol - Українські Національні Новини\n",
            "Sun, 13 Jul 2025 03:11:45 GMT\n",
            "(47.0957648, 37.5499621)\n",
            "https://news.google.com/rss/articles/CBMifEFVX3lxTFBFV2VWVXZCWElpZ0JYNDlUSEJxTnJQRUZGZS1MUTlVanpKSmVOSkFibG1kbTZRUkMwV1BPZmFyT2ppRFRib2thenlKeHFXbUxjU3duZnhvODZ6UEVYRlpva1ZFM290MkZSQ3picVlmdFg0V21rbU5TY2IteTnSAXtBVV95cUxQUnNOSjUtVXEyR3ZZcmNramR1NVRXV2cwTThrYTdMazU4bnZrR0oxRl90U2ozbkh0Z2NGZ1A5NmwtZ0swc1FOOXpIZUlITFBGNm1kd2xlWXg3enJNNzJwNGtMRmI5VGl2d2h2TERNVFNIcnRNa1puTDRyeWs?oc=5&hl=en-US&gl=US&ceid=US:en\n",
            "\n",
            "Ukraine’s Mariupol ‘heroes’ returned in prisoner swap with Russia - The Independent\n",
            "Fri, 27 Jun 2025 07:00:00 GMT\n",
            "(47.0957648, 37.5499621)\n",
            "https://news.google.com/rss/articles/CBMinAFBVV95cUxNd0V1MjR3QmN3cnByczJLVF9XLURnSnJ5LTRHYzduNFZKY3lPTHVraFV0ZHdOc1RHcDdNX2p4cmdHZzF1RmNDVlZoVGF3T21oek1uUUFhOHNvWk1pUFVWSE5UVTEtTTlMZjM3UUM5UUFPaUx5aHhaYzFQbzlOQ013elQxNm9HMVhjTkRuNnZpZlpQa25kdWlvWnVtTkE?oc=5&hl=en-US&gl=US&ceid=US:en\n",
            "\n"
          ]
        },
        {
          "output_type": "stream",
          "name": "stderr",
          "text": [
            "WARNING:urllib3.connectionpool:Retrying (Retry(total=1, connect=None, read=None, redirect=None, status=None)) after connection broken by 'ReadTimeoutError(\"HTTPSConnectionPool(host='nominatim.openstreetmap.org', port=443): Read timed out. (read timeout=1)\")': /search?q=Mariupol&format=json&limit=1\n"
          ]
        },
        {
          "output_type": "stream",
          "name": "stdout",
          "text": [
            "Photographer from Mariupol: we lost everything, but we survived and remained Ukrainians - Uacrisis.org\n",
            "Thu, 14 Nov 2024 08:00:00 GMT\n",
            "(47.0957648, 37.5499621)\n",
            "https://news.google.com/rss/articles/CBMiWEFVX3lxTFB3dDJsYWZ5WG5qQ3dLbmdoRWRWOGhId09CSU4tZDBjTmlaWnVfa0RKalFxTTlaNG1VdGdzZmEyOGc3MThPc25QTTlrcHNLQUdwSFNRWjQyNELSAV5BVV95cUxPQzZfZ3g3Q202d1dxeWIxd1FOUi1sVDVDZXZaUHNfX182ZUt0bkRPN0NrVXdzMnZYSGFjUlN3SU1SN2hLbXd1N3ZKeWlmbzNaLU40bElwS2VkOV9TNm5n?oc=5&hl=en-US&gl=US&ceid=US:en\n",
            "\n"
          ]
        },
        {
          "output_type": "stream",
          "name": "stderr",
          "text": [
            "WARNING:urllib3.connectionpool:Retrying (Retry(total=1, connect=None, read=None, redirect=None, status=None)) after connection broken by 'ReadTimeoutError(\"HTTPSConnectionPool(host='nominatim.openstreetmap.org', port=443): Read timed out. (read timeout=1)\")': /search?q=Mariupol&format=json&limit=1\n"
          ]
        },
        {
          "output_type": "stream",
          "name": "stdout",
          "text": [
            "Russia releases 25 captive Ukrainians, including Mariupol defenders - politico.eu\n",
            "Wed, 15 Jan 2025 08:00:00 GMT\n",
            "(47.0957648, 37.5499621)\n",
            "https://news.google.com/rss/articles/CBMiqAFBVV95cUxQcTlpcDlpdjFjWVFrNWE0OXhadDk5d3JPQkEzaHB3NHlYNDFaU2JJUmpJQy1zSFpPWjZxOVdXd3JvVG5vdVNUeHU5YlczVDF5ZEo1RkFBVFJOS2RGTWFLMHFlQ2hHbE8tVEFHb0tDZzVrbWdPMkRUamstUDVOWThyQUlnM0F5aFlvSmZMWmNheUZwaWR3Y3ZHLWxxdy1YVjNOc1NfSmtNZ1o?oc=5&hl=en-US&gl=US&ceid=US:en\n",
            "\n"
          ]
        },
        {
          "output_type": "stream",
          "name": "stderr",
          "text": [
            "WARNING:urllib3.connectionpool:Retrying (Retry(total=1, connect=None, read=None, redirect=None, status=None)) after connection broken by 'ReadTimeoutError(\"HTTPSConnectionPool(host='nominatim.openstreetmap.org', port=443): Read timed out. (read timeout=1)\")': /search?q=Mariupol&format=json&limit=1\n"
          ]
        },
        {
          "output_type": "stream",
          "name": "stdout",
          "text": [
            "Three years of life - three years of war. Yehor from Mariupol - Unicef\n",
            "Fri, 21 Feb 2025 08:00:00 GMT\n",
            "(47.0957648, 37.5499621)\n",
            "https://news.google.com/rss/articles/CBMibkFVX3lxTE5qNld3Y0p1dWo4SWRaZVlIM2xQaUNWRDFoeU8zaDBWS21WTVJxYzI1eW1Ed3d3NGRwM0JyRHdMb3UzUzFwZEljWE9FdlNzZUFNVGV3NnBHOUJCc2V5N0hJelZfbnhaRDduWVVoY1Jn?oc=5&hl=en-US&gl=US&ceid=US:en\n",
            "\n",
            "Car carrying Russian Security Service officers blown up in Mariupol – city council - Українська правда\n",
            "Fri, 28 Feb 2025 08:00:00 GMT\n",
            "(47.0957648, 37.5499621)\n",
            "https://news.google.com/rss/articles/CBMiZEFVX3lxTFBDdDVMbWIxSTVrTF9MN1ZxYUoxMEhiNU9UM2JBak1uQldOZzdoUUZpZVhjQ1R6MmxKUjU5YlVaQ2plSU5UZGk0eXFfOGZCWWg4ZnpraEJ3VVVWeF93UXByNHA5LTfSAXBBVV95cUxNZHBpRmR4ZlNnbk5MbVZpQXBYUHB3dkdBcXNBN2poS0JRZlVhVVRXZE02SkpLUFdnWEVsT09tY2t0R0NpTVBVMzNOQS1qekxjRVRKd09MU1BXLXgybWlZdzZWUE91SExuUkhucktXWkRr?oc=5&hl=en-US&gl=US&ceid=US:en\n",
            "\n",
            "Ukraine: New Findings on Russia’s Devastation of Mariupol - Human Rights Watch\n",
            "Thu, 08 Feb 2024 08:00:00 GMT\n",
            "(47.0957648, 37.5499621)\n",
            "https://news.google.com/rss/articles/CBMijgFBVV95cUxPQkp5eWNsLW1pcl9MUGtCZWxHcWl6LTZZa2lPYThGNXhvVTdQcjlaZkt0ckhWWnZmUWNqa2dIU1U0LVNHTzNxckdOUUVvQ3NMY3hNMEtXS19GZktTcVZLLUtGVEFyWHA2aE9BQ3BIQi1Uam82c1YwMGsxcmZweUsyNTFfYVVCcGhGRVFBZkh3?oc=5&hl=en-US&gl=US&ceid=US:en\n",
            "\n"
          ]
        },
        {
          "output_type": "stream",
          "name": "stderr",
          "text": [
            "WARNING:urllib3.connectionpool:Retrying (Retry(total=1, connect=None, read=None, redirect=None, status=None)) after connection broken by 'ReadTimeoutError(\"HTTPSConnectionPool(host='nominatim.openstreetmap.org', port=443): Read timed out. (read timeout=1)\")': /search?q=Mariupol&format=json&limit=1\n"
          ]
        },
        {
          "output_type": "stream",
          "name": "stdout",
          "text": [
            "“The businessman who took the Mariupol people hated them for the disgrace inside”. Journalist Anna Murlykina tells real stories about her native Mariupol before and after the occupation - Бабель\n",
            "Thu, 21 Nov 2024 08:00:00 GMT\n",
            "(47.0957648, 37.5499621)\n",
            "https://news.google.com/rss/articles/CBMiuwJBVV95cUxQX2xuWjJGRXhQX1p3eVlsaFJKZVZyUTlLeWo2ZG8xOERNUTA1UEphNWtXbEpQQ2twWnpCczd0cXRqUUNoRTAtZllyRjVWMFF1VzU0cjRoVXphb3hPS3pTbUxwSTdhbnVyQ2ZITmdZQWFHbmRzTngyM1lza2VjZDB4MDAxSWE5RW8zTzlzNE8zRkdnY1l1amRVZ2RwX3g4WWNTSmE1dVdHM1V5SXBYdTRva3lwSjNXNlplNlR2YVVseVZWUV9kTTdrS1ZHT1hSMEhGQUljM1ZHbWRIVUZidUxja2pUa0FfbmNKMG9iRlZJSl9NMDVyWnRoN0JUTnpwb1RyZkV2VVhHdmVTeUxDRkVCQnNmZ0pneWVJTTExcVBUMlN0N0xGaFo2T3VRbzhEb2ZFZFV3VUpiTkVVbUXSAcACQVVfeXFMT2UtZjBXaGJ3NERiTGJzWl9ZcEpLd2Rpc2tCc1hLWUk4WTZlU0N1UjJZOE83MFpha0V1LU93VXZ1VmhDcmRIWVpBd3FvUVp4cll6NDN0M2hkeFNZMXlUX2VlMF91VUcxUV85SGtIVmItcXp6Y2RrNWVPSDhVMWdfWnpIZG9hV1pzZFhJSENpc1pkcnpGWnBVZlZoUlpuay1ESW1vRlI0OERyNzJSdjdPUW5vTDV1ejZ6cWFHM3RGb29xTlY3MU1md1VlUHV6YkMxZHdkZEVIZk56VkZVbjNiUGhOTFd4a2FESm0zODExUXBfVW1LLXlhTWZpcmxIa05Vd3VUbDMwMThiVEEyQkpXZ3lORjdNUnBPYXE3emJqUE9JZ3BOTHZjdzI1NFhmanVBMTNHcTM3NWZoRWJtUE5HYzg?oc=5&hl=en-US&gl=US&ceid=US:en\n",
            "\n"
          ]
        },
        {
          "output_type": "stream",
          "name": "stderr",
          "text": [
            "WARNING:urllib3.connectionpool:Retrying (Retry(total=1, connect=None, read=None, redirect=None, status=None)) after connection broken by 'ReadTimeoutError(\"HTTPSConnectionPool(host='nominatim.openstreetmap.org', port=443): Read timed out. (read timeout=1)\")': /search?q=Mariupol&format=json&limit=1\n"
          ]
        },
        {
          "output_type": "stream",
          "name": "stdout",
          "text": [
            "Housing for Mariupol residents to be built in Kyiv Oblast - Українська правда\n",
            "Mon, 07 Jul 2025 07:00:00 GMT\n",
            "(47.0957648, 37.5499621)\n",
            "https://news.google.com/rss/articles/CBMiY0FVX3lxTE1OR0NDY0VNNkhpYXFMQVlaYl9TZVloZWpNR0FtQmNpYktqUTNtVnVIcXVtYzFZMFRCemVqekxLX0dseVhQZjhjU0s2ZXhnTlFJNExLRElWZ3FyRUZTMHpmQy1VWdIBb0FVX3lxTE5rdTRBLWEzazh1QzVkZDRycmxMREtVTmlLME1lc2xfeWpJdmFreFQ0WjhDbF9pQVFWZl9GNC1kejRtN3BHMnlDb2VMQVZhWDZNTVlrUlVmY3Zzb21UdVdYcFN6X2xKMGhKZTM0OWUycw?oc=5&hl=en-US&gl=US&ceid=US:en\n",
            "\n"
          ]
        },
        {
          "output_type": "stream",
          "name": "stderr",
          "text": [
            "WARNING:urllib3.connectionpool:Retrying (Retry(total=1, connect=None, read=None, redirect=None, status=None)) after connection broken by 'ReadTimeoutError(\"HTTPSConnectionPool(host='nominatim.openstreetmap.org', port=443): Read timed out. (read timeout=1)\")': /search?q=Mariupol&format=json&limit=1\n"
          ]
        },
        {
          "output_type": "stream",
          "name": "stdout",
          "text": [
            "Mariupol has fallen to Russia. Here's what that means for Ukraine - NPR\n",
            "Wed, 18 May 2022 07:00:00 GMT\n",
            "(47.0957648, 37.5499621)\n",
            "https://news.google.com/rss/articles/CBMijgFBVV95cUxPcDNkcVZNMXVQRHg2aXFNcjgwTmJCUjI3YUlyRmZxcTlDcUxmUGZtY0huaHpkX3k2NDJ5LWNCMUlPWFJaWjRoczI0azZ4Z3BYbHNMdFVzMzV3T0oxYTdqYllLRVUwRURPU1ozOE9xRXNLWlRJMm5BWVdmQVVfNFhvMXYxM3RnSnhkaGRLaVJR?oc=5&hl=en-US&gl=US&ceid=US:en\n",
            "\n",
            "Ukraine: Deadly Mariupol theatre strike ‘a clear war crime’ by Russian forces - Amnesty International\n",
            "Thu, 30 Jun 2022 07:00:00 GMT\n",
            "(47.0957648, 37.5499621)\n",
            "https://news.google.com/rss/articles/CBMi1wFBVV95cUxQRFpxVUVmOFQtblBXdTNvTlN3cUpaZ2F2QTN4VnR6WlBWc0RUYi1jVEJaVHpSYWlkY2k1WkV1alQwNkU5cl80a2otaUJfZm10OVUyZWI5M2RBZ0tUSDdPcWEyczNaV25EbGxQak9ZRUltZk5XZEhtckE3ak1qc1NGY05XX19GVW5ZdW5Jdzc4dkoyQ190YmM0OEhXVHJzVU5oVVpUYjhjNnJ3R0hkdVRnNHBSZ3B4RzlpMzMzWWtLX1RxbkhvTXRjbGhCY1ZjR3J3dFV4ZXRPYw?oc=5&hl=en-US&gl=US&ceid=US:en\n",
            "\n"
          ]
        },
        {
          "output_type": "stream",
          "name": "stderr",
          "text": [
            "WARNING:urllib3.connectionpool:Retrying (Retry(total=1, connect=None, read=None, redirect=None, status=None)) after connection broken by 'ReadTimeoutError(\"HTTPSConnectionPool(host='nominatim.openstreetmap.org', port=443): Read timed out. (read timeout=1)\")': /search?q=Mariupol&format=json&limit=1\n"
          ]
        },
        {
          "output_type": "stream",
          "name": "stdout",
          "text": [
            "Russia scrubs Mariupol’s Ukraine identity, builds on death - AP News\n",
            "Thu, 22 Dec 2022 08:00:00 GMT\n",
            "(47.0957648, 37.5499621)\n",
            "https://news.google.com/rss/articles/CBMimwFBVV95cUxPVlhrUzdxZlQ1YVRoSnViX3BmUkFZejBkOExOUG5TVDcxTVo1YnFMcUYtTTFWMnVUaEdYQmZXeU1QeWQtX1ZubEk4TTZRX3YxYkJ3b3gxM2dKbGJYMlNDc3FfZThCT2tKaVpNMnM1cnJpdnRIYTR4SjRDQnNOWks3LW9zWkJ6OW4xMG5ndlNFd0kzbW1EVzEyYVpIUQ?oc=5&hl=en-US&gl=US&ceid=US:en\n",
            "\n",
            "Russia’s Informational Alibi as a Ploy to Shift Blame for Its Atrocities, from Izium to Mariupol - UNITED24 Media\n",
            "Sun, 15 Sep 2024 07:00:00 GMT\n",
            "(47.0957648, 37.5499621)\n",
            "https://news.google.com/rss/articles/CBMi0AFBVV95cUxQYklBOXRlekxaak5LYkJsbzQ4YUVOZmx4azExdlBWdXZqMjVtZVBCZmEzQzFWZHNoNExaanJ5Rm5CSjhXNTBrbk8waEF3SWpCQXFJRkROejJqMHdnRDcyVndoY21Odk1wYTA1a3FiSUEwRENkbEdSUDNuMkVnU1k4eThGM19qbDQ1Q1IxWTRaTjNOeGVQSGtTeFJ0OGh0S2pBRjA4ejBJYzRwRHdRaDZJWjJRRkY1Q2dwNWNmWVlyNHQ2QnJ3WEdMNTVzWjcwNzcy?oc=5&hl=en-US&gl=US&ceid=US:en\n",
            "\n",
            "3 years after fall of Mariupol, nationwide campaign for release of POWs begins - nhk.or.jp\n",
            "Tue, 20 May 2025 09:49:32 GMT\n",
            "(47.0957648, 37.5499621)\n",
            "https://news.google.com/rss/articles/CBMiYkFVX3lxTFAyTld5STdqWFRQM0IzaTlRa19PSzllbjhUa2lfd2VSMndNSDhndWFpTXRsZWI4X3NXeEZSb1ZOZlBzSFZUSHV2LUUwUmF1ZzJVdlhzQWtBeVRmTXFRSjlZazN3?oc=5&hl=en-US&gl=US&ceid=US:en\n",
            "\n"
          ]
        },
        {
          "output_type": "stream",
          "name": "stderr",
          "text": [
            "WARNING:urllib3.connectionpool:Retrying (Retry(total=1, connect=None, read=None, redirect=None, status=None)) after connection broken by 'ReadTimeoutError(\"HTTPSConnectionPool(host='nominatim.openstreetmap.org', port=443): Read timed out. (read timeout=1)\")': /search?q=Mariupol&format=json&limit=1\n"
          ]
        },
        {
          "output_type": "stream",
          "name": "stdout",
          "text": [
            "‘20 Days in Mariupol’ Filmmaker on What is Left of the City After the Russian Invasion | FRONTLINE - PBS\n",
            "Tue, 21 Nov 2023 08:00:00 GMT\n",
            "(47.0957648, 37.5499621)\n",
            "https://news.google.com/rss/articles/CBMiiAFBVV95cUxQRTIycHNVLWgwTklIMlB6SkFpYTdXdXBtdmRNUDN2N0s2R3QtX09aOHM0X1ZBdXg3Z2JXaS1RX3MzZGhLLVJlQnNfeXFxOVhmaXhkNm1jaFVaNW9PblhZQ2hLQUdqYm02MFV5LVJiMTkwRUlLZmZZNENNUnBhZHFhZzdWMTA0U0p4?oc=5&hl=en-US&gl=US&ceid=US:en\n",
            "\n",
            "3 years ago, fighting for Mariupol continued during these days. Mariupol residents who survived the blockade tell how they lost loved ones, saved others and continue to live without a home - Бабель\n",
            "Tue, 04 Mar 2025 08:00:00 GMT\n",
            "(47.0957648, 37.5499621)\n",
            "https://news.google.com/rss/articles/CBMivwJBVV95cUxOMHVFc0hzeUxYUmZ5NzRyN0QxTUFoejFBMUswSEN3d0NmMTA2Y0M4Z0dRQldZajFyLWhLNnh0cU10T0RCMC1CVl9POWFYeWNrQ0VNM0c2dUVEV2FvcFg3eXBDUjlFM0VIMUJZanJ6SDl3ekxwTHV5V0l2cldmMm5Yc2Q4LVgwQlloSGRuRXRKSzMxSTZWMlktU1BRMzJPaTJCTTV1RWVhUmVEc0NybWEtZThPUUNNMTNBal94aFJ6LWVsd2pjNEhQWU9xVEhWbU14Q1QzX2F5cVlrMmduYklIYW5nbFB6cWFxRFI2V1lldjczbkpxQkZvM3NyRDVFVHl1Qzk3UXpWZExvMEFnNHdNRGhiR2gxRmpyZG0talpvYVRkaEh0RGsxVElYdk9GSWhtV3VIS2k4VU02NGg2M3k40gHEAkFVX3lxTE9lejU1eGx3TXJjM3pwTHBkU1pqUnpROUNmVW8teUxsZFI4ZE9VaGh4V2FnYlhLcG9ETE9JOXA1Z3hyUTI0QVB0bGlYZkcyU1E4QkN4RjZ3T1ktQ3cwenYyQnlzeDZLdUI3M28yTG1jOXRLQXVyMWNmRDBlSzF5MEhyVjdvZXdmMUlEbUllUVBFUjFxM1Zram94TklzeFFzTE05NDB1ODFjZEp2UE4teHFCU25sdFlNZVd2UEt4RU5JaU5sRGVwY0JVLVZNaDVVTmdHQWVUd3FPMEZuZlNGZ3Vza0ZoZUVxN0pDNFhGRnNpcVJoV0dsZVMxN1Q4SlhvUkROeVNKRXNVWXhnT2toWkp2d1lfaGZFRF84dlRQZjVDMGFWR2JWZTM4aU5teGFhelFmbmpZWEpnQjdMYjZ6N3dVV2JFNg?oc=5&hl=en-US&gl=US&ceid=US:en\n",
            "\n",
            "Mariupol only for the invaders. Russia changes street names to totally plunder Ukrainian owners - khpg.org\n",
            "Mon, 21 Oct 2024 07:00:00 GMT\n",
            "(47.0957648, 37.5499621)\n",
            "https://news.google.com/rss/articles/CBMiREFVX3lxTE9TZWJPS2lqMHpZVW9ndHQzemI2cF9ZV1NibU8tYU53SVRGTWo5UU9feUUzUWlMb1E3Z1ktaURGclEyd3NV?oc=5&hl=en-US&gl=US&ceid=US:en\n",
            "\n"
          ]
        },
        {
          "output_type": "stream",
          "name": "stderr",
          "text": [
            "WARNING:urllib3.connectionpool:Retrying (Retry(total=1, connect=None, read=None, redirect=None, status=None)) after connection broken by 'ReadTimeoutError(\"HTTPSConnectionPool(host='nominatim.openstreetmap.org', port=443): Read timed out. (read timeout=1)\")': /search?q=Mariupol&format=json&limit=1\n"
          ]
        },
        {
          "output_type": "stream",
          "name": "stdout",
          "text": [
            "Putin gives Mariupol steel plant to Chechen leader's associates for looting - Українська правда\n",
            "Mon, 21 Oct 2024 07:00:00 GMT\n",
            "(47.0957648, 37.5499621)\n",
            "https://news.google.com/rss/articles/CBMiZEFVX3lxTE9DMkthYlNaWHdfbGVTZ1BhN1VESm5UekhlU3dtdTJ1em9aS3h5MVZLUkIxeXVKd2pIbTI1eTY0ZTdNTTlyQW9vWXNPc2pEeWZ3blFXdWpLVWtzWXFFbWtlUkQ2OV_SAXBBVV95cUxNUldiTTloZlRMQVZxOFdzSUVzT1paT1QxT3Q4N3piemxTS0laNWJ1dm1DTEtkVWNEQk1fYnJGN1A1cS14eUYtUjV1YWNCTlBvUUJXc2lhTW1kS0ZEb2dMT0x5aG5JcW9rYW51R09uZXd5?oc=5&hl=en-US&gl=US&ceid=US:en\n",
            "\n"
          ]
        },
        {
          "output_type": "stream",
          "name": "stderr",
          "text": [
            "WARNING:urllib3.connectionpool:Retrying (Retry(total=1, connect=None, read=None, redirect=None, status=None)) after connection broken by 'ReadTimeoutError(\"HTTPSConnectionPool(host='nominatim.openstreetmap.org', port=443): Read timed out. (read timeout=1)\")': /search?q=Mariupol&format=json&limit=1\n"
          ]
        },
        {
          "output_type": "stream",
          "name": "stdout",
          "text": [
            "Russians deport 119 Mariupol high school students to St Petersburg for \"re-education\" – National Resistance Center - Українська правда\n",
            "Fri, 03 Jan 2025 08:00:00 GMT\n",
            "(47.0957648, 37.5499621)\n",
            "https://news.google.com/rss/articles/CBMiY0FVX3lxTE5FOHpvb1llTUZtWnpheWZYeExkVEVxTXMtX1VUNWIzaGxvOF9zVFVhQm9tWk9iMkoxWUlDSURiaXF6SEpWelZIS2FZbzlXWWtYT1hGckhCeDBaNXktaW9wYXY4TdIBb0FVX3lxTFBYcEQwSXBaYWhOaW5Db1hCTEZwNkl4bmZNRTRIN1BWRWNZVy1tT1RuamF2UHpab0hDX210T0x0VF9VTEFDVlpudUZIbU9nZG5pWTNaNzd4Y0Fid21YMUVkdy1lUE5QSVlHcHJVeldxOA?oc=5&hl=en-US&gl=US&ceid=US:en\n",
            "\n",
            "How a massive steel plant became the center of Ukraine's resistance in Mariupol - NPR\n",
            "Thu, 05 May 2022 07:00:00 GMT\n",
            "(47.0957648, 37.5499621)\n",
            "https://news.google.com/rss/articles/CBMiiAFBVV95cUxNWklXeUllM05zQzFTQ3hCZXl0dHVaQjB6RlBGRFptSF9odzZ5UkM4QS1lbkRpVDdGNjJRTTB0N1VST19KbE96WXNKcllwYXVVZ1hnM3dRSk9wYUhuemtyR0xyZi1FQnNvNFdFbmdhMUlVLVh0d3dSTEpDVEFFZkM1MTJXbG9kWjhx?oc=5&hl=en-US&gl=US&ceid=US:en\n",
            "\n",
            "Putin’s Mariupol Massacre is one of the 21st century’s worst war crimes - Atlantic Council\n",
            "Tue, 24 May 2022 07:00:00 GMT\n",
            "(47.0957648, 37.5499621)\n",
            "https://news.google.com/rss/articles/CBMiwgFBVV95cUxORUhFampLQXZreFJOWEZXem8tdGl2amdzSklwOE5XZHNKQWVEOUVpRjg3alRPM1BUa01HYjBZWXZoeE1aU293bWRtYm1ENzZaQVVuaEpaQ2Q4R1ZQY1BWVVlZR1ludlpXSHlYRnJmcmp3bGQ5STV1Z0dyX2NLZUNZbDI5XzBFVHJlbzhacXcxSi11VUpKR2NZLUlVb3V6RnJHVTFsTXhrYWNfNTVVaFpkN0hXeE5Ta3RITHc0RFVJaEZIdw?oc=5&hl=en-US&gl=US&ceid=US:en\n",
            "\n"
          ]
        },
        {
          "output_type": "stream",
          "name": "stderr",
          "text": [
            "WARNING:urllib3.connectionpool:Retrying (Retry(total=1, connect=None, read=None, redirect=None, status=None)) after connection broken by 'ReadTimeoutError(\"HTTPSConnectionPool(host='nominatim.openstreetmap.org', port=443): Read timed out. (read timeout=1)\")': /search?q=Mariupol&format=json&limit=1\n"
          ]
        },
        {
          "output_type": "stream",
          "name": "stdout",
          "text": [
            "A Russian facility was hit in Mariupol near airport - Мілітарний\n",
            "Sat, 25 Jan 2025 04:15:12 GMT\n",
            "(47.0957648, 37.5499621)\n",
            "https://news.google.com/rss/articles/CBMiiwFBVV95cUxQaUpxa241aUFwckMzS3gwMkxITTJ2cHJNekxCNm5PM1kwaXNPWU81dENBRkpDVFdLbmRxY00tV3haSHZMMnYxTEJVWi10aHJEN0RseXh4OV81OXdUS2xBV0ZURE5uYzBUU3JGZkRvZWRFclpOQlpWaEkwWENDX1djX2xnRGEycWFfVXl3?oc=5&hl=en-US&gl=US&ceid=US:en\n",
            "\n"
          ]
        },
        {
          "output_type": "stream",
          "name": "stderr",
          "text": [
            "WARNING:urllib3.connectionpool:Retrying (Retry(total=1, connect=None, read=None, redirect=None, status=None)) after connection broken by 'ReadTimeoutError(\"HTTPSConnectionPool(host='nominatim.openstreetmap.org', port=443): Read timed out. (read timeout=1)\")': /search?q=Mariupol&format=json&limit=1\n"
          ]
        },
        {
          "output_type": "stream",
          "name": "stdout",
          "text": [
            "The fall of Mariupol could conceal war crimes evidence from the world and give Russia’s offensive a boost - CNN\n",
            "Tue, 17 May 2022 07:00:00 GMT\n",
            "(47.0957648, 37.5499621)\n",
            "https://news.google.com/rss/articles/CBMiigFBVV95cUxNTlFUNk5Xck84eUpOOEMtSjF3LXFHYUp0cHROb24zdG1NWXVJSW1oTko2OGhUdVpWaXFuNlIwdVdtajllMG1IMERPOU1ZTmMtQkF1ZW5sOE5OX1lQM3VYTFRudFdOdmxzYlRUOW55V0FDVlc3SXNwTmd1MUgzam1paWhyYi1VQlhTbXfSAY8BQVVfeXFMT3VxTjg4ZFVpYkVxU3UxOXh4dFpZM1d1cHpwSjhiQkFBUTEyOGgwNHVsNHNiUk9kV3JITFZqQjBuNFpfWGNiZ2FhVVBVcVVVSjR6YWV3cFNGZ01raU44aE9yVUQtYkV2RVVRMkQ3VGJKalVxZ3dWZzh4LW1Jdm8zaXJtbHp2d05YaG1jMUNHMFU?oc=5&hl=en-US&gl=US&ceid=US:en\n",
            "\n"
          ]
        },
        {
          "output_type": "stream",
          "name": "stderr",
          "text": [
            "WARNING:urllib3.connectionpool:Retrying (Retry(total=1, connect=None, read=None, redirect=None, status=None)) after connection broken by 'ReadTimeoutError(\"HTTPSConnectionPool(host='nominatim.openstreetmap.org', port=443): Read timed out. (read timeout=1)\")': /search?q=Mariupol&format=json&limit=1\n"
          ]
        },
        {
          "output_type": "stream",
          "name": "stdout",
          "text": [
            "Full coverage: Erasing Mariupol - AP News\n",
            "Tue, 09 May 2023 07:00:00 GMT\n",
            "(47.0957648, 37.5499621)\n",
            "https://news.google.com/rss/articles/CBMiXEFVX3lxTFA1RFRwbzVaNGM5WUpjWDZBTFRXN0hwbHo2RkZkbS1QbkF5VFRZSUk1OHRabmRiLUhCWFIxM1V5WHFlQ0RmYUY4c3RyX3MydUJUcF8xazlTSmVsZHVO?oc=5&hl=en-US&gl=US&ceid=US:en\n",
            "\n",
            "Mariupol: Key moments in the siege of the city - BBC\n",
            "Tue, 17 May 2022 07:00:00 GMT\n",
            "(47.0957648, 37.5499621)\n",
            "https://news.google.com/rss/articles/CBMiWkFVX3lxTE9QNE9zNzBISDdZRXd6S2pBSEpxVUdGZlVIQ09aS2hBdmp4d25ZalNQZnA4WmdSMWZORnE4dkJobTFHV0R3MkdrbkpwNWNUUkRRYXZEN2I3NFExQdIBX0FVX3lxTE51MjlEOWJNVmRqQllYbjBQVGN6X0RXLW93S0tMcVowU3ZRMkNuWDcycmhObGhWN3dNM1h1VU5UQW5vUGhGRkJHVFI0WFdlN3FvNEpScUs3cmNDY0hDR0pF?oc=5&hl=en-US&gl=US&ceid=US:en\n",
            "\n"
          ]
        },
        {
          "output_type": "stream",
          "name": "stderr",
          "text": [
            "WARNING:urllib3.connectionpool:Retrying (Retry(total=1, connect=None, read=None, redirect=None, status=None)) after connection broken by 'ReadTimeoutError(\"HTTPSConnectionPool(host='nominatim.openstreetmap.org', port=443): Read timed out. (read timeout=1)\")': /search?q=Mariupol&format=json&limit=1\n"
          ]
        },
        {
          "output_type": "stream",
          "name": "stdout",
          "text": [
            "Behind the Lines: The Sugar-Coated Myths of Mariupol - Center for European Policy Analysis (CEPA)\n",
            "Thu, 24 Aug 2023 07:00:00 GMT\n",
            "(47.0957648, 37.5499621)\n",
            "https://news.google.com/rss/articles/CBMigwFBVV95cUxNdzNMVkVFQmc2QkVOU3pybTh5WVVIUFd0TjFGc3h5eUJaWktZS0lMOFpOcnJTWmN3czFPV1N0QVVJdzdvT0VKRmR4STgycWd6WjJfWlpiZlMtNjVqN3VUd1hHM1VkaGZmTnhtdWgyS0F2alpqdTJXenlYYVNBb2dLR3Yzaw?oc=5&hl=en-US&gl=US&ceid=US:en\n",
            "\n"
          ]
        },
        {
          "output_type": "stream",
          "name": "stderr",
          "text": [
            "WARNING:urllib3.connectionpool:Retrying (Retry(total=1, connect=None, read=None, redirect=None, status=None)) after connection broken by 'ReadTimeoutError(\"HTTPSConnectionPool(host='nominatim.openstreetmap.org', port=443): Read timed out. (read timeout=1)\")': /search?q=Mariupol&format=json&limit=1\n"
          ]
        },
        {
          "output_type": "stream",
          "name": "stdout",
          "text": [
            "Russia has stolen over 180,000 tons of Ukrainian grain from occupied Mariupol, Shmyhal says - The Kyiv Independent\n",
            "Tue, 08 Oct 2024 07:00:00 GMT\n",
            "(47.0957648, 37.5499621)\n",
            "https://news.google.com/rss/articles/CBMiuwFBVV95cUxPdUQxYW1CYlJXdzloT0UzWVJyWlpfeTVwTkVDdVpVeXBmcVhXeHp2eWkwSmFzU1F6TFF2MFQwREtIM0xKaERZTXRLcEE0TmpDTGxPUXF5UldfQ083UTFZTmtRQWhrcDJhMlV2V2dXOHA0LUd2aU5yQXZlNHMwVEZ1ZXVqMzUtTkcxdzVRTll2VWFlSWpiazI2Y0Z4b2R5am9zSmdWaUo1YWlYVUplSnZTbFRnNUhaelZIa1c00gHAAUFVX3lxTE83empLQVJUTG5NYndmMGJVV2VEREU3MFl2a19YNDRwWlBtUkEtdnduV0MzSFNib21uNHBuSDQ1MWZPNHlSVjgyaDB1MlFBY1pNN2xGU1M4U0ptMHMxbWJsRFgxQlRFbk5yWVE3dVpZUnA2UFdkdHJiTTI3Nm12UFZkRUJxTEhmVDZPMzBpYllZYjREekYzcmRJWlFJTnRocUk1RkFPVmltQkxITWRMbzBqMHZBWUhXVW9FaTVoaTRhYg?oc=5&hl=en-US&gl=US&ceid=US:en\n",
            "\n",
            "Mariupol theater bombing was a clear war crime, Amnesty International says - NPR\n",
            "Thu, 30 Jun 2022 07:00:00 GMT\n",
            "(47.0957648, 37.5499621)\n",
            "https://news.google.com/rss/articles/CBMiiwFBVV95cUxOWXIycGpGTUZUeEs0MnZ6SVloeUhzd0V4MXJGTnlCZzNPbUVuSmdETkdsQ0hLajZxTlczRHQzRHFXWXBZVXVkQ0pvTEEzNGh5eDNhSWRWX0RzWTdJdEpxbFdjanBoVzNpX05XQmZMaVFSUUp2ZW1vak5hRWxwVEhpRjdBeW5iZVh3ZlQw?oc=5&hl=en-US&gl=US&ceid=US:en\n",
            "\n"
          ]
        },
        {
          "output_type": "stream",
          "name": "stderr",
          "text": [
            "WARNING:urllib3.connectionpool:Retrying (Retry(total=1, connect=None, read=None, redirect=None, status=None)) after connection broken by 'ReadTimeoutError(\"HTTPSConnectionPool(host='nominatim.openstreetmap.org', port=443): Read timed out. (read timeout=1)\")': /search?q=Mariupol&format=json&limit=1\n"
          ]
        },
        {
          "output_type": "stream",
          "name": "stdout",
          "text": [
            "Mariupol defender appointed commander of Azov Brigade amid military reform - The Kyiv Independent\n",
            "Fri, 18 Apr 2025 07:00:00 GMT\n",
            "(47.0957648, 37.5499621)\n",
            "https://news.google.com/rss/articles/CBMikwFBVV95cUxPLS16eXNlUHltTlBFMWY2bVlYU21HMzVKOE5hVTJaTkc3ZzlITHlhREtTZnloTlE0dDdSdFBBdVdVY0pVbHFVX0RlVDBYMEVmOXl1elZFNTR2OXNzSENuMVNIQmJhVnEzbjY4ZjdpV3hLWm9qSW9KcTVJbjVlN19mRThOMkQyQlBvcFVWX2x5NlY0ekXSAZgBQVVfeXFMTjBRRk8tWGhXMDlFdzRBT2FLYWRnU0tHcTN2U3dZcFM0RUV2SllaZnBaaUxnakZ4TGR6VUdGbnJqRi15YkR2eU96ZDhjNjVnY0NjdDMyaUdPdkJBYkx5d0NxVUlnbVowWlhjSUJqUHF1VDc2U3oweXFiTm42dUdRSmUtdTYyc2JLVTZjRUlNNUFDLXI1UnN5UWk?oc=5&hl=en-US&gl=US&ceid=US:en\n",
            "\n",
            "AP evidence points to 600 dead in Mariupol theater airstrike - AP News\n",
            "Wed, 04 May 2022 07:00:00 GMT\n",
            "(47.0957648, 37.5499621)\n",
            "https://news.google.com/rss/articles/CBMimwFBVV95cUxORHVaeHdmcE9KRjBGX3Q2N09GV0xYRVVFeS1FZXVwd0VZeXFCSktfc2g4OG1CVnllOWFQVTY0X3BEa1djTENIRGJ5NmVoWlZtREFERU0ydjhlY2lDRkhwYzZ0Nkt5NWJCZlNNOS1FWmdpR29INzlBSTh0d2hNWm5hY3dxZ0FMSGNiOUV6M0F1OHNvUERwcE9MdUlKNA?oc=5&hl=en-US&gl=US&ceid=US:en\n",
            "\n"
          ]
        },
        {
          "output_type": "stream",
          "name": "stderr",
          "text": [
            "WARNING:urllib3.connectionpool:Retrying (Retry(total=1, connect=None, read=None, redirect=None, status=None)) after connection broken by 'ReadTimeoutError(\"HTTPSConnectionPool(host='nominatim.openstreetmap.org', port=443): Read timed out. (read timeout=1)\")': /search?q=Mariupol&format=json&limit=1\n"
          ]
        },
        {
          "output_type": "stream",
          "name": "stdout",
          "text": [
            "Timeline: Russia’s siege of Ukraine’s Mariupol - Al Jazeera\n",
            "Thu, 31 Mar 2022 07:00:00 GMT\n",
            "(47.0957648, 37.5499621)\n",
            "https://news.google.com/rss/articles/CBMingFBVV95cUxNbVdlZEpXVjk5aXVZTjRpYWpTZi1yd053dFF1Ynd0MkRtTy1VYmtzNTh0OE05SVduUTlGRnhDbGxmQS1QWDdwZENadU9fRS02S0doRmFLNHJhSUR6UFRKUUhidWh2RFVVUnNBVUJ2azRqOWhETGZXcFJyaTFxenRzQm1mMmhlR1V6RHVTd1Fabk9jcDRGeHJfdGJ6WmFWZ9IBowFBVV95cUxPdkpIZ01ZSHRzRTRyTmsxV2hMWlVzXzFfSERfb2huajZ0TU1LNXlRMzJiM3JFM3Rldnc1Z0Z3WHBZYnQ2cUNnS24wZUVEbUtFR0hPWmxuX3pzWkMwcm9GNlRSWmo5RGNUUXlNR3pxQ0JuLVVJWXJ6NHJ3TnBHck9uczRhZlpkUzAtcE5YUVZnOUoxeXlPQm03bG55QzVwOGRxQ200?oc=5&hl=en-US&gl=US&ceid=US:en\n",
            "\n"
          ]
        },
        {
          "output_type": "stream",
          "name": "stderr",
          "text": [
            "WARNING:urllib3.connectionpool:Retrying (Retry(total=1, connect=None, read=None, redirect=None, status=None)) after connection broken by 'ReadTimeoutError(\"HTTPSConnectionPool(host='nominatim.openstreetmap.org', port=443): Read timed out. (read timeout=1)\")': /search?q=Mariupol&format=json&limit=1\n"
          ]
        },
        {
          "output_type": "stream",
          "name": "stdout",
          "text": [
            "‘20 Days in Mariupol’ Review: Last Witnesses in a Martyred City (Published 2023) - The New York Times\n",
            "Thu, 13 Jul 2023 07:00:00 GMT\n",
            "(47.0957648, 37.5499621)\n",
            "https://news.google.com/rss/articles/CBMijgFBVV95cUxNNVE3djFJb0U0UThlQ3RybHRKU1VXcXBwM2JQSXZuOV9kVWZPeGdRNWFGaDZJY1lqZ1RnTGNma01lbk1Eak9USDZvWU9FQktOOUk4SUZlYnhESmluRXh0bklPQXJGdGZrZ0JKVGU5UVAyR1hqNmlvVUJsckF2U2YwSDZEMnJMMVMxWVRPZU5n?oc=5&hl=en-US&gl=US&ceid=US:en\n",
            "\n",
            "‘It’s like the USSR’: residents on life in Mariupol a year since Russian occupation - The Guardian\n",
            "Thu, 18 May 2023 07:00:00 GMT\n",
            "(47.0957648, 37.5499621)\n",
            "https://news.google.com/rss/articles/CBMiwwFBVV95cUxQcFRaVUp4cFJWUWJ4OUxwVHg1Y0E0czdLUEJFRjlxLVpvU29NZmJETElqbW1zT25LMnczamwtSWlPZTNIRDV3cmdwcUFnLUplQ0VjWGlyY2l1Wjdyb3lpVFNrd21IN1F5LWt2Vjl6TkJuZ3UzRWlZUkpGWTRMZ196b3V5aE1KUlZ5MmlLUm1CaExtMzktNUMySzMxenI5S2ttTDltY3V2Zm0yNDViNkJUUHhxVVV1R1FWNFBOQnpIY3dmSFk?oc=5&hl=en-US&gl=US&ceid=US:en\n",
            "\n"
          ]
        },
        {
          "output_type": "stream",
          "name": "stderr",
          "text": [
            "WARNING:urllib3.connectionpool:Retrying (Retry(total=1, connect=None, read=None, redirect=None, status=None)) after connection broken by 'ReadTimeoutError(\"HTTPSConnectionPool(host='nominatim.openstreetmap.org', port=443): Read timed out. (read timeout=1)\")': /search?q=Mariupol&format=json&limit=1\n"
          ]
        },
        {
          "output_type": "stream",
          "name": "stdout",
          "text": [
            "The battle for Mariupol nears end as Ukraine declares ‘combat mission’ over - CNN\n",
            "Tue, 17 May 2022 07:00:00 GMT\n",
            "(47.0957648, 37.5499621)\n",
            "https://news.google.com/rss/articles/CBMie0FVX3lxTE8zMHB6d21VZ0VJNHllNzZWb2xZSGd3STFSRFJrOEVUUjJiV281dUxLOUJXa0dnMW9zdjExekZ4WVFxMEFrc1hESXhWNl9OTmJNQkRDcll2amVQS1dyMlFvWmNzYThyV0hqZzRUWlpQSzU0dmFxa1dRY19nSdIBgAFBVV95cUxNNldBQm9qOVgxdlpRaDZCQ2QzNGd4b2FRYlBnS0kyVTVqdEhjb01Mc2g2aWxtTGIwNWptZ3NPWkRLUDFOTnZkdHE2ME50WnZqNnMxNGs4XzFEOVhqaF9RRHlneTlVMmJ4b0RTVVNQZG00eV9DRS1lMVVZVmZNZl91QQ?oc=5&hl=en-US&gl=US&ceid=US:en\n",
            "\n",
            "Inside Mariupol: Russia’s new Potemkin village - ig.ft.com\n",
            "Tue, 06 Feb 2024 08:00:00 GMT\n",
            "(47.0957648, 37.5499621)\n",
            "https://news.google.com/rss/articles/CBMiQEFVX3lxTE9XZXY2LWotVFppQ1VLaXA1Smhsd2dCdGFWUmFFT3ZRbXlCMWg4dS1TZ0JNU1VPSnNVUnRFcnV1SVk?oc=5&hl=en-US&gl=US&ceid=US:en\n",
            "\n",
            "Mariupol before and after: updated Google maps reveal destruction in Ukraine city - The Guardian\n",
            "Thu, 27 Apr 2023 07:00:00 GMT\n",
            "(47.0957648, 37.5499621)\n",
            "https://news.google.com/rss/articles/CBMixAFBVV95cUxQcEN6YXg5OS0xcm5kcktSaERPZm0xMlBlQUtjTGVjcC1melFWM00yQ2YxenB0TnpXb2NpR0Zmdl82bXl1dzBzQXVZUXZSeGxOZjR5OHFhS1FtTUt1Mkxpa1FQa2wwUVdqZU11bzN1UmdpVjFhTTdJZ1ZtTjRTdGpYM2dCWklqUmhLMXgzMzJWLW5jdEtSQjFZYWlOTWkxT0FveEtzU1FlUDRvanJ1Z2ZKSjNrV2ZIWTVNNVZkblVMUXZDbGFr?oc=5&hl=en-US&gl=US&ceid=US:en\n",
            "\n"
          ]
        },
        {
          "output_type": "stream",
          "name": "stderr",
          "text": [
            "WARNING:urllib3.connectionpool:Retrying (Retry(total=1, connect=None, read=None, redirect=None, status=None)) after connection broken by 'ReadTimeoutError(\"HTTPSConnectionPool(host='nominatim.openstreetmap.org', port=443): Read timed out. (read timeout=1)\")': /search?q=Mariupol&format=json&limit=1\n"
          ]
        },
        {
          "output_type": "stream",
          "name": "stdout",
          "text": [
            "‘They never expected Mariupol to resist.’ Locals horrified by Russia’s relentless attack on the vast steel plant shielding Ukrainians - CNN\n",
            "Fri, 29 Apr 2022 07:00:00 GMT\n",
            "(47.0957648, 37.5499621)\n",
            "https://news.google.com/rss/articles/CBMiggFBVV95cUxOcnpSU1E2NWVZRTZaZ1JzczlzRi1mOGFNTE5qTmtTTXZTNVhRekZObTVVZXdBMFRJYnU4eU5TWVQ5aHpySWE4ODVsUFl5OWtuLWtLUDBPelZNZVBEMjhaeGxOWHJkS2swZ09lXzhqSzNDbmVBaTVnWWYtQTJmMFlHS2Jn?oc=5&hl=en-US&gl=US&ceid=US:en\n",
            "\n"
          ]
        },
        {
          "output_type": "stream",
          "name": "stderr",
          "text": [
            "WARNING:urllib3.connectionpool:Retrying (Retry(total=1, connect=None, read=None, redirect=None, status=None)) after connection broken by 'ReadTimeoutError(\"HTTPSConnectionPool(host='nominatim.openstreetmap.org', port=443): Read timed out. (read timeout=1)\")': /search?q=Mariupol&format=json&limit=1\n"
          ]
        },
        {
          "output_type": "stream",
          "name": "stdout",
          "text": [
            "‘The heart of the war’: Inside the secret talks with Putin’s generals that ended the siege of Mariupol - CNN\n",
            "Thu, 09 Mar 2023 08:00:00 GMT\n",
            "(47.0957648, 37.5499621)\n",
            "https://news.google.com/rss/articles/CBMigwFBVV95cUxOdTVtTXJFejF2X3NyaFRYS0Z3REZnSlZKQ2phOHVvQXJKbmRzTXNQVElQY3pnTmx2OUNmVkZocWN3NVEzWGJsa3k2WUNqbHNKYjJUaW10SC03S0FzQ2hWUlQyTUJlOWZ1X0l4aXd1cGFKS3A2cW1FdTdpeGVjVGNjQlExTdIBiAFBVV95cUxPY19pS2ZZeUNhckVHRkFlZ2FlQkdiQm1QQ2JhdEViVVdqYV94MmhyQk9kbEVhR1d4aVhWUjRmbG9CSS1RalZZVFREcWtRaV9RMjlEMGljTW1MSlU1MXJFY2h2alYzMXhRaXMxM3FoQ3c0Sks1U29RNjcybHJINVk2QVk1Tko2X19q?oc=5&hl=en-US&gl=US&ceid=US:en\n",
            "\n",
            "Mariupol: The ruin of a city - The Guardian\n",
            "Thu, 23 Feb 2023 08:00:00 GMT\n",
            "(47.0957648, 37.5499621)\n",
            "https://news.google.com/rss/articles/CBMikgFBVV95cUxPM09zNVpTNGplT2k1MmNTZTJaUHlfMTNmTjRpOEJGZ1VJY0tMbU1RcXpTTGZNSXhKLWJGZ000WXVQZ1hLZ2ZRdnBJNHBGM2JDZWVWdnlJVWxDTjllRjZWWENfZUR2SE1HdnNRazVqdkxIa2NtbFFabVVjajVFdlBDZHdnVXRTcjNROVN3N2ZkdXFZZw?oc=5&hl=en-US&gl=US&ceid=US:en\n",
            "\n"
          ]
        },
        {
          "output_type": "stream",
          "name": "stderr",
          "text": [
            "WARNING:urllib3.connectionpool:Retrying (Retry(total=1, connect=None, read=None, redirect=None, status=None)) after connection broken by 'ReadTimeoutError(\"HTTPSConnectionPool(host='nominatim.openstreetmap.org', port=443): Read timed out. (read timeout=1)\")': /search?q=Mariupol&format=json&limit=1\n"
          ]
        },
        {
          "output_type": "stream",
          "name": "stdout",
          "text": [
            "‘Defenders of Mariupol are the heroes of our time’: the battle that gripped the world - The Guardian\n",
            "Tue, 17 May 2022 07:00:00 GMT\n",
            "(47.0957648, 37.5499621)\n",
            "https://news.google.com/rss/articles/CBMixwFBVV95cUxQTHNuUGQ4T0VFR3oxeHlreTJLcXl3d1VqNGpyQW00OTEyUG9UMW1xVHNLTnpDTnlmX3RTN282RmNhdHNtbmJkQ0VlZjNOdTlyTldvSk1lQ2dnRDhvblhORGJPS3hXMkpiRVMxSFMwX1Y2bjd0dUNxeDR5OEdERGFwcWVvMmxQZEI2LTdqYUZDc1ZDSFZ0NzNITUFjS2MxSWE0TWl5UExaZXlKb3ZWQUZtZW54VWRycUQxcl9Lbjc2NjZTV2ZycEtZ?oc=5&hl=en-US&gl=US&ceid=US:en\n",
            "\n"
          ]
        },
        {
          "output_type": "stream",
          "name": "stderr",
          "text": [
            "WARNING:urllib3.connectionpool:Retrying (Retry(total=1, connect=None, read=None, redirect=None, status=None)) after connection broken by 'ReadTimeoutError(\"HTTPSConnectionPool(host='nominatim.openstreetmap.org', port=443): Read timed out. (read timeout=1)\")': /search?q=Mariupol&format=json&limit=1\n"
          ]
        },
        {
          "output_type": "stream",
          "name": "stdout",
          "text": [
            "Explainer: Mariupol, the ruined port city that Russia says it has \"liberated\" - Reuters\n",
            "Thu, 21 Apr 2022 07:00:00 GMT\n",
            "(47.0957648, 37.5499621)\n",
            "https://news.google.com/rss/articles/CBMirAFBVV95cUxNRkpzZERGVGJjaGItUUNFMnhWQml2cnVaUEtpTTBlUmhyT21uaEQ0SV9jRnBwN25RMGFxMnBzQjFmMjE4VXg2aVhBWVlaU3Q0V0Z2QzY1ZVFMb0s3UWFzUDBXT2JDRDMxSnZ0YjNrajM0eHZKTFJ1VlpPN1JXaHdoa1EtWEJDSUV5V25hV3Q0S3VRTFNBalQwcnhiaEZzUFY3eFIyZDZnUTJFYVNR?oc=5&hl=en-US&gl=US&ceid=US:en\n",
            "\n"
          ]
        },
        {
          "output_type": "stream",
          "name": "stderr",
          "text": [
            "WARNING:urllib3.connectionpool:Retrying (Retry(total=1, connect=None, read=None, redirect=None, status=None)) after connection broken by 'ReadTimeoutError(\"HTTPSConnectionPool(host='nominatim.openstreetmap.org', port=443): Read timed out. (read timeout=1)\")': /search?q=Mariupol&format=json&limit=1\n"
          ]
        },
        {
          "output_type": "stream",
          "name": "stdout",
          "text": [
            "Ukraine: “Children”: The attack on the Donetsk Regional Academic Drama Theatre in Mariupol, Ukraine - Amnesty International\n",
            "Thu, 30 Jun 2022 07:00:00 GMT\n",
            "(47.0957648, 37.5499621)\n",
            "https://news.google.com/rss/articles/CBMiZ0FVX3lxTFBxZDlJcEx5YzRIT3FnM240d2FmWUtxRkhRLW1saFhpQ0VzR1hVYVl5OHlmUHBJLTZ4NC1Pbmw3T20tb3BnR1FJM05oZm9VSk9XblRqSGlGc05hakxONi1McDI1NF9ydDg?oc=5&hl=en-US&gl=US&ceid=US:en\n",
            "\n",
            "‘20 Days in Mariupol’: Where to Watch the Oscar-Winning Documentary - PBS\n",
            "Sun, 10 Mar 2024 08:00:00 GMT\n",
            "(47.0957648, 37.5499621)\n",
            "https://news.google.com/rss/articles/CBMitAFBVV95cUxNb0Q3X3Nrd3d6VnY2MGw2Z0QtelhCcXJkOEd3NzdjbmFaZUp2NXFpZEEtcTFLbHFxLWdkWlNsUE1icUpHX2lqbXlSMmNkcnYtTjh1V0dLSmtxY21QcmNxTmVpM0Z1czN5OXlMZTNDbGtlQ3RtUVAwWWM1dzRYc3hQVEFXVE5tdU41dGtvZDZMbUJEM01CQ0FqbVF1OWtmdTBRZDZpeDJmYTZqSGVQcnViRE9pcWM?oc=5&hl=en-US&gl=US&ceid=US:en\n",
            "\n"
          ]
        },
        {
          "output_type": "stream",
          "name": "stderr",
          "text": [
            "WARNING:urllib3.connectionpool:Retrying (Retry(total=1, connect=None, read=None, redirect=None, status=None)) after connection broken by 'ReadTimeoutError(\"HTTPSConnectionPool(host='nominatim.openstreetmap.org', port=443): Read timed out. (read timeout=1)\")': /search?q=Mariupol&format=json&limit=1\n"
          ]
        },
        {
          "output_type": "stream",
          "name": "stdout",
          "text": [
            "Ukraine War: US 'deeply concerned' at report of Mariupol chemical attack - BBC\n",
            "Tue, 12 Apr 2022 07:00:00 GMT\n",
            "(47.0957648, 37.5499621)\n",
            "https://news.google.com/rss/articles/CBMiWkFVX3lxTE5IdkU0T3dmcnRHMEQ4OFRYZFZGZm5ZMGR1Zk5ZalROT2VZY1dIVnJ1SjdWOVgyZ3ZsYmI0ZF9QcEhRQkdNdUFhMmktNFJ1eEpsZUFuck5RLThJZ9IBX0FVX3lxTFBYSUZ6cUZkTzNpU09DNVlqTWZodjdjRnFqQ3dEdF9KUGZnd3kxWWFTQjRWYm9yeWRDbHQwcFk1NlBJdjQzQ0lwajFkX2R3dzlxMWZTbHNjeEFYdmQzV3Zz?oc=5&hl=en-US&gl=US&ceid=US:en\n",
            "\n",
            "Last Stand at Azovstal: Inside the Siege That Shaped the Ukraine War (Published 2022) - The New York Times\n",
            "Wed, 27 Jul 2022 07:00:00 GMT\n",
            "(47.0957648, 37.5499621)\n",
            "https://news.google.com/rss/articles/CBMiigFBVV95cUxPTEljSjJRdHEtMTdZTFdzMDZqOVduRk9tRmhIMDV4TElLWkNBc0FwV3lGUWt1X3lLenBreVdtV3pnVTZuQlEwbXlJa2V2SXpqSmdqUkJZZnBQVktmTldpSk9YYkhsU1oxdHF3YnZnMUhHUFR5R3EwU0VicFJrak5CeW10MVNUVFdoT0E?oc=5&hl=en-US&gl=US&ceid=US:en\n",
            "\n"
          ]
        }
      ]
    },
    {
      "cell_type": "code",
      "source": [
        "import import_ipynb\n",
        "import sys\n",
        "\n",
        "sys.path.append('/content/drive/MyDrive/Colab Notebooks')"
      ],
      "metadata": {
        "id": "o8PCFLNZRLf2"
      },
      "execution_count": null,
      "outputs": []
    },
    {
      "cell_type": "code",
      "source": [
        "prompt = \"\"\"You are an OSINT analyst reviewing reported events in Mariupol between March and June 2022.\n",
        "The following healines may relate to damage, airstrikes, and conflict events.\n",
        "Your taks is to:\n",
        "1. Identify key incidents (who/what/when/where),\n",
        "2. Group them by date or location if appropriate,\n",
        "3. Indicate confidence level if details are unclear,\n",
        "4. Suggest whether any might explain observed SAR-detected structural changes.\n",
        "Headlines:\n",
        "\n",
        "\"\"\"\n",
        "\n",
        "for article in news_data:\n",
        "  title = article.get(\"title\", \"\")\n",
        "  date = article.get(\"publishedAt\", \"\") [:10]\n",
        "  prompt += f\"- ({date}) {title}\\n\""
      ],
      "metadata": {
        "id": "Kw9svqlsUtYx"
      },
      "execution_count": null,
      "outputs": []
    },
    {
      "cell_type": "code",
      "source": [
        "from google.colab import drive\n",
        "drive.mount('/content/drive')\n",
        "\n",
        "import sys\n",
        "sys.path.append('/content/drive/MyDrive/Colab Notebooks')\n"
      ],
      "metadata": {
        "colab": {
          "base_uri": "https://localhost:8080/"
        },
        "id": "FfZ0_MMdW2k8",
        "outputId": "62ede5f2-8543-4c02-d681-d61b53db9d73"
      },
      "execution_count": null,
      "outputs": [
        {
          "output_type": "stream",
          "name": "stdout",
          "text": [
            "Drive already mounted at /content/drive; to attempt to forcibly remount, call drive.mount(\"/content/drive\", force_remount=True).\n"
          ]
        }
      ]
    },
    {
      "cell_type": "code",
      "source": [
        "# openai_key.py should contain:\n",
        "# import openai\n",
        "# openai.api_key = \"sk-...\"\n",
        "\n",
        "# gnews_key.py should contain:\n",
        "# GNEWS_API_KEY = \"your-gnews-api-key\"\n",
        "\n",
        "from openai_key import openai\n",
        "from gnews_key import GNEWS_API_KEY\n",
        "from openai import OpenAI\n",
        "\n"
      ],
      "metadata": {
        "id": "PhD1X3MKXycD"
      },
      "execution_count": null,
      "outputs": []
    },
    {
      "cell_type": "code",
      "source": [
        "import requests\n",
        "from geopy.geocoders import Nominatim\n",
        "\n",
        "client = OpenAI(api_key=openai.api_key)\n",
        "geolocator = Nominatim(user_agent=\"sar_change_osint\")\n",
        "\n",
        "query = \"Mariupol airstrike OR bombing OR war\"\n",
        "start_date = \"2022-03-01\"\n",
        "end_date = \"2022-06-30\"\n",
        "url = f\"https://gnews.io/api/v4/search?q={query}&from={start_date}&to={end_date}&lang=en&max=10&token={GNEWS_API_KEY}\"\n",
        "\n",
        "response = requests.get(url)\n",
        "news_data = response.json().get(\"articles\", [])\n",
        "print(f\"Retrieved {len(news_data)} articles\")\n"
      ],
      "metadata": {
        "colab": {
          "base_uri": "https://localhost:8080/"
        },
        "id": "sF5hUOmIYumT",
        "outputId": "d21f62dc-1f2e-4388-960f-4a1d1a70f84c"
      },
      "execution_count": null,
      "outputs": [
        {
          "output_type": "stream",
          "name": "stdout",
          "text": [
            "Retrieved 10 articles\n"
          ]
        }
      ]
    },
    {
      "cell_type": "code",
      "source": [
        "prompt = \"\"\"\n",
        "You are an OSINT analyst. Below are news headlines about Mariupol, Ukraine from March to June 2022.\n",
        "\n",
        "Your task:\n",
        "1. Extract reported events: what happened, where, when.\n",
        "2. Group events by time/location/theme.\n",
        "3. Flag any that likely caused structural damage (airstrikes, demolitions, sieges).\n",
        "4. Estimate confidence based on repetition or specificity.\n",
        "\n",
        "Headlines:\n",
        "\"\"\"\n",
        "\n",
        "for article in news_data:\n",
        "    title = article.get(\"title\", \"\")\n",
        "    date = article.get(\"publishedAt\", \"\")[:10]\n",
        "    prompt += f\"- ({date}) {title}\\n\"\n"
      ],
      "metadata": {
        "id": "rvzDI_tCZNbW"
      },
      "execution_count": null,
      "outputs": []
    },
    {
      "cell_type": "code",
      "source": [
        "gpt_response = client.chat.completions.create(\n",
        "    model=\"gpt-4o\",\n",
        "    messages=[{\"role\": \"user\", \"content\": prompt}],\n",
        "    temperature=0.4\n",
        ")\n",
        "\n",
        "summary = gpt_response.choices[0].message.content\n",
        "print(\"GPT-Generated OSINT Summary:\\n\")\n",
        "print(summary)\n"
      ],
      "metadata": {
        "colab": {
          "base_uri": "https://localhost:8080/"
        },
        "id": "HfDlALj4ZS5B",
        "outputId": "fbddeeeb-4937-46c4-ce90-aef33ec13506"
      },
      "execution_count": null,
      "outputs": [
        {
          "output_type": "stream",
          "name": "stdout",
          "text": [
            "🧠 GPT-Generated OSINT Summary:\n",
            "\n",
            "### Extracted Events\n",
            "\n",
            "1. **Prisoner Swap and Captures:**\n",
            "   - **Event:** Ukrainian soldiers captured by Russia in Mariupol were released in a prisoner swap.\n",
            "   - **Location:** Mariupol, Ukraine\n",
            "   - **Date:** June 27, 2025\n",
            "   - **Confidence:** High (specific mention of soldiers captured in Mariupol and released)\n",
            "\n",
            "2. **Theatre Bombing:**\n",
            "   - **Event:** Bombing of a theatre in Mariupol, Ukraine.\n",
            "   - **Location:** Mariupol, Ukraine\n",
            "   - **Date:** Not specified in the headlines, but implied through retrospective accounts and plays.\n",
            "   - **Confidence:** High (repeated references to the event in different contexts)\n",
            "\n",
            "3. **Prison Terms for Azov Fighters:**\n",
            "   - **Event:** Russia handed prison terms to Ukrainian 'Azov' fighters.\n",
            "   - **Location:** Not specifically mentioned, but related to Mariupol due to Azov's defense of the city.\n",
            "   - **Date:** March 26, 2025\n",
            "   - **Confidence:** Medium (specific event but location inferred)\n",
            "\n",
            "4. **Starvation Tactics:**\n",
            "   - **Event:** Accusations of Russia using starvation tactics in Mariupol.\n",
            "   - **Location:** Mariupol, Ukraine\n",
            "   - **Date:** June 12, 2024\n",
            "   - **Confidence:** Medium (specific accusation but requires further corroboration)\n",
            "\n",
            "### Grouped Events\n",
            "\n",
            "1. **Mariupol Theatre Bombing:**\n",
            "   - **Theme:** Cultural and historical impact of the bombing.\n",
            "   - **Related Headlines:** \n",
            "     - Actors bring the story of bombing to the stage (2025-01-14)\n",
            "     - Play about the bombing of a theatre (2025-01-10)\n",
            "\n",
            "2. **Military and Humanitarian Issues:**\n",
            "   - **Theme:** Military engagements and humanitarian crises.\n",
            "   - **Related Headlines:**\n",
            "     - Soldiers captured and released in Mariupol (2025-06-27)\n",
            "     - Russia using starvation tactics (2024-06-12)\n",
            "\n",
            "3. **Legal and Political Developments:**\n",
            "   - **Theme:** Legal actions and international relations.\n",
            "   - **Related Headlines:**\n",
            "     - Prison terms for Azov fighters (2025-03-26)\n",
            "     - Washington clears Azov brigade for US support (2024-06-12)\n",
            "\n",
            "### Flagged Events Likely Causing Structural Damage\n",
            "\n",
            "1. **Theatre Bombing in Mariupol:**\n",
            "   - **Reason:** Direct reference to a bombing event.\n",
            "   - **Confidence:** High (multiple references)\n",
            "\n",
            "2. **Starvation Tactics:**\n",
            "   - **Reason:** While not directly causing structural damage, such tactics imply severe humanitarian impact and potential infrastructure damage due to siege conditions.\n",
            "   - **Confidence:** Medium\n",
            "\n",
            "### Confidence Estimation\n",
            "\n",
            "- **High Confidence:** Events with specific details and repeated mentions across multiple sources (e.g., theatre bombing, prisoner swap).\n",
            "- **Medium Confidence:** Events with specific details but inferred locations or requiring further corroboration (e.g., prison terms for Azov fighters, starvation tactics).\n"
          ]
        }
      ]
    },
    {
      "cell_type": "code",
      "source": [],
      "metadata": {
        "id": "MwhYdMq9beuQ"
      },
      "execution_count": null,
      "outputs": []
    }
  ]
}