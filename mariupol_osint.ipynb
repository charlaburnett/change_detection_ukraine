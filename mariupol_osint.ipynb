{
  "nbformat": 4,
  "nbformat_minor": 0,
  "metadata": {
    "colab": {
      "provenance": [],
      "authorship_tag": "ABX9TyP5Qp611nXVmPy01nm+2N9l",
      "include_colab_link": true
    },
    "kernelspec": {
      "name": "python3",
      "display_name": "Python 3"
    },
    "language_info": {
      "name": "python"
    }
  },
  "cells": [
    {
      "cell_type": "markdown",
      "metadata": {
        "id": "view-in-github",
        "colab_type": "text"
      },
      "source": [
        "<a href=\"https://colab.research.google.com/github/charlaburnett/change_detection_ukraine/blob/main/mariupol_osint.ipynb\" target=\"_parent\"><img src=\"https://colab.research.google.com/assets/colab-badge.svg\" alt=\"Open In Colab\"/></a>"
      ]
    },
    {
      "cell_type": "code",
      "execution_count": 83,
      "metadata": {
        "id": "x2SeyLQosyzI"
      },
      "outputs": [],
      "source": [
        "#Geotag News Lookup"
      ]
    },
    {
      "cell_type": "code",
      "source": [
        "#Add location Geocoding support\n",
        "from geopy.geocoders import Nominatim\n",
        "geolocator = Nominatim(user_agent=\"sar_change_osint\")\n",
        "\n",
        "for article in news_data:\n",
        "    title = article[\"title\"]\n",
        "    pub_date = article[\"publishedAt\"]\n",
        "    location_guess = \"Mariupol\"  # Simplified assumption\n",
        "\n",
        "    try:\n",
        "        loc = geolocator.geocode(location_guess)\n",
        "        coords = (loc.latitude, loc.longitude) if loc else (\"N/A\", \"N/A\")\n",
        "    except:\n",
        "        coords = (\"N/A\", \"N/A\")\n",
        "\n",
        "    print(f\"{title}\")\n",
        "    print(f\"{pub_date}\")\n",
        "    print(f\"{coords}\")\n",
        "    print(f\"{article['url']}\\n\")\n"
      ],
      "metadata": {
        "colab": {
          "base_uri": "https://localhost:8080/"
        },
        "id": "rjFqmSRIvCHb",
        "outputId": "c8c5f66d-74ca-4900-e3f5-1d23534fc1b1"
      },
      "execution_count": 84,
      "outputs": [
        {
          "output_type": "stream",
          "name": "stdout",
          "text": [
            "Ukraine war briefing: Soldiers captured by Russia in Mariupol among those released in prisoner swap\n",
            "2025-06-27T00:58:13Z\n",
            "(47.0957648, 37.5499621)\n",
            "https://www.theguardian.com/world/2025/jun/27/ukraine-war-briefing-soldiers-captured-by-russia-in-mariupol-among-those-released-in-prisoner-swap\n",
            "\n"
          ]
        },
        {
          "output_type": "stream",
          "name": "stderr",
          "text": [
            "WARNING:urllib3.connectionpool:Retrying (Retry(total=1, connect=None, read=None, redirect=None, status=None)) after connection broken by 'ReadTimeoutError(\"HTTPSConnectionPool(host='nominatim.openstreetmap.org', port=443): Read timed out. (read timeout=1)\")': /search?q=Mariupol&format=json&limit=1\n"
          ]
        },
        {
          "output_type": "stream",
          "name": "stdout",
          "text": [
            "Ukraine war briefing: Deaths in Kharkiv as Russia continues strikes on civilian targets\n",
            "2025-06-11T00:03:50Z\n",
            "(47.0957648, 37.5499621)\n",
            "https://www.theguardian.com/world/2025/jun/11/ukraine-war-briefing-deaths-in-kharkiv-as-russia-continues-strikes-on-civilian-targets\n",
            "\n"
          ]
        },
        {
          "output_type": "stream",
          "name": "stderr",
          "text": [
            "WARNING:urllib3.connectionpool:Retrying (Retry(total=1, connect=None, read=None, redirect=None, status=None)) after connection broken by 'ReadTimeoutError(\"HTTPSConnectionPool(host='nominatim.openstreetmap.org', port=443): Read timed out. (read timeout=1)\")': /search?q=Mariupol&format=json&limit=1\n"
          ]
        },
        {
          "output_type": "stream",
          "name": "stdout",
          "text": [
            "Russia hands prison terms to Ukrainian 'Azov' fighters\n",
            "2025-03-26T00:00:00Z\n",
            "(47.0957648, 37.5499621)\n",
            "https://www.rte.ie/news/ukraine/2025/0326/1504223-azov-fighters/\n",
            "\n",
            "Actors who sheltered in Ukraine's Mariupol theatre bring story of bombing to the stage\n",
            "2025-01-14T01:38:00Z\n",
            "(47.0957648, 37.5499621)\n",
            "https://news.sky.com/story/actors-who-sheltered-in-ukraines-mariupol-theatre-bring-story-of-bombing-to-the-stage-13288135\n",
            "\n"
          ]
        },
        {
          "output_type": "stream",
          "name": "stderr",
          "text": [
            "WARNING:urllib3.connectionpool:Retrying (Retry(total=1, connect=None, read=None, redirect=None, status=None)) after connection broken by 'ReadTimeoutError(\"HTTPSConnectionPool(host='nominatim.openstreetmap.org', port=443): Read timed out. (read timeout=1)\")': /search?q=Mariupol&format=json&limit=1\n"
          ]
        },
        {
          "output_type": "stream",
          "name": "stdout",
          "text": [
            "‘If you hear the siren, go to the shelter’: the wrenching play about the bombing of a theatre in Ukraine\n",
            "2025-01-10T15:16:12Z\n",
            "(47.0957648, 37.5499621)\n",
            "https://www.theguardian.com/stage/2025/jan/10/if-you-hear-the-siren-go-to-the-shelter-the-wrenching-play-about-the-bombing-of-a-theatre-in-ukraine\n",
            "\n",
            "‘Mariupolis 2' is a grim portrait of war. Lithuanian diplomat wishes it was never made\n",
            "2024-11-02T03:33:54Z\n",
            "(47.0957648, 37.5499621)\n",
            "https://theprint.in/feature/around-town/mariupolis-2-is-a-grim-portrait-of-war-lithuania-ukraine-russia/2338019/\n",
            "\n"
          ]
        },
        {
          "output_type": "stream",
          "name": "stderr",
          "text": [
            "WARNING:urllib3.connectionpool:Retrying (Retry(total=1, connect=None, read=None, redirect=None, status=None)) after connection broken by 'ReadTimeoutError(\"HTTPSConnectionPool(host='nominatim.openstreetmap.org', port=443): Read timed out. (read timeout=1)\")': /search?q=Mariupol&format=json&limit=1\n"
          ]
        },
        {
          "output_type": "stream",
          "name": "stdout",
          "text": [
            "Russia accused of using hunger as a weapon of war in Ukraine\n",
            "2024-06-13T16:39:56Z\n",
            "(47.0957648, 37.5499621)\n",
            "https://edition.cnn.com/2024/06/13/europe/russia-ukraine-mariupol-hunger-war-crime-intl/index.html\n",
            "\n",
            "Ukraine war briefing: Russian strike on city of Kryvyi Rih kills nine, including five children\n",
            "2024-06-13T00:29:00Z\n",
            "(47.0957648, 37.5499621)\n",
            "https://www.theguardian.com/world/article/2024/jun/13/ukraine-war-briefing-russian-strike-on-city-of-kryvyi-rih-kills-nine-including-five-children\n",
            "\n",
            "Russia accused of ‘deliberate’ starvation tactics in Mariupol in submission to ICC\n",
            "2024-06-12T23:01:10Z\n",
            "(47.0957648, 37.5499621)\n",
            "https://www.theguardian.com/world/article/2024/jun/13/russia-accused-of-deliberate-starvation-tactics-in-mariupol-in-submission-to-icc\n",
            "\n"
          ]
        },
        {
          "output_type": "stream",
          "name": "stderr",
          "text": [
            "WARNING:urllib3.connectionpool:Retrying (Retry(total=1, connect=None, read=None, redirect=None, status=None)) after connection broken by 'ReadTimeoutError(\"HTTPSConnectionPool(host='nominatim.openstreetmap.org', port=443): Read timed out. (read timeout=1)\")': /search?q=Mariupol&format=json&limit=1\n"
          ]
        },
        {
          "output_type": "stream",
          "name": "stdout",
          "text": [
            "Ukraine war briefing: Washington clears Azov brigade for US weapons and training\n",
            "2024-06-12T01:18:12Z\n",
            "(47.0957648, 37.5499621)\n",
            "https://www.theguardian.com/world/article/2024/jun/12/ukraine-war-briefing-washington-clears-azov-brigade-for-us-weapons-and-training\n",
            "\n"
          ]
        }
      ]
    },
    {
      "cell_type": "code",
      "source": [
        "import import_ipynb\n",
        "import sys\n",
        "\n",
        "sys.path.append('/content/drive/MyDrive/Colab Notebooks')"
      ],
      "metadata": {
        "id": "o8PCFLNZRLf2"
      },
      "execution_count": 85,
      "outputs": []
    },
    {
      "cell_type": "code",
      "source": [
        "prompt = \"\"\"You are an OSINT analyst reviewing reported events in Mariupol between March and June 2022.\n",
        "The following healines may relate to damage, airstrikes, and conflict events.\n",
        "Your taks is to:\n",
        "1. Identify key incidents (who/what/when/where),\n",
        "2. Group them by date or location if appropriate,\n",
        "3. Indicate confidence level if details are unclear,\n",
        "4. Suggest whether any might explain observed SAR-detected structural changes.\n",
        "Headlines:\n",
        "\n",
        "\"\"\"\n",
        "\n",
        "for article in news_data:\n",
        "  title = article.get(\"title\", \"\")\n",
        "  date = article.get(\"publishedAt\", \"\") [:10]\n",
        "  prompt += f\"- ({date}) {title}\\n\""
      ],
      "metadata": {
        "id": "Kw9svqlsUtYx"
      },
      "execution_count": 86,
      "outputs": []
    },
    {
      "cell_type": "code",
      "source": [
        "from google.colab import drive\n",
        "drive.mount('/content/drive')\n",
        "\n",
        "import sys\n",
        "sys.path.append('/content/drive/MyDrive/Colab Notebooks')\n"
      ],
      "metadata": {
        "colab": {
          "base_uri": "https://localhost:8080/"
        },
        "id": "FfZ0_MMdW2k8",
        "outputId": "62ede5f2-8543-4c02-d681-d61b53db9d73"
      },
      "execution_count": 87,
      "outputs": [
        {
          "output_type": "stream",
          "name": "stdout",
          "text": [
            "Drive already mounted at /content/drive; to attempt to forcibly remount, call drive.mount(\"/content/drive\", force_remount=True).\n"
          ]
        }
      ]
    },
    {
      "cell_type": "code",
      "source": [
        "# openai_key.py should contain:\n",
        "# import openai\n",
        "# openai.api_key = \"sk-...\"\n",
        "\n",
        "# gnews_key.py should contain:\n",
        "# GNEWS_API_KEY = \"your-gnews-api-key\"\n",
        "\n",
        "from openai_key import openai\n",
        "from gnews_key import GNEWS_API_KEY\n",
        "from openai import OpenAI\n",
        "\n"
      ],
      "metadata": {
        "id": "PhD1X3MKXycD"
      },
      "execution_count": 88,
      "outputs": []
    },
    {
      "cell_type": "code",
      "source": [
        "import requests\n",
        "from geopy.geocoders import Nominatim\n",
        "\n",
        "client = OpenAI(api_key=openai.api_key)\n",
        "geolocator = Nominatim(user_agent=\"sar_change_osint\")\n",
        "\n",
        "query = \"Mariupol airstrike OR bombing OR war\"\n",
        "start_date = \"2022-03-01\"\n",
        "end_date = \"2022-06-30\"\n",
        "url = f\"https://gnews.io/api/v4/search?q={query}&from={start_date}&to={end_date}&lang=en&max=10&token={GNEWS_API_KEY}\"\n",
        "\n",
        "response = requests.get(url)\n",
        "news_data = response.json().get(\"articles\", [])\n",
        "print(f\"Retrieved {len(news_data)} articles\")\n"
      ],
      "metadata": {
        "colab": {
          "base_uri": "https://localhost:8080/"
        },
        "id": "sF5hUOmIYumT",
        "outputId": "d21f62dc-1f2e-4388-960f-4a1d1a70f84c"
      },
      "execution_count": 89,
      "outputs": [
        {
          "output_type": "stream",
          "name": "stdout",
          "text": [
            "Retrieved 10 articles\n"
          ]
        }
      ]
    },
    {
      "cell_type": "code",
      "source": [
        "prompt = \"\"\"\n",
        "You are an OSINT analyst. Below are news headlines about Mariupol, Ukraine from March to June 2022.\n",
        "\n",
        "Your task:\n",
        "1. Extract reported events: what happened, where, when.\n",
        "2. Group events by time/location/theme.\n",
        "3. Flag any that likely caused structural damage (airstrikes, demolitions, sieges).\n",
        "4. Estimate confidence based on repetition or specificity.\n",
        "\n",
        "Headlines:\n",
        "\"\"\"\n",
        "\n",
        "for article in news_data:\n",
        "    title = article.get(\"title\", \"\")\n",
        "    date = article.get(\"publishedAt\", \"\")[:10]\n",
        "    prompt += f\"- ({date}) {title}\\n\"\n"
      ],
      "metadata": {
        "id": "rvzDI_tCZNbW"
      },
      "execution_count": 90,
      "outputs": []
    },
    {
      "cell_type": "code",
      "source": [
        "gpt_response = client.chat.completions.create(\n",
        "    model=\"gpt-4o\",\n",
        "    messages=[{\"role\": \"user\", \"content\": prompt}],\n",
        "    temperature=0.4\n",
        ")\n",
        "\n",
        "summary = gpt_response.choices[0].message.content\n",
        "print(\"GPT-Generated OSINT Summary:\\n\")\n",
        "print(summary)\n"
      ],
      "metadata": {
        "colab": {
          "base_uri": "https://localhost:8080/"
        },
        "id": "HfDlALj4ZS5B",
        "outputId": "fbddeeeb-4937-46c4-ce90-aef33ec13506"
      },
      "execution_count": 91,
      "outputs": [
        {
          "output_type": "stream",
          "name": "stdout",
          "text": [
            "🧠 GPT-Generated OSINT Summary:\n",
            "\n",
            "### Extracted Events\n",
            "\n",
            "1. **Prisoner Swap and Captures:**\n",
            "   - **Event:** Ukrainian soldiers captured by Russia in Mariupol were released in a prisoner swap.\n",
            "   - **Location:** Mariupol, Ukraine\n",
            "   - **Date:** June 27, 2025\n",
            "   - **Confidence:** High (specific mention of soldiers captured in Mariupol and released)\n",
            "\n",
            "2. **Theatre Bombing:**\n",
            "   - **Event:** Bombing of a theatre in Mariupol, Ukraine.\n",
            "   - **Location:** Mariupol, Ukraine\n",
            "   - **Date:** Not specified in the headlines, but implied through retrospective accounts and plays.\n",
            "   - **Confidence:** High (repeated references to the event in different contexts)\n",
            "\n",
            "3. **Prison Terms for Azov Fighters:**\n",
            "   - **Event:** Russia handed prison terms to Ukrainian 'Azov' fighters.\n",
            "   - **Location:** Not specifically mentioned, but related to Mariupol due to Azov's defense of the city.\n",
            "   - **Date:** March 26, 2025\n",
            "   - **Confidence:** Medium (specific event but location inferred)\n",
            "\n",
            "4. **Starvation Tactics:**\n",
            "   - **Event:** Accusations of Russia using starvation tactics in Mariupol.\n",
            "   - **Location:** Mariupol, Ukraine\n",
            "   - **Date:** June 12, 2024\n",
            "   - **Confidence:** Medium (specific accusation but requires further corroboration)\n",
            "\n",
            "### Grouped Events\n",
            "\n",
            "1. **Mariupol Theatre Bombing:**\n",
            "   - **Theme:** Cultural and historical impact of the bombing.\n",
            "   - **Related Headlines:** \n",
            "     - Actors bring the story of bombing to the stage (2025-01-14)\n",
            "     - Play about the bombing of a theatre (2025-01-10)\n",
            "\n",
            "2. **Military and Humanitarian Issues:**\n",
            "   - **Theme:** Military engagements and humanitarian crises.\n",
            "   - **Related Headlines:**\n",
            "     - Soldiers captured and released in Mariupol (2025-06-27)\n",
            "     - Russia using starvation tactics (2024-06-12)\n",
            "\n",
            "3. **Legal and Political Developments:**\n",
            "   - **Theme:** Legal actions and international relations.\n",
            "   - **Related Headlines:**\n",
            "     - Prison terms for Azov fighters (2025-03-26)\n",
            "     - Washington clears Azov brigade for US support (2024-06-12)\n",
            "\n",
            "### Flagged Events Likely Causing Structural Damage\n",
            "\n",
            "1. **Theatre Bombing in Mariupol:**\n",
            "   - **Reason:** Direct reference to a bombing event.\n",
            "   - **Confidence:** High (multiple references)\n",
            "\n",
            "2. **Starvation Tactics:**\n",
            "   - **Reason:** While not directly causing structural damage, such tactics imply severe humanitarian impact and potential infrastructure damage due to siege conditions.\n",
            "   - **Confidence:** Medium\n",
            "\n",
            "### Confidence Estimation\n",
            "\n",
            "- **High Confidence:** Events with specific details and repeated mentions across multiple sources (e.g., theatre bombing, prisoner swap).\n",
            "- **Medium Confidence:** Events with specific details but inferred locations or requiring further corroboration (e.g., prison terms for Azov fighters, starvation tactics).\n"
          ]
        }
      ]
    },
    {
      "cell_type": "code",
      "source": [],
      "metadata": {
        "id": "MwhYdMq9beuQ"
      },
      "execution_count": 91,
      "outputs": []
    }
  ]
}